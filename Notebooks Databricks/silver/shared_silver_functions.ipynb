{
 "cells": [
  {
   "cell_type": "code",
   "execution_count": 0,
   "metadata": {
    "application/vnd.databricks.v1+cell": {
     "cellMetadata": {
      "byteLimit": 2048000,
      "rowLimit": 10000
     },
     "inputWidgets": {},
     "nuid": "cfab84d1-1fab-4dbc-bb3d-fac8327ef085",
     "showTitle": false,
     "title": ""
    }
   },
   "outputs": [],
   "source": [
    "'''\n",
    "Definindo funções da camada Silver a serem utilizadas entre notebooks\n",
    "'''\n",
    "\n",
    "def clean_and_cast_to_int(df, column_name):\n",
    "    # Remover todos os caracteres não numéricos\n",
    "    df = df.withColumn(column_name, F.regexp_replace(df[column_name], '\\D', ''))\n",
    "    \n",
    "    # Transformar valores não nulos em inteiros\n",
    "    df = df.withColumn(\n",
    "        column_name,\n",
    "        F.when(F.col(column_name).isNotNull() & (F.col(column_name) != ''), F.col(column_name).cast(\"int\"))\n",
    "         .otherwise(None)\n",
    "    )\n",
    "    return df\n",
    "\n",
    "# Funções de Teste\n",
    "def test_col_not_null(df, col_name):\n",
    "    print(f\"Avaliando a condição {col_name} não contem nulos\")\n",
    "    # Filtra linhas onde a coluna é nula\n",
    "    null_count = df.filter(F.col(col_name).isNull()).count()\n",
    "    \n",
    "    # Verifica se o número de valores nulos é zero\n",
    "    assert null_count == 0, f\"Coluna {col_name} contém valores null\"\n",
    "\n",
    "def test_biggest_date_before_current_date(df, col_name):\n",
    "    print(f\"Avaliando a condição {col_name} menor que a data atual\")\n",
    "    # Obter a data atual\n",
    "    current_date = F.current_date()\n",
    "\n",
    "    # Obter a maior data na coluna especificada\n",
    "    max_date = df.agg(F.max(col_name)).collect()[0][0]\n",
    "    \n",
    "    # Verificar se a maior data é antes da data atual\n",
    "    assert max_date <= df.select(current_date).collect()[0][0], f\"A maior data na coluna {col_name} é posterior a data atual\"\n",
    "\n",
    "\n",
    "def test_value_range(df, col_name, condition):\n",
    "    df_filtered = df.filter(F.expr(f\"{col_name} {condition}\"))\n",
    "    print(f\"Avaliando a condição {col_name} {condition}\")\n",
    "    #df_filtered.display()\n",
    "    assert df.count() == df_filtered.count(), f\"Os dados da coluna {col_name} não atendem a condição {condition}\"\n",
    "\n",
    "\n",
    "def test_weekday(df, col_name):\n",
    "    print(f\"Avaliando a condição {col_name} está dentre os valores aceitos para o dia de semana\")\n",
    "    # Obter os valores distintos da coluna\n",
    "    distinct_values = df.select(col_name).distinct().collect()\n",
    "    \n",
    "    # Converter os valores distintos para uma lista de strings\n",
    "    distinct_values_list = [row[col_name] for row in distinct_values]\n",
    "    \n",
    "    # Lista de dias da semana\n",
    "    weekdays = ['Monday', 'Tuesday', 'Wednesday', 'Thursday', 'Friday', 'Saturday', 'Sunday']\n",
    "    \n",
    "    # Verificar se todos os valores distintos estão na lista de dias da semana\n",
    "    for value in distinct_values_list:\n",
    "        assert value in weekdays, f\"Os dados da coluna {col_name} não correspondem a dias de semana: {value}\"\n",
    "\n",
    "def test_IATA_codes(df, col_name):\n",
    "    print(f\"Avaliando a condição {col_name} contem 3 caracteres\")\n",
    "    nb_different = df.filter(F.length(F.col(col_name)) != 3).count()\n",
    "    assert nb_different == 0, \"Existem códigos IATA além de 3 dígitos\"\n",
    "\n",
    "def test_ICAO_codes(df, col_name):\n",
    "    print(f\"Avaliando a condição {col_name} contem 4 caracteres\")\n",
    "    nb_different = df.filter(F.length(F.col(col_name)) != 4).count()\n",
    "    assert nb_different == 0, \"Existem códigos IATA além de 4 dígitos\""
   ]
  }
 ],
 "metadata": {
  "application/vnd.databricks.v1+notebook": {
   "dashboards": [],
   "environmentMetadata": null,
   "language": "python",
   "notebookMetadata": {
    "pythonIndentUnit": 4
   },
   "notebookName": "shared_silver_functions",
   "widgets": {}
  }
 },
 "nbformat": 4,
 "nbformat_minor": 0
}
