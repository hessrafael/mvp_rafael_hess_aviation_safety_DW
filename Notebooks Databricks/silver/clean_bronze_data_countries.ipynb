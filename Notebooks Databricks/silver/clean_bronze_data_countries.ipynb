{
 "cells": [
  {
   "cell_type": "code",
   "execution_count": 0,
   "metadata": {
    "application/vnd.databricks.v1+cell": {
     "cellMetadata": {
      "byteLimit": 2048000,
      "rowLimit": 10000
     },
     "inputWidgets": {},
     "nuid": "38099933-d2e4-470c-a0e6-9aa8781da12a",
     "showTitle": false,
     "title": ""
    }
   },
   "outputs": [
    {
     "output_type": "execute_result",
     "data": {
      "text/plain": [
       "'\\nIniciando clean_bronze_data_countries\\n'"
      ]
     },
     "execution_count": 1,
     "metadata": {},
     "output_type": "execute_result"
    }
   ],
   "source": [
    "'''\n",
    "Iniciando clean_bronze_data_countries\n",
    "'''"
   ]
  },
  {
   "cell_type": "markdown",
   "metadata": {
    "application/vnd.databricks.v1+cell": {
     "cellMetadata": {
      "byteLimit": 2048000,
      "rowLimit": 10000
     },
     "inputWidgets": {},
     "nuid": "d286f668-cdcb-4f19-94a5-ce5cb88a5593",
     "showTitle": false,
     "title": ""
    }
   },
   "source": [
    "Importando funções comuns para uso no notebook"
   ]
  },
  {
   "cell_type": "code",
   "execution_count": 0,
   "metadata": {
    "application/vnd.databricks.v1+cell": {
     "cellMetadata": {
      "byteLimit": 2048000,
      "rowLimit": 10000
     },
     "collapsed": true,
     "inputWidgets": {},
     "nuid": "5b32b5fa-1f89-4d7c-84b4-39d39d15fcec",
     "showTitle": false,
     "title": ""
    }
   },
   "outputs": [],
   "source": [
    "%run\n",
    "./shared_silver_functions"
   ]
  },
  {
   "cell_type": "markdown",
   "metadata": {
    "application/vnd.databricks.v1+cell": {
     "cellMetadata": {
      "byteLimit": 2048000,
      "rowLimit": 10000
     },
     "inputWidgets": {},
     "nuid": "a9833080-267d-4166-a5a6-30a7c46bcae5",
     "showTitle": false,
     "title": ""
    }
   },
   "source": [
    "Inicializando sessão spark e importando dados do banco bronze"
   ]
  },
  {
   "cell_type": "code",
   "execution_count": 0,
   "metadata": {
    "application/vnd.databricks.v1+cell": {
     "cellMetadata": {
      "byteLimit": 2048000,
      "rowLimit": 10000
     },
     "inputWidgets": {},
     "nuid": "c9dda08a-43fb-43c9-80dd-7ac4d03c85cf",
     "showTitle": false,
     "title": ""
    }
   },
   "outputs": [
    {
     "output_type": "display_data",
     "data": {
      "text/html": [
       "<style scoped>\n",
       "  .table-result-container {\n",
       "    max-height: 300px;\n",
       "    overflow: auto;\n",
       "  }\n",
       "  table, th, td {\n",
       "    border: 1px solid black;\n",
       "    border-collapse: collapse;\n",
       "  }\n",
       "  th, td {\n",
       "    padding: 5px;\n",
       "  }\n",
       "  th {\n",
       "    text-align: left;\n",
       "  }\n",
       "</style><div class='table-result-container'><table class='table-result'><thead style='background-color: white'><tr><th>country_name</th><th>country_code</th></tr></thead><tbody><tr><td>Afghanistan</td><td>YA</td></tr><tr><td>Albania</td><td>ZA</td></tr><tr><td>Algeria</td><td>7T</td></tr><tr><td>American Samoa</td><td>Nas</td></tr><tr><td>Andorra</td><td>C3</td></tr><tr><td>Angola</td><td>D2</td></tr><tr><td>Anguilla</td><td>VP-A</td></tr><tr><td>Antigua and Barbuda</td><td>V2</td></tr><tr><td>Argentina</td><td>LV</td></tr><tr><td>Armenia</td><td>EK</td></tr><tr><td>Aruba</td><td>P4</td></tr><tr><td>Australia</td><td>VH</td></tr><tr><td>Austria</td><td>OE</td></tr><tr><td>Azerbaijan</td><td>4K</td></tr><tr><td>Bahamas</td><td>C6</td></tr><tr><td>Bahrain</td><td>A9C</td></tr><tr><td>Bangladesh</td><td>S2</td></tr><tr><td>Barbados</td><td>8P</td></tr><tr><td>Belarus</td><td>EW</td></tr><tr><td>Belgium</td><td>OO</td></tr><tr><td>Belize</td><td>V3</td></tr><tr><td>Benin</td><td>TY</td></tr><tr><td>Bermuda</td><td>VP-B</td></tr><tr><td>Bhutan</td><td>A5</td></tr><tr><td>Bolivia</td><td>CP</td></tr><tr><td>Bosnia and Herzegovina</td><td>T9</td></tr><tr><td>Botswana</td><td>A2</td></tr><tr><td>Brazil</td><td>PP</td></tr><tr><td>British Virgin Islands</td><td>VP-L</td></tr><tr><td>Brunei</td><td>V8</td></tr><tr><td>Bulgaria</td><td>LZ</td></tr><tr><td>Burkina Faso</td><td>XT</td></tr><tr><td>Burundi</td><td>9U</td></tr><tr><td>Cambodia</td><td>XU</td></tr><tr><td>Cameroon</td><td>TJ</td></tr><tr><td>Canada</td><td>C</td></tr><tr><td>Cape Verde</td><td>D4</td></tr><tr><td>Caribbean Netherlands</td><td>PJbes</td></tr><tr><td>Cayman Islands</td><td>VP-C</td></tr><tr><td>Central African Republic</td><td>TL</td></tr><tr><td>Chad</td><td>TT</td></tr><tr><td>Chile</td><td>CC</td></tr><tr><td>China</td><td>B</td></tr><tr><td>Colombia</td><td>HK</td></tr><tr><td>Comoros</td><td>D6</td></tr><tr><td>Congo</td><td>TN</td></tr><tr><td>Congo (former Zaire)</td><td>9Q</td></tr><tr><td>Costa Rica</td><td>TI</td></tr><tr><td>Cote d'Ivoire</td><td>TU</td></tr><tr><td>Croatia</td><td>9A</td></tr><tr><td>Cuba</td><td>CU</td></tr><tr><td>Curaçao</td><td>PJ</td></tr><tr><td>Cyprus</td><td>5B</td></tr><tr><td>Czech Republic</td><td>OK</td></tr><tr><td>Denmark</td><td>OY</td></tr><tr><td>Djibouti</td><td>J2</td></tr><tr><td>Dominica</td><td>J7</td></tr><tr><td>Dominican Republic</td><td>HI</td></tr><tr><td>East Timor</td><td>CR-T</td></tr><tr><td>Ecuador</td><td>HC</td></tr><tr><td>Egypt</td><td>SU</td></tr><tr><td>El Salvador</td><td>YS</td></tr><tr><td>Equatorial Guinea</td><td>3C</td></tr><tr><td>Eritrea</td><td>E3</td></tr><tr><td>Estonia</td><td>ES</td></tr><tr><td>Eswatini</td><td>3D</td></tr><tr><td>Ethiopia</td><td>ET</td></tr><tr><td>Falkland Islands</td><td>VP-F</td></tr><tr><td>Fiji</td><td>DQ</td></tr><tr><td>Finland</td><td>OH</td></tr><tr><td>France</td><td>F</td></tr><tr><td>French Guiana</td><td>F-Ofg</td></tr><tr><td>French Polynesia</td><td>F-Opo</td></tr><tr><td>Guadeloupe</td><td>F-Ogu</td></tr><tr><td>Martinique</td><td>F-Oma</td></tr><tr><td>New Caledonia</td><td>F-Onc</td></tr><tr><td>Réunion</td><td>F-Ore</td></tr><tr><td>St. Pierre and Miquelon</td><td>F-Osp</td></tr><tr><td>French Guiana</td><td>F-Ofg</td></tr><tr><td>French Polynesia</td><td>F-Opo</td></tr><tr><td>Gabon</td><td>TR</td></tr><tr><td>Gambia</td><td>C5</td></tr><tr><td>Georgia</td><td>4L</td></tr><tr><td>Germany</td><td>D</td></tr><tr><td>Ghana</td><td>9G</td></tr><tr><td>Gibraltar</td><td>VP-G</td></tr><tr><td>Greece</td><td>SX</td></tr><tr><td>Greenland</td><td>OYg</td></tr><tr><td>Grenada</td><td>J3</td></tr><tr><td>Guadeloupe</td><td>F-Ogu</td></tr><tr><td>Guam</td><td>Ngu</td></tr><tr><td>Guatemala</td><td>TG</td></tr><tr><td>Guinea</td><td>3X</td></tr><tr><td>Guinea-Bissau</td><td>J5</td></tr><tr><td>Guyana</td><td>8R</td></tr><tr><td>Haiti</td><td>HH</td></tr><tr><td>Honduras</td><td>HR</td></tr><tr><td>Hong Kong</td><td>VR-H</td></tr><tr><td>Hungary</td><td>HA</td></tr><tr><td>Iceland</td><td>TF</td></tr><tr><td>India</td><td>VT</td></tr><tr><td>Indonesia</td><td>PK</td></tr><tr><td>Iran</td><td>EP</td></tr><tr><td>Iraq</td><td>YI</td></tr><tr><td>Ireland</td><td>EI</td></tr><tr><td>Israel</td><td>4X</td></tr><tr><td>Italy</td><td>I</td></tr><tr><td>Jamaica</td><td>6Y</td></tr><tr><td>Japan</td><td>JA</td></tr><tr><td>Jordan</td><td>JY</td></tr><tr><td>Kazakhstan</td><td>UN</td></tr><tr><td>Kenya</td><td>5Y</td></tr><tr><td>Kiribati</td><td>T3</td></tr><tr><td>Kosovo</td><td>Z6</td></tr><tr><td>Kuwait</td><td>9K</td></tr><tr><td>Kyrgyzstan</td><td>EX</td></tr><tr><td>Laos</td><td>RDPL</td></tr><tr><td>Latvia</td><td>YL</td></tr><tr><td>Lebanon</td><td>OD</td></tr><tr><td>Lesotho</td><td>7P</td></tr><tr><td>Liberia</td><td>EL</td></tr><tr><td>Libya</td><td>5A</td></tr><tr><td>Lithuania</td><td>LY</td></tr><tr><td>Luxembourg</td><td>LX</td></tr><tr><td>Macau</td><td>B-M</td></tr><tr><td>Macedonia (FYROM)</td><td>Z3</td></tr><tr><td>Madagascar</td><td>5R</td></tr><tr><td>Malawi</td><td>7Q</td></tr><tr><td>Malaysia</td><td>9M</td></tr><tr><td>Maldives</td><td>8Q</td></tr><tr><td>Mali</td><td>TZ</td></tr><tr><td>Malta</td><td>9H</td></tr><tr><td>Marshall Islands</td><td>V7</td></tr><tr><td>Martinique</td><td>F-Oma</td></tr><tr><td>Mauritania</td><td>5T</td></tr><tr><td>Mauritius</td><td>3B</td></tr><tr><td>Mexico</td><td>XA</td></tr><tr><td>Micronesia</td><td>V6</td></tr><tr><td>Moldova</td><td>ER</td></tr><tr><td>Monaco</td><td>3A</td></tr><tr><td>Mongolia</td><td>MT</td></tr><tr><td>Montenegro</td><td>YUm</td></tr><tr><td>Montserrat</td><td>VP-M</td></tr><tr><td>Morocco</td><td>CN</td></tr><tr><td>Mozambique</td><td>C9</td></tr><tr><td>Myanmar</td><td>XY</td></tr><tr><td>Namibia</td><td>V5</td></tr><tr><td>Nauru</td><td>C2</td></tr><tr><td>Nepal</td><td>9N</td></tr><tr><td>Netherlands</td><td>PH</td></tr><tr><td>Caribbean Netherlands</td><td>PJbes</td></tr><tr><td>New Caledonia</td><td>F-Onc</td></tr><tr><td>New Zealand</td><td>ZK</td></tr><tr><td>Nicaragua</td><td>YN</td></tr><tr><td>Niger</td><td>5U</td></tr><tr><td>Nigeria</td><td>5N</td></tr><tr><td>North Korea</td><td>P</td></tr><tr><td>Northern Mariana Islands</td><td>Nnm</td></tr><tr><td>Norway</td><td>LN</td></tr><tr><td>Oman</td><td>A4O</td></tr><tr><td>Pakistan</td><td>AP</td></tr><tr><td>Palau</td><td>T8A</td></tr><tr><td>Panama</td><td>HP</td></tr><tr><td>Papua New Guinea</td><td>P2</td></tr><tr><td>Paraguay</td><td>ZP</td></tr><tr><td>Peru</td><td>OB</td></tr><tr><td>Philippines</td><td>RP</td></tr><tr><td>Poland</td><td>SP</td></tr><tr><td>Portugal</td><td>CS</td></tr><tr><td>Puerto Rico</td><td>Npr</td></tr><tr><td>Qatar</td><td>A7</td></tr><tr><td>Réunion</td><td>F-Ore</td></tr><tr><td>Romania</td><td>YR</td></tr><tr><td>Russia</td><td>RA</td></tr><tr><td>Rwanda</td><td>9XR</td></tr><tr><td>Saint Helena</td><td>Gsh</td></tr><tr><td>Saint Lucia</td><td>J6</td></tr><tr><td>Saint Vincent and the Grenadines</td><td>J8</td></tr><tr><td>Saint Pierre and Miquelon</td><td>F-Osp</td></tr><tr><td>Samoa</td><td>5W</td></tr><tr><td>San Marino</td><td>T7</td></tr><tr><td>Sao Tome and Principe</td><td>S9</td></tr><tr><td>Saudi Arabia</td><td>HZ</td></tr><tr><td>Senegal</td><td>6V</td></tr><tr><td>Serbia</td><td>YU</td></tr><tr><td>Seychelles</td><td>S7</td></tr><tr><td>Sierra Leone</td><td>9L</td></tr><tr><td>Singapore</td><td>9V</td></tr><tr><td>Sint Maarten</td><td>PJsm</td></tr><tr><td>Slovakia</td><td>OM</td></tr><tr><td>Slovenia</td><td>S5</td></tr><tr><td>Solomon Islands</td><td>H4</td></tr><tr><td>Somalia</td><td>6O</td></tr><tr><td>South Africa</td><td>ZS</td></tr><tr><td>South Korea</td><td>HL</td></tr><tr><td>South Sudan</td><td>STss</td></tr><tr><td>Spain</td><td>EC</td></tr><tr><td>Sri Lanka</td><td>4R</td></tr><tr><td>St. Kitts and Nevis</td><td>V4</td></tr><tr><td>Sudan</td><td>ST</td></tr><tr><td>Suriname</td><td>PZ</td></tr><tr><td>Sweden</td><td>SE</td></tr><tr><td>Switzerland</td><td>HB</td></tr><tr><td>Syria</td><td>YK</td></tr><tr><td>Taiwan</td><td>Bt</td></tr><tr><td>Tajikistan</td><td>EY</td></tr><tr><td>Tanzania</td><td>5H</td></tr><tr><td>Thailand</td><td>HS</td></tr><tr><td>Timor (East)</td><td>CR-T</td></tr><tr><td>Togo</td><td>5V</td></tr><tr><td>Tonga</td><td>A3</td></tr><tr><td>Trinidad and Tobago</td><td>9Y</td></tr><tr><td>Tunisia</td><td>TS</td></tr><tr><td>Turkey</td><td>TC</td></tr><tr><td>Turkmenistan</td><td>EZ</td></tr><tr><td>Turks and Caicos Islands</td><td>VQ-T</td></tr><tr><td>Tuvalu</td><td>T2</td></tr><tr><td>Uganda</td><td>5X</td></tr><tr><td>Ukraine</td><td>UR</td></tr><tr><td>United Arab Emirates</td><td>A6</td></tr><tr><td>United Kingdom</td><td>G</td></tr><tr><td>Uruguay</td><td>CX</td></tr><tr><td>USA</td><td>N</td></tr><tr><td>American Samoa</td><td>Nas</td></tr><tr><td>Guam</td><td>Ngu</td></tr><tr><td>Northern Mariana Islands</td><td>Nnm</td></tr><tr><td>Puerto Rico</td><td>Npr</td></tr><tr><td>U.S. Minor Outlying Islands</td><td>Nmo</td></tr><tr><td>Virgin Islands (U.S.)</td><td>Nvi</td></tr><tr><td>U.S. Minor Outlying Islands</td><td>Nmo</td></tr><tr><td>Uzbekistan</td><td>UK</td></tr><tr><td>Vanuatu</td><td>YJ</td></tr><tr><td>Venezuela</td><td>YV</td></tr><tr><td>Vietnam</td><td>VN</td></tr><tr><td>Virgin Islands (U.S.)</td><td>Nvi</td></tr><tr><td>Western Sahara</td><td>EH</td></tr><tr><td>Yemen</td><td>7O</td></tr><tr><td>Zambia</td><td>9J</td></tr><tr><td>Zimbabwe</td><td>Z</td></tr><tr><td>Antarctica</td><td>ant</td></tr><tr><td>North Pole</td><td>nop</td></tr><tr><td>Atlantic Ocean</td><td>atl</td></tr><tr><td>Mediterranean Sea</td><td>med</td></tr><tr><td>Indian Ocean</td><td>ind</td></tr><tr><td>Pacific Ocean</td><td>pac</td></tr><tr><td>Unknown country</td><td>unk</td></tr></tbody></table></div>"
      ]
     },
     "metadata": {
      "application/vnd.databricks.v1+output": {
       "addedWidgets": {},
       "aggData": [],
       "aggError": "",
       "aggOverflow": false,
       "aggSchema": [],
       "aggSeriesLimitReached": false,
       "aggType": "",
       "arguments": {},
       "columnCustomDisplayInfos": {},
       "data": [
        [
         "Afghanistan",
         "YA"
        ],
        [
         "Albania",
         "ZA"
        ],
        [
         "Algeria",
         "7T"
        ],
        [
         "American Samoa",
         "Nas"
        ],
        [
         "Andorra",
         "C3"
        ],
        [
         "Angola",
         "D2"
        ],
        [
         "Anguilla",
         "VP-A"
        ],
        [
         "Antigua and Barbuda",
         "V2"
        ],
        [
         "Argentina",
         "LV"
        ],
        [
         "Armenia",
         "EK"
        ],
        [
         "Aruba",
         "P4"
        ],
        [
         "Australia",
         "VH"
        ],
        [
         "Austria",
         "OE"
        ],
        [
         "Azerbaijan",
         "4K"
        ],
        [
         "Bahamas",
         "C6"
        ],
        [
         "Bahrain",
         "A9C"
        ],
        [
         "Bangladesh",
         "S2"
        ],
        [
         "Barbados",
         "8P"
        ],
        [
         "Belarus",
         "EW"
        ],
        [
         "Belgium",
         "OO"
        ],
        [
         "Belize",
         "V3"
        ],
        [
         "Benin",
         "TY"
        ],
        [
         "Bermuda",
         "VP-B"
        ],
        [
         "Bhutan",
         "A5"
        ],
        [
         "Bolivia",
         "CP"
        ],
        [
         "Bosnia and Herzegovina",
         "T9"
        ],
        [
         "Botswana",
         "A2"
        ],
        [
         "Brazil",
         "PP"
        ],
        [
         "British Virgin Islands",
         "VP-L"
        ],
        [
         "Brunei",
         "V8"
        ],
        [
         "Bulgaria",
         "LZ"
        ],
        [
         "Burkina Faso",
         "XT"
        ],
        [
         "Burundi",
         "9U"
        ],
        [
         "Cambodia",
         "XU"
        ],
        [
         "Cameroon",
         "TJ"
        ],
        [
         "Canada",
         "C"
        ],
        [
         "Cape Verde",
         "D4"
        ],
        [
         "Caribbean Netherlands",
         "PJbes"
        ],
        [
         "Cayman Islands",
         "VP-C"
        ],
        [
         "Central African Republic",
         "TL"
        ],
        [
         "Chad",
         "TT"
        ],
        [
         "Chile",
         "CC"
        ],
        [
         "China",
         "B"
        ],
        [
         "Colombia",
         "HK"
        ],
        [
         "Comoros",
         "D6"
        ],
        [
         "Congo",
         "TN"
        ],
        [
         "Congo (former Zaire)",
         "9Q"
        ],
        [
         "Costa Rica",
         "TI"
        ],
        [
         "Cote d'Ivoire",
         "TU"
        ],
        [
         "Croatia",
         "9A"
        ],
        [
         "Cuba",
         "CU"
        ],
        [
         "Curaçao",
         "PJ"
        ],
        [
         "Cyprus",
         "5B"
        ],
        [
         "Czech Republic",
         "OK"
        ],
        [
         "Denmark",
         "OY"
        ],
        [
         "Djibouti",
         "J2"
        ],
        [
         "Dominica",
         "J7"
        ],
        [
         "Dominican Republic",
         "HI"
        ],
        [
         "East Timor",
         "CR-T"
        ],
        [
         "Ecuador",
         "HC"
        ],
        [
         "Egypt",
         "SU"
        ],
        [
         "El Salvador",
         "YS"
        ],
        [
         "Equatorial Guinea",
         "3C"
        ],
        [
         "Eritrea",
         "E3"
        ],
        [
         "Estonia",
         "ES"
        ],
        [
         "Eswatini",
         "3D"
        ],
        [
         "Ethiopia",
         "ET"
        ],
        [
         "Falkland Islands",
         "VP-F"
        ],
        [
         "Fiji",
         "DQ"
        ],
        [
         "Finland",
         "OH"
        ],
        [
         "France",
         "F"
        ],
        [
         "French Guiana",
         "F-Ofg"
        ],
        [
         "French Polynesia",
         "F-Opo"
        ],
        [
         "Guadeloupe",
         "F-Ogu"
        ],
        [
         "Martinique",
         "F-Oma"
        ],
        [
         "New Caledonia",
         "F-Onc"
        ],
        [
         "Réunion",
         "F-Ore"
        ],
        [
         "St. Pierre and Miquelon",
         "F-Osp"
        ],
        [
         "French Guiana",
         "F-Ofg"
        ],
        [
         "French Polynesia",
         "F-Opo"
        ],
        [
         "Gabon",
         "TR"
        ],
        [
         "Gambia",
         "C5"
        ],
        [
         "Georgia",
         "4L"
        ],
        [
         "Germany",
         "D"
        ],
        [
         "Ghana",
         "9G"
        ],
        [
         "Gibraltar",
         "VP-G"
        ],
        [
         "Greece",
         "SX"
        ],
        [
         "Greenland",
         "OYg"
        ],
        [
         "Grenada",
         "J3"
        ],
        [
         "Guadeloupe",
         "F-Ogu"
        ],
        [
         "Guam",
         "Ngu"
        ],
        [
         "Guatemala",
         "TG"
        ],
        [
         "Guinea",
         "3X"
        ],
        [
         "Guinea-Bissau",
         "J5"
        ],
        [
         "Guyana",
         "8R"
        ],
        [
         "Haiti",
         "HH"
        ],
        [
         "Honduras",
         "HR"
        ],
        [
         "Hong Kong",
         "VR-H"
        ],
        [
         "Hungary",
         "HA"
        ],
        [
         "Iceland",
         "TF"
        ],
        [
         "India",
         "VT"
        ],
        [
         "Indonesia",
         "PK"
        ],
        [
         "Iran",
         "EP"
        ],
        [
         "Iraq",
         "YI"
        ],
        [
         "Ireland",
         "EI"
        ],
        [
         "Israel",
         "4X"
        ],
        [
         "Italy",
         "I"
        ],
        [
         "Jamaica",
         "6Y"
        ],
        [
         "Japan",
         "JA"
        ],
        [
         "Jordan",
         "JY"
        ],
        [
         "Kazakhstan",
         "UN"
        ],
        [
         "Kenya",
         "5Y"
        ],
        [
         "Kiribati",
         "T3"
        ],
        [
         "Kosovo",
         "Z6"
        ],
        [
         "Kuwait",
         "9K"
        ],
        [
         "Kyrgyzstan",
         "EX"
        ],
        [
         "Laos",
         "RDPL"
        ],
        [
         "Latvia",
         "YL"
        ],
        [
         "Lebanon",
         "OD"
        ],
        [
         "Lesotho",
         "7P"
        ],
        [
         "Liberia",
         "EL"
        ],
        [
         "Libya",
         "5A"
        ],
        [
         "Lithuania",
         "LY"
        ],
        [
         "Luxembourg",
         "LX"
        ],
        [
         "Macau",
         "B-M"
        ],
        [
         "Macedonia (FYROM)",
         "Z3"
        ],
        [
         "Madagascar",
         "5R"
        ],
        [
         "Malawi",
         "7Q"
        ],
        [
         "Malaysia",
         "9M"
        ],
        [
         "Maldives",
         "8Q"
        ],
        [
         "Mali",
         "TZ"
        ],
        [
         "Malta",
         "9H"
        ],
        [
         "Marshall Islands",
         "V7"
        ],
        [
         "Martinique",
         "F-Oma"
        ],
        [
         "Mauritania",
         "5T"
        ],
        [
         "Mauritius",
         "3B"
        ],
        [
         "Mexico",
         "XA"
        ],
        [
         "Micronesia",
         "V6"
        ],
        [
         "Moldova",
         "ER"
        ],
        [
         "Monaco",
         "3A"
        ],
        [
         "Mongolia",
         "MT"
        ],
        [
         "Montenegro",
         "YUm"
        ],
        [
         "Montserrat",
         "VP-M"
        ],
        [
         "Morocco",
         "CN"
        ],
        [
         "Mozambique",
         "C9"
        ],
        [
         "Myanmar",
         "XY"
        ],
        [
         "Namibia",
         "V5"
        ],
        [
         "Nauru",
         "C2"
        ],
        [
         "Nepal",
         "9N"
        ],
        [
         "Netherlands",
         "PH"
        ],
        [
         "Caribbean Netherlands",
         "PJbes"
        ],
        [
         "New Caledonia",
         "F-Onc"
        ],
        [
         "New Zealand",
         "ZK"
        ],
        [
         "Nicaragua",
         "YN"
        ],
        [
         "Niger",
         "5U"
        ],
        [
         "Nigeria",
         "5N"
        ],
        [
         "North Korea",
         "P"
        ],
        [
         "Northern Mariana Islands",
         "Nnm"
        ],
        [
         "Norway",
         "LN"
        ],
        [
         "Oman",
         "A4O"
        ],
        [
         "Pakistan",
         "AP"
        ],
        [
         "Palau",
         "T8A"
        ],
        [
         "Panama",
         "HP"
        ],
        [
         "Papua New Guinea",
         "P2"
        ],
        [
         "Paraguay",
         "ZP"
        ],
        [
         "Peru",
         "OB"
        ],
        [
         "Philippines",
         "RP"
        ],
        [
         "Poland",
         "SP"
        ],
        [
         "Portugal",
         "CS"
        ],
        [
         "Puerto Rico",
         "Npr"
        ],
        [
         "Qatar",
         "A7"
        ],
        [
         "Réunion",
         "F-Ore"
        ],
        [
         "Romania",
         "YR"
        ],
        [
         "Russia",
         "RA"
        ],
        [
         "Rwanda",
         "9XR"
        ],
        [
         "Saint Helena",
         "Gsh"
        ],
        [
         "Saint Lucia",
         "J6"
        ],
        [
         "Saint Vincent and the Grenadines",
         "J8"
        ],
        [
         "Saint Pierre and Miquelon",
         "F-Osp"
        ],
        [
         "Samoa",
         "5W"
        ],
        [
         "San Marino",
         "T7"
        ],
        [
         "Sao Tome and Principe",
         "S9"
        ],
        [
         "Saudi Arabia",
         "HZ"
        ],
        [
         "Senegal",
         "6V"
        ],
        [
         "Serbia",
         "YU"
        ],
        [
         "Seychelles",
         "S7"
        ],
        [
         "Sierra Leone",
         "9L"
        ],
        [
         "Singapore",
         "9V"
        ],
        [
         "Sint Maarten",
         "PJsm"
        ],
        [
         "Slovakia",
         "OM"
        ],
        [
         "Slovenia",
         "S5"
        ],
        [
         "Solomon Islands",
         "H4"
        ],
        [
         "Somalia",
         "6O"
        ],
        [
         "South Africa",
         "ZS"
        ],
        [
         "South Korea",
         "HL"
        ],
        [
         "South Sudan",
         "STss"
        ],
        [
         "Spain",
         "EC"
        ],
        [
         "Sri Lanka",
         "4R"
        ],
        [
         "St. Kitts and Nevis",
         "V4"
        ],
        [
         "Sudan",
         "ST"
        ],
        [
         "Suriname",
         "PZ"
        ],
        [
         "Sweden",
         "SE"
        ],
        [
         "Switzerland",
         "HB"
        ],
        [
         "Syria",
         "YK"
        ],
        [
         "Taiwan",
         "Bt"
        ],
        [
         "Tajikistan",
         "EY"
        ],
        [
         "Tanzania",
         "5H"
        ],
        [
         "Thailand",
         "HS"
        ],
        [
         "Timor (East)",
         "CR-T"
        ],
        [
         "Togo",
         "5V"
        ],
        [
         "Tonga",
         "A3"
        ],
        [
         "Trinidad and Tobago",
         "9Y"
        ],
        [
         "Tunisia",
         "TS"
        ],
        [
         "Turkey",
         "TC"
        ],
        [
         "Turkmenistan",
         "EZ"
        ],
        [
         "Turks and Caicos Islands",
         "VQ-T"
        ],
        [
         "Tuvalu",
         "T2"
        ],
        [
         "Uganda",
         "5X"
        ],
        [
         "Ukraine",
         "UR"
        ],
        [
         "United Arab Emirates",
         "A6"
        ],
        [
         "United Kingdom",
         "G"
        ],
        [
         "Uruguay",
         "CX"
        ],
        [
         "USA",
         "N"
        ],
        [
         "American Samoa",
         "Nas"
        ],
        [
         "Guam",
         "Ngu"
        ],
        [
         "Northern Mariana Islands",
         "Nnm"
        ],
        [
         "Puerto Rico",
         "Npr"
        ],
        [
         "U.S. Minor Outlying Islands",
         "Nmo"
        ],
        [
         "Virgin Islands (U.S.)",
         "Nvi"
        ],
        [
         "U.S. Minor Outlying Islands",
         "Nmo"
        ],
        [
         "Uzbekistan",
         "UK"
        ],
        [
         "Vanuatu",
         "YJ"
        ],
        [
         "Venezuela",
         "YV"
        ],
        [
         "Vietnam",
         "VN"
        ],
        [
         "Virgin Islands (U.S.)",
         "Nvi"
        ],
        [
         "Western Sahara",
         "EH"
        ],
        [
         "Yemen",
         "7O"
        ],
        [
         "Zambia",
         "9J"
        ],
        [
         "Zimbabwe",
         "Z"
        ],
        [
         "Antarctica",
         "ant"
        ],
        [
         "North Pole",
         "nop"
        ],
        [
         "Atlantic Ocean",
         "atl"
        ],
        [
         "Mediterranean Sea",
         "med"
        ],
        [
         "Indian Ocean",
         "ind"
        ],
        [
         "Pacific Ocean",
         "pac"
        ],
        [
         "Unknown country",
         "unk"
        ]
       ],
       "datasetInfos": [],
       "dbfsResultPath": null,
       "isJsonSchema": true,
       "metadata": {},
       "overflow": false,
       "plotOptions": {
        "customPlotOptions": {},
        "displayType": "table",
        "pivotAggregation": null,
        "pivotColumns": null,
        "xColumns": null,
        "yColumns": null
       },
       "removedWidgets": [],
       "schema": [
        {
         "metadata": "{}",
         "name": "country_name",
         "type": "\"string\""
        },
        {
         "metadata": "{}",
         "name": "country_code",
         "type": "\"string\""
        }
       ],
       "type": "table"
      }
     },
     "output_type": "display_data"
    }
   ],
   "source": [
    "from pyspark.sql import SparkSession\n",
    "from pyspark import SparkFiles\n",
    "from pyspark.sql import functions as F\n",
    "import urllib\n",
    "\n",
    "# Inicializa a sessão Spark\n",
    "spark = SparkSession.builder.appName(\"accidents_analysis\").getOrCreate()\n",
    "\n",
    "# Pega os dados bronze\n",
    "spark.catalog.listDatabases()\n",
    "countries_bronze_df = spark.read.format(\"delta\").load('dbfs:/user/hive/warehouse/bronze_database.db/bronze_countries')\n",
    "\n",
    "countries_bronze_df.display()\n"
   ]
  },
  {
   "cell_type": "markdown",
   "metadata": {
    "application/vnd.databricks.v1+cell": {
     "cellMetadata": {
      "byteLimit": 2048000,
      "rowLimit": 10000
     },
     "inputWidgets": {},
     "nuid": "2f96331c-49cb-4de7-9d2e-e59137cca42b",
     "showTitle": false,
     "title": ""
    }
   },
   "source": [
    "## Processamento\n",
    "Seção para realizar a limpeza padrão de dados:\n",
    "- Fazer o trim para remover espaços antes e ao final dos valores\n",
    "- Transformar valores vazios ou sem caracteres em null\n",
    "- Dropar duplicatas\n",
    "- Adicionar o \"país\" Europa no dataset"
   ]
  },
  {
   "cell_type": "code",
   "execution_count": 0,
   "metadata": {
    "application/vnd.databricks.v1+cell": {
     "cellMetadata": {
      "byteLimit": 2048000,
      "rowLimit": 10000
     },
     "inputWidgets": {},
     "nuid": "b8855d5a-1848-4bd8-9de1-a5bae09292ba",
     "showTitle": false,
     "title": ""
    }
   },
   "outputs": [
    {
     "output_type": "display_data",
     "data": {
      "text/html": [
       "<style scoped>\n",
       "  .table-result-container {\n",
       "    max-height: 300px;\n",
       "    overflow: auto;\n",
       "  }\n",
       "  table, th, td {\n",
       "    border: 1px solid black;\n",
       "    border-collapse: collapse;\n",
       "  }\n",
       "  th, td {\n",
       "    padding: 5px;\n",
       "  }\n",
       "  th {\n",
       "    text-align: left;\n",
       "  }\n",
       "</style><div class='table-result-container'><table class='table-result'><thead style='background-color: white'><tr><th>country_name</th><th>country_code</th></tr></thead><tbody><tr><td>Sudan</td><td>ST</td></tr><tr><td>Sweden</td><td>SE</td></tr><tr><td>Afghanistan</td><td>YA</td></tr><tr><td>Albania</td><td>ZA</td></tr><tr><td>China</td><td>B</td></tr><tr><td>Georgia</td><td>4L</td></tr><tr><td>Iraq</td><td>YI</td></tr><tr><td>Caribbean Netherlands</td><td>PJbes</td></tr><tr><td>Cape Verde</td><td>D4</td></tr><tr><td>Greenland</td><td>OYg</td></tr><tr><td>Guam</td><td>Ngu</td></tr><tr><td>Aruba</td><td>P4</td></tr><tr><td>Cayman Islands</td><td>VP-C</td></tr><tr><td>Antarctica</td><td>ant</td></tr><tr><td>French Guiana</td><td>F-Ofg</td></tr><tr><td>Brazil</td><td>PP</td></tr><tr><td>Chile</td><td>CC</td></tr><tr><td>Portugal</td><td>CS</td></tr><tr><td>Tanzania</td><td>5H</td></tr><tr><td>Belarus</td><td>EW</td></tr><tr><td>Indian Ocean</td><td>ind</td></tr><tr><td>Anguilla</td><td>VP-A</td></tr><tr><td>Saint Lucia</td><td>J6</td></tr><tr><td>Colombia</td><td>HK</td></tr><tr><td>Bosnia and Herzegovina</td><td>T9</td></tr><tr><td>Serbia</td><td>YU</td></tr><tr><td>Niger</td><td>5U</td></tr><tr><td>Laos</td><td>RDPL</td></tr><tr><td>Hungary</td><td>HA</td></tr><tr><td>Estonia</td><td>ES</td></tr><tr><td>Vietnam</td><td>VN</td></tr><tr><td>Western Sahara</td><td>EH</td></tr><tr><td>Sao Tome and Principe</td><td>S9</td></tr><tr><td>Seychelles</td><td>S7</td></tr><tr><td>Ecuador</td><td>HC</td></tr><tr><td>Spain</td><td>EC</td></tr><tr><td>Uganda</td><td>5X</td></tr><tr><td>Trinidad and Tobago</td><td>9Y</td></tr><tr><td>Lesotho</td><td>7P</td></tr><tr><td>Mozambique</td><td>C9</td></tr><tr><td>Singapore</td><td>9V</td></tr><tr><td>Papua New Guinea</td><td>P2</td></tr><tr><td>Belize</td><td>V3</td></tr><tr><td>Mauritius</td><td>3B</td></tr><tr><td>Myanmar</td><td>XY</td></tr><tr><td>Puerto Rico</td><td>Npr</td></tr><tr><td>South Korea</td><td>HL</td></tr><tr><td>South Sudan</td><td>STss</td></tr><tr><td>Pacific Ocean</td><td>pac</td></tr><tr><td>Jordan</td><td>JY</td></tr><tr><td>Macau</td><td>B-M</td></tr><tr><td>Mauritania</td><td>5T</td></tr><tr><td>Netherlands</td><td>PH</td></tr><tr><td>Solomon Islands</td><td>H4</td></tr><tr><td>Kosovo</td><td>Z6</td></tr><tr><td>Greece</td><td>SX</td></tr><tr><td>Burundi</td><td>9U</td></tr><tr><td>Samoa</td><td>5W</td></tr><tr><td>Armenia</td><td>EK</td></tr><tr><td>Antigua and Barbuda</td><td>V2</td></tr><tr><td>Dominica</td><td>J7</td></tr><tr><td>United Kingdom</td><td>G</td></tr><tr><td>Barbados</td><td>8P</td></tr><tr><td>Mali</td><td>TZ</td></tr><tr><td>Russia</td><td>RA</td></tr><tr><td>Moldova</td><td>ER</td></tr><tr><td>Uruguay</td><td>CX</td></tr><tr><td>New Caledonia</td><td>F-Onc</td></tr><tr><td>Northern Mariana Islands</td><td>Nnm</td></tr><tr><td>Cuba</td><td>CU</td></tr><tr><td>Bolivia</td><td>CP</td></tr><tr><td>Bahrain</td><td>A9C</td></tr><tr><td>Bangladesh</td><td>S2</td></tr><tr><td>Pakistan</td><td>AP</td></tr><tr><td>New Zealand</td><td>ZK</td></tr><tr><td>Venezuela</td><td>YV</td></tr><tr><td>Italy</td><td>I</td></tr><tr><td>Zambia</td><td>9J</td></tr><tr><td>Paraguay</td><td>ZP</td></tr><tr><td>Nigeria</td><td>5N</td></tr><tr><td>Tunisia</td><td>TS</td></tr><tr><td>Bahamas</td><td>C6</td></tr><tr><td>Kenya</td><td>5Y</td></tr><tr><td>Suriname</td><td>PZ</td></tr><tr><td>Haiti</td><td>HH</td></tr><tr><td>Rwanda</td><td>9XR</td></tr><tr><td>Saint Helena</td><td>Gsh</td></tr><tr><td>Tuvalu</td><td>T2</td></tr><tr><td>Syria</td><td>YK</td></tr><tr><td>Ireland</td><td>EI</td></tr><tr><td>Martinique</td><td>F-Oma</td></tr><tr><td>Uzbekistan</td><td>UK</td></tr><tr><td>British Virgin Islands</td><td>VP-L</td></tr><tr><td>Central African Republic</td><td>TL</td></tr><tr><td>San Marino</td><td>T7</td></tr><tr><td>Slovakia</td><td>OM</td></tr><tr><td>Guatemala</td><td>TG</td></tr><tr><td>India</td><td>VT</td></tr><tr><td>Cameroon</td><td>TJ</td></tr><tr><td>United Arab Emirates</td><td>A6</td></tr><tr><td>Turkmenistan</td><td>EZ</td></tr><tr><td>Maldives</td><td>8Q</td></tr><tr><td>Cyprus</td><td>5B</td></tr><tr><td>Montenegro</td><td>YUm</td></tr><tr><td>Saudi Arabia</td><td>HZ</td></tr><tr><td>Czech Republic</td><td>OK</td></tr><tr><td>Namibia</td><td>V5</td></tr><tr><td>North Pole</td><td>nop</td></tr><tr><td>Atlantic Ocean</td><td>atl</td></tr><tr><td>Cote d'Ivoire</td><td>TU</td></tr><tr><td>Benin</td><td>TY</td></tr><tr><td>Curaçao</td><td>PJ</td></tr><tr><td>Fiji</td><td>DQ</td></tr><tr><td>Grenada</td><td>J3</td></tr><tr><td>Lebanon</td><td>OD</td></tr><tr><td>Norway</td><td>LN</td></tr><tr><td>Kazakhstan</td><td>UN</td></tr><tr><td>Slovenia</td><td>S5</td></tr><tr><td>Dominican Republic</td><td>HI</td></tr><tr><td>U.S. Minor Outlying Islands</td><td>Nmo</td></tr><tr><td>Sint Maarten</td><td>PJsm</td></tr><tr><td>El Salvador</td><td>YS</td></tr><tr><td>Poland</td><td>SP</td></tr><tr><td>St. Kitts and Nevis</td><td>V4</td></tr><tr><td>Angola</td><td>D2</td></tr><tr><td>Mexico</td><td>XA</td></tr><tr><td>Yemen</td><td>7O</td></tr><tr><td>Comoros</td><td>D6</td></tr><tr><td>Iran</td><td>EP</td></tr><tr><td>Sri Lanka</td><td>4R</td></tr><tr><td>South Africa</td><td>ZS</td></tr><tr><td>Algeria</td><td>7T</td></tr><tr><td>Botswana</td><td>A2</td></tr><tr><td>Croatia</td><td>9A</td></tr><tr><td>Virgin Islands (U.S.)</td><td>Nvi</td></tr><tr><td>Honduras</td><td>HR</td></tr><tr><td>Morocco</td><td>CN</td></tr><tr><td>Gabon</td><td>TR</td></tr><tr><td>Oman</td><td>A4O</td></tr><tr><td>Bhutan</td><td>A5</td></tr><tr><td>Somalia</td><td>6O</td></tr><tr><td>Tajikistan</td><td>EY</td></tr><tr><td>Eswatini</td><td>3D</td></tr><tr><td>Jamaica</td><td>6Y</td></tr><tr><td>Togo</td><td>5V</td></tr><tr><td>Nepal</td><td>9N</td></tr><tr><td>Thailand</td><td>HS</td></tr><tr><td>Qatar</td><td>A7</td></tr><tr><td>Mediterranean Sea</td><td>med</td></tr><tr><td>Sierra Leone</td><td>9L</td></tr><tr><td>Turks and Caicos Islands</td><td>VQ-T</td></tr><tr><td>Azerbaijan</td><td>4K</td></tr><tr><td>Belgium</td><td>OO</td></tr><tr><td>Micronesia</td><td>V6</td></tr><tr><td>East Timor</td><td>CR-T</td></tr><tr><td>Libya</td><td>5A</td></tr><tr><td>Turkey</td><td>TC</td></tr><tr><td>Andorra</td><td>C3</td></tr><tr><td>Djibouti</td><td>J2</td></tr><tr><td>Burkina Faso</td><td>XT</td></tr><tr><td>Ethiopia</td><td>ET</td></tr><tr><td>Macedonia (FYROM)</td><td>Z3</td></tr><tr><td>Peru</td><td>OB</td></tr><tr><td>Montserrat</td><td>VP-M</td></tr><tr><td>Luxembourg</td><td>LX</td></tr><tr><td>Congo</td><td>TN</td></tr><tr><td>Japan</td><td>JA</td></tr><tr><td>Bermuda</td><td>VP-B</td></tr><tr><td>Cambodia</td><td>XU</td></tr><tr><td>Canada</td><td>C</td></tr><tr><td>Iceland</td><td>TF</td></tr><tr><td>Congo (former Zaire)</td><td>9Q</td></tr><tr><td>Equatorial Guinea</td><td>3C</td></tr><tr><td>Eritrea</td><td>E3</td></tr><tr><td>Gibraltar</td><td>VP-G</td></tr><tr><td>Saint Pierre and Miquelon</td><td>F-Osp</td></tr><tr><td>Zimbabwe</td><td>Z</td></tr><tr><td>Nauru</td><td>C2</td></tr><tr><td>Ghana</td><td>9G</td></tr><tr><td>Philippines</td><td>RP</td></tr><tr><td>Kiribati</td><td>T3</td></tr><tr><td>Guyana</td><td>8R</td></tr><tr><td>Costa Rica</td><td>TI</td></tr><tr><td>Malaysia</td><td>9M</td></tr><tr><td>American Samoa</td><td>Nas</td></tr><tr><td>Malta</td><td>9H</td></tr><tr><td>Mongolia</td><td>MT</td></tr><tr><td>USA</td><td>N</td></tr><tr><td>Egypt</td><td>SU</td></tr><tr><td>St. Pierre and Miquelon</td><td>F-Osp</td></tr><tr><td>Indonesia</td><td>PK</td></tr><tr><td>Lithuania</td><td>LY</td></tr><tr><td>North Korea</td><td>P</td></tr><tr><td>Palau</td><td>T8A</td></tr><tr><td>Senegal</td><td>6V</td></tr><tr><td>France</td><td>F</td></tr><tr><td>Liberia</td><td>EL</td></tr><tr><td>Finland</td><td>OH</td></tr><tr><td>Marshall Islands</td><td>V7</td></tr><tr><td>Panama</td><td>HP</td></tr><tr><td>Taiwan</td><td>Bt</td></tr><tr><td>French Polynesia</td><td>F-Opo</td></tr><tr><td>Denmark</td><td>OY</td></tr><tr><td>Gambia</td><td>C5</td></tr><tr><td>Kuwait</td><td>9K</td></tr><tr><td>Timor (East)</td><td>CR-T</td></tr><tr><td>Vanuatu</td><td>YJ</td></tr><tr><td>Chad</td><td>TT</td></tr><tr><td>Germany</td><td>D</td></tr><tr><td>Romania</td><td>YR</td></tr><tr><td>Guinea</td><td>3X</td></tr><tr><td>Ukraine</td><td>UR</td></tr><tr><td>Australia</td><td>VH</td></tr><tr><td>Unknown country</td><td>unk</td></tr><tr><td>Guinea-Bissau</td><td>J5</td></tr><tr><td>Falkland Islands</td><td>VP-F</td></tr><tr><td>Latvia</td><td>YL</td></tr><tr><td>Monaco</td><td>3A</td></tr><tr><td>Austria</td><td>OE</td></tr><tr><td>Bulgaria</td><td>LZ</td></tr><tr><td>Madagascar</td><td>5R</td></tr><tr><td>Saint Vincent and the Grenadines</td><td>J8</td></tr><tr><td>Réunion</td><td>F-Ore</td></tr><tr><td>Nicaragua</td><td>YN</td></tr><tr><td>Switzerland</td><td>HB</td></tr><tr><td>Guadeloupe</td><td>F-Ogu</td></tr><tr><td>Argentina</td><td>LV</td></tr><tr><td>Brunei</td><td>V8</td></tr><tr><td>Tonga</td><td>A3</td></tr><tr><td>Israel</td><td>4X</td></tr><tr><td>Hong Kong</td><td>VR-H</td></tr><tr><td>Kyrgyzstan</td><td>EX</td></tr><tr><td>Malawi</td><td>7Q</td></tr><tr><td>Europe</td><td>EU</td></tr></tbody></table></div>"
      ]
     },
     "metadata": {
      "application/vnd.databricks.v1+output": {
       "addedWidgets": {},
       "aggData": [],
       "aggError": "",
       "aggOverflow": false,
       "aggSchema": [],
       "aggSeriesLimitReached": false,
       "aggType": "",
       "arguments": {},
       "columnCustomDisplayInfos": {},
       "data": [
        [
         "Sudan",
         "ST"
        ],
        [
         "Sweden",
         "SE"
        ],
        [
         "Afghanistan",
         "YA"
        ],
        [
         "Albania",
         "ZA"
        ],
        [
         "China",
         "B"
        ],
        [
         "Georgia",
         "4L"
        ],
        [
         "Iraq",
         "YI"
        ],
        [
         "Caribbean Netherlands",
         "PJbes"
        ],
        [
         "Cape Verde",
         "D4"
        ],
        [
         "Greenland",
         "OYg"
        ],
        [
         "Guam",
         "Ngu"
        ],
        [
         "Aruba",
         "P4"
        ],
        [
         "Cayman Islands",
         "VP-C"
        ],
        [
         "Antarctica",
         "ant"
        ],
        [
         "French Guiana",
         "F-Ofg"
        ],
        [
         "Brazil",
         "PP"
        ],
        [
         "Chile",
         "CC"
        ],
        [
         "Portugal",
         "CS"
        ],
        [
         "Tanzania",
         "5H"
        ],
        [
         "Belarus",
         "EW"
        ],
        [
         "Indian Ocean",
         "ind"
        ],
        [
         "Anguilla",
         "VP-A"
        ],
        [
         "Saint Lucia",
         "J6"
        ],
        [
         "Colombia",
         "HK"
        ],
        [
         "Bosnia and Herzegovina",
         "T9"
        ],
        [
         "Serbia",
         "YU"
        ],
        [
         "Niger",
         "5U"
        ],
        [
         "Laos",
         "RDPL"
        ],
        [
         "Hungary",
         "HA"
        ],
        [
         "Estonia",
         "ES"
        ],
        [
         "Vietnam",
         "VN"
        ],
        [
         "Western Sahara",
         "EH"
        ],
        [
         "Sao Tome and Principe",
         "S9"
        ],
        [
         "Seychelles",
         "S7"
        ],
        [
         "Ecuador",
         "HC"
        ],
        [
         "Spain",
         "EC"
        ],
        [
         "Uganda",
         "5X"
        ],
        [
         "Trinidad and Tobago",
         "9Y"
        ],
        [
         "Lesotho",
         "7P"
        ],
        [
         "Mozambique",
         "C9"
        ],
        [
         "Singapore",
         "9V"
        ],
        [
         "Papua New Guinea",
         "P2"
        ],
        [
         "Belize",
         "V3"
        ],
        [
         "Mauritius",
         "3B"
        ],
        [
         "Myanmar",
         "XY"
        ],
        [
         "Puerto Rico",
         "Npr"
        ],
        [
         "South Korea",
         "HL"
        ],
        [
         "South Sudan",
         "STss"
        ],
        [
         "Pacific Ocean",
         "pac"
        ],
        [
         "Jordan",
         "JY"
        ],
        [
         "Macau",
         "B-M"
        ],
        [
         "Mauritania",
         "5T"
        ],
        [
         "Netherlands",
         "PH"
        ],
        [
         "Solomon Islands",
         "H4"
        ],
        [
         "Kosovo",
         "Z6"
        ],
        [
         "Greece",
         "SX"
        ],
        [
         "Burundi",
         "9U"
        ],
        [
         "Samoa",
         "5W"
        ],
        [
         "Armenia",
         "EK"
        ],
        [
         "Antigua and Barbuda",
         "V2"
        ],
        [
         "Dominica",
         "J7"
        ],
        [
         "United Kingdom",
         "G"
        ],
        [
         "Barbados",
         "8P"
        ],
        [
         "Mali",
         "TZ"
        ],
        [
         "Russia",
         "RA"
        ],
        [
         "Moldova",
         "ER"
        ],
        [
         "Uruguay",
         "CX"
        ],
        [
         "New Caledonia",
         "F-Onc"
        ],
        [
         "Northern Mariana Islands",
         "Nnm"
        ],
        [
         "Cuba",
         "CU"
        ],
        [
         "Bolivia",
         "CP"
        ],
        [
         "Bahrain",
         "A9C"
        ],
        [
         "Bangladesh",
         "S2"
        ],
        [
         "Pakistan",
         "AP"
        ],
        [
         "New Zealand",
         "ZK"
        ],
        [
         "Venezuela",
         "YV"
        ],
        [
         "Italy",
         "I"
        ],
        [
         "Zambia",
         "9J"
        ],
        [
         "Paraguay",
         "ZP"
        ],
        [
         "Nigeria",
         "5N"
        ],
        [
         "Tunisia",
         "TS"
        ],
        [
         "Bahamas",
         "C6"
        ],
        [
         "Kenya",
         "5Y"
        ],
        [
         "Suriname",
         "PZ"
        ],
        [
         "Haiti",
         "HH"
        ],
        [
         "Rwanda",
         "9XR"
        ],
        [
         "Saint Helena",
         "Gsh"
        ],
        [
         "Tuvalu",
         "T2"
        ],
        [
         "Syria",
         "YK"
        ],
        [
         "Ireland",
         "EI"
        ],
        [
         "Martinique",
         "F-Oma"
        ],
        [
         "Uzbekistan",
         "UK"
        ],
        [
         "British Virgin Islands",
         "VP-L"
        ],
        [
         "Central African Republic",
         "TL"
        ],
        [
         "San Marino",
         "T7"
        ],
        [
         "Slovakia",
         "OM"
        ],
        [
         "Guatemala",
         "TG"
        ],
        [
         "India",
         "VT"
        ],
        [
         "Cameroon",
         "TJ"
        ],
        [
         "United Arab Emirates",
         "A6"
        ],
        [
         "Turkmenistan",
         "EZ"
        ],
        [
         "Maldives",
         "8Q"
        ],
        [
         "Cyprus",
         "5B"
        ],
        [
         "Montenegro",
         "YUm"
        ],
        [
         "Saudi Arabia",
         "HZ"
        ],
        [
         "Czech Republic",
         "OK"
        ],
        [
         "Namibia",
         "V5"
        ],
        [
         "North Pole",
         "nop"
        ],
        [
         "Atlantic Ocean",
         "atl"
        ],
        [
         "Cote d'Ivoire",
         "TU"
        ],
        [
         "Benin",
         "TY"
        ],
        [
         "Curaçao",
         "PJ"
        ],
        [
         "Fiji",
         "DQ"
        ],
        [
         "Grenada",
         "J3"
        ],
        [
         "Lebanon",
         "OD"
        ],
        [
         "Norway",
         "LN"
        ],
        [
         "Kazakhstan",
         "UN"
        ],
        [
         "Slovenia",
         "S5"
        ],
        [
         "Dominican Republic",
         "HI"
        ],
        [
         "U.S. Minor Outlying Islands",
         "Nmo"
        ],
        [
         "Sint Maarten",
         "PJsm"
        ],
        [
         "El Salvador",
         "YS"
        ],
        [
         "Poland",
         "SP"
        ],
        [
         "St. Kitts and Nevis",
         "V4"
        ],
        [
         "Angola",
         "D2"
        ],
        [
         "Mexico",
         "XA"
        ],
        [
         "Yemen",
         "7O"
        ],
        [
         "Comoros",
         "D6"
        ],
        [
         "Iran",
         "EP"
        ],
        [
         "Sri Lanka",
         "4R"
        ],
        [
         "South Africa",
         "ZS"
        ],
        [
         "Algeria",
         "7T"
        ],
        [
         "Botswana",
         "A2"
        ],
        [
         "Croatia",
         "9A"
        ],
        [
         "Virgin Islands (U.S.)",
         "Nvi"
        ],
        [
         "Honduras",
         "HR"
        ],
        [
         "Morocco",
         "CN"
        ],
        [
         "Gabon",
         "TR"
        ],
        [
         "Oman",
         "A4O"
        ],
        [
         "Bhutan",
         "A5"
        ],
        [
         "Somalia",
         "6O"
        ],
        [
         "Tajikistan",
         "EY"
        ],
        [
         "Eswatini",
         "3D"
        ],
        [
         "Jamaica",
         "6Y"
        ],
        [
         "Togo",
         "5V"
        ],
        [
         "Nepal",
         "9N"
        ],
        [
         "Thailand",
         "HS"
        ],
        [
         "Qatar",
         "A7"
        ],
        [
         "Mediterranean Sea",
         "med"
        ],
        [
         "Sierra Leone",
         "9L"
        ],
        [
         "Turks and Caicos Islands",
         "VQ-T"
        ],
        [
         "Azerbaijan",
         "4K"
        ],
        [
         "Belgium",
         "OO"
        ],
        [
         "Micronesia",
         "V6"
        ],
        [
         "East Timor",
         "CR-T"
        ],
        [
         "Libya",
         "5A"
        ],
        [
         "Turkey",
         "TC"
        ],
        [
         "Andorra",
         "C3"
        ],
        [
         "Djibouti",
         "J2"
        ],
        [
         "Burkina Faso",
         "XT"
        ],
        [
         "Ethiopia",
         "ET"
        ],
        [
         "Macedonia (FYROM)",
         "Z3"
        ],
        [
         "Peru",
         "OB"
        ],
        [
         "Montserrat",
         "VP-M"
        ],
        [
         "Luxembourg",
         "LX"
        ],
        [
         "Congo",
         "TN"
        ],
        [
         "Japan",
         "JA"
        ],
        [
         "Bermuda",
         "VP-B"
        ],
        [
         "Cambodia",
         "XU"
        ],
        [
         "Canada",
         "C"
        ],
        [
         "Iceland",
         "TF"
        ],
        [
         "Congo (former Zaire)",
         "9Q"
        ],
        [
         "Equatorial Guinea",
         "3C"
        ],
        [
         "Eritrea",
         "E3"
        ],
        [
         "Gibraltar",
         "VP-G"
        ],
        [
         "Saint Pierre and Miquelon",
         "F-Osp"
        ],
        [
         "Zimbabwe",
         "Z"
        ],
        [
         "Nauru",
         "C2"
        ],
        [
         "Ghana",
         "9G"
        ],
        [
         "Philippines",
         "RP"
        ],
        [
         "Kiribati",
         "T3"
        ],
        [
         "Guyana",
         "8R"
        ],
        [
         "Costa Rica",
         "TI"
        ],
        [
         "Malaysia",
         "9M"
        ],
        [
         "American Samoa",
         "Nas"
        ],
        [
         "Malta",
         "9H"
        ],
        [
         "Mongolia",
         "MT"
        ],
        [
         "USA",
         "N"
        ],
        [
         "Egypt",
         "SU"
        ],
        [
         "St. Pierre and Miquelon",
         "F-Osp"
        ],
        [
         "Indonesia",
         "PK"
        ],
        [
         "Lithuania",
         "LY"
        ],
        [
         "North Korea",
         "P"
        ],
        [
         "Palau",
         "T8A"
        ],
        [
         "Senegal",
         "6V"
        ],
        [
         "France",
         "F"
        ],
        [
         "Liberia",
         "EL"
        ],
        [
         "Finland",
         "OH"
        ],
        [
         "Marshall Islands",
         "V7"
        ],
        [
         "Panama",
         "HP"
        ],
        [
         "Taiwan",
         "Bt"
        ],
        [
         "French Polynesia",
         "F-Opo"
        ],
        [
         "Denmark",
         "OY"
        ],
        [
         "Gambia",
         "C5"
        ],
        [
         "Kuwait",
         "9K"
        ],
        [
         "Timor (East)",
         "CR-T"
        ],
        [
         "Vanuatu",
         "YJ"
        ],
        [
         "Chad",
         "TT"
        ],
        [
         "Germany",
         "D"
        ],
        [
         "Romania",
         "YR"
        ],
        [
         "Guinea",
         "3X"
        ],
        [
         "Ukraine",
         "UR"
        ],
        [
         "Australia",
         "VH"
        ],
        [
         "Unknown country",
         "unk"
        ],
        [
         "Guinea-Bissau",
         "J5"
        ],
        [
         "Falkland Islands",
         "VP-F"
        ],
        [
         "Latvia",
         "YL"
        ],
        [
         "Monaco",
         "3A"
        ],
        [
         "Austria",
         "OE"
        ],
        [
         "Bulgaria",
         "LZ"
        ],
        [
         "Madagascar",
         "5R"
        ],
        [
         "Saint Vincent and the Grenadines",
         "J8"
        ],
        [
         "Réunion",
         "F-Ore"
        ],
        [
         "Nicaragua",
         "YN"
        ],
        [
         "Switzerland",
         "HB"
        ],
        [
         "Guadeloupe",
         "F-Ogu"
        ],
        [
         "Argentina",
         "LV"
        ],
        [
         "Brunei",
         "V8"
        ],
        [
         "Tonga",
         "A3"
        ],
        [
         "Israel",
         "4X"
        ],
        [
         "Hong Kong",
         "VR-H"
        ],
        [
         "Kyrgyzstan",
         "EX"
        ],
        [
         "Malawi",
         "7Q"
        ],
        [
         "Europe",
         "EU"
        ]
       ],
       "datasetInfos": [],
       "dbfsResultPath": null,
       "isJsonSchema": true,
       "metadata": {},
       "overflow": false,
       "plotOptions": {
        "customPlotOptions": {},
        "displayType": "table",
        "pivotAggregation": null,
        "pivotColumns": null,
        "xColumns": null,
        "yColumns": null
       },
       "removedWidgets": [],
       "schema": [
        {
         "metadata": "{}",
         "name": "country_name",
         "type": "\"string\""
        },
        {
         "metadata": "{}",
         "name": "country_code",
         "type": "\"string\""
        }
       ],
       "type": "table"
      }
     },
     "output_type": "display_data"
    }
   ],
   "source": [
    "from functools import reduce\n",
    "\n",
    "# Lista de colunas que desejamos fazer o trim\n",
    "all_columns = countries_bronze_df.columns\n",
    "\n",
    "\n",
    "# Função lambda para aplicar o trim em mais de uma coluna\n",
    "countries_bronze_df = reduce(\n",
    "    lambda df, col: df.withColumn(col, F.trim(df[col])),\n",
    "    all_columns,\n",
    "    countries_bronze_df,\n",
    ")\n",
    "\n",
    "# Valores vazios transformar em null\n",
    "# Função lambda para deixar como null colunas que não possuam nem texto, nem números, ou seja que tenham apenas caracteres especiais\n",
    "countries_bronze_df = reduce(\n",
    "    lambda df, col: df.withColumn(\n",
    "        col, F.when(F.regexp_like(col, F.lit(\"^[^\\w]*$\")), None).otherwise(F.col(col))\n",
    "    ),\n",
    "    all_columns,\n",
    "    countries_bronze_df,\n",
    ")\n",
    "\n",
    "# Função lambda para substituir valores vazios por null em uma coluna\n",
    "countries_bronze_df = reduce(\n",
    "    lambda df, col: df.withColumn(\n",
    "        col, F.when(F.col(col) == \"\", None).otherwise(F.col(col))\n",
    "    ),\n",
    "    all_columns,\n",
    "    countries_bronze_df,\n",
    ")\n",
    "\n",
    "# Drop em duplicatas\n",
    "countries_bronze_df = countries_bronze_df.dropDuplicates()\n",
    "\n",
    "# Adicionando o \"país\" Europa com country_name: Europe e country_code: EU\n",
    "new_country = spark.createDataFrame([(\"Europe\",\"EU\")],[\"country_name\",\"country_code\"])\n",
    "\n",
    "countries_bronze_df = countries_bronze_df.union(new_country)\n",
    "\n",
    "countries_bronze_df.display()"
   ]
  },
  {
   "cell_type": "markdown",
   "metadata": {
    "application/vnd.databricks.v1+cell": {
     "cellMetadata": {
      "byteLimit": 2048000,
      "rowLimit": 10000
     },
     "inputWidgets": {},
     "nuid": "cb052cfb-eb3e-4cef-acf4-f77a1f616e1c",
     "showTitle": false,
     "title": ""
    }
   },
   "source": [
    "## Avaliando a qualidade dos dados\n",
    "- Testar se não há nulos em country_names\n",
    "- Testar se não há nulos em country_codes"
   ]
  },
  {
   "cell_type": "code",
   "execution_count": 0,
   "metadata": {
    "application/vnd.databricks.v1+cell": {
     "cellMetadata": {
      "byteLimit": 2048000,
      "rowLimit": 10000
     },
     "inputWidgets": {},
     "nuid": "e6798d70-514c-4164-9a8b-6f59956e0c93",
     "showTitle": false,
     "title": ""
    }
   },
   "outputs": [
    {
     "output_type": "stream",
     "name": "stdout",
     "output_type": "stream",
     "text": [
      "Avaliando a condição country_name não contem nulos\nAvaliando a condição country_code não contem nulos\n"
     ]
    }
   ],
   "source": [
    "# Testando a qualidade dos dados\n",
    "test_col_not_null(countries_bronze_df,\"country_name\")\n",
    "test_col_not_null(countries_bronze_df,\"country_code\")\n"
   ]
  },
  {
   "cell_type": "markdown",
   "metadata": {
    "application/vnd.databricks.v1+cell": {
     "cellMetadata": {
      "byteLimit": 2048000,
      "rowLimit": 10000
     },
     "inputWidgets": {},
     "nuid": "c2b56c5f-a2f3-479e-9aff-e833b72b95be",
     "showTitle": false,
     "title": ""
    }
   },
   "source": [
    "## Registrando dados no banco\n",
    "Após aprovação, salvamos o dado sanitizado no banco e verificamos se tivemos sucesso"
   ]
  },
  {
   "cell_type": "code",
   "execution_count": 0,
   "metadata": {
    "application/vnd.databricks.v1+cell": {
     "cellMetadata": {
      "byteLimit": 2048000,
      "rowLimit": 10000
     },
     "inputWidgets": {},
     "nuid": "9a2bf1de-90a6-4fbb-a7a9-4711ae5d9105",
     "showTitle": false,
     "title": ""
    }
   },
   "outputs": [],
   "source": [
    "# Cria o banco de dados se ele não existir\n",
    "database_name = 'silver_database'\n",
    "table_name = 'silver_countries'\n",
    "\n",
    "\n",
    "spark.sql(f\"CREATE DATABASE IF NOT EXISTS {database_name}\")\n",
    "\n",
    "# Salva o DataFrame como tabela Delta\n",
    "countries_bronze_df.write.mode(\"overwrite\").format(\"delta\").option(\"mergeSchema\", \"true\").saveAsTable(\n",
    "    f\"{database_name}.{table_name}\"\n",
    ")"
   ]
  },
  {
   "cell_type": "code",
   "execution_count": 0,
   "metadata": {
    "application/vnd.databricks.v1+cell": {
     "cellMetadata": {
      "byteLimit": 2048000,
      "implicitDf": true,
      "rowLimit": 10000
     },
     "inputWidgets": {},
     "nuid": "9e9e49cc-1cad-493d-8945-b2fddfe51aa0",
     "showTitle": false,
     "title": ""
    }
   },
   "outputs": [
    {
     "output_type": "display_data",
     "data": {
      "text/html": [
       "<style scoped>\n",
       "  .table-result-container {\n",
       "    max-height: 300px;\n",
       "    overflow: auto;\n",
       "  }\n",
       "  table, th, td {\n",
       "    border: 1px solid black;\n",
       "    border-collapse: collapse;\n",
       "  }\n",
       "  th, td {\n",
       "    padding: 5px;\n",
       "  }\n",
       "  th {\n",
       "    text-align: left;\n",
       "  }\n",
       "</style><div class='table-result-container'><table class='table-result'><thead style='background-color: white'><tr><th>country_name</th><th>country_code</th></tr></thead><tbody><tr><td>Sudan</td><td>ST</td></tr><tr><td>Sweden</td><td>SE</td></tr><tr><td>Afghanistan</td><td>YA</td></tr><tr><td>Albania</td><td>ZA</td></tr><tr><td>China</td><td>B</td></tr><tr><td>Georgia</td><td>4L</td></tr><tr><td>Iraq</td><td>YI</td></tr><tr><td>Caribbean Netherlands</td><td>PJbes</td></tr><tr><td>Cape Verde</td><td>D4</td></tr><tr><td>Greenland</td><td>OYg</td></tr><tr><td>Guam</td><td>Ngu</td></tr><tr><td>Aruba</td><td>P4</td></tr><tr><td>Cayman Islands</td><td>VP-C</td></tr><tr><td>Antarctica</td><td>ant</td></tr><tr><td>French Guiana</td><td>F-Ofg</td></tr><tr><td>Brazil</td><td>PP</td></tr><tr><td>Chile</td><td>CC</td></tr><tr><td>Portugal</td><td>CS</td></tr><tr><td>Tanzania</td><td>5H</td></tr><tr><td>Belarus</td><td>EW</td></tr><tr><td>Indian Ocean</td><td>ind</td></tr><tr><td>Anguilla</td><td>VP-A</td></tr><tr><td>Saint Lucia</td><td>J6</td></tr><tr><td>Colombia</td><td>HK</td></tr><tr><td>Bosnia and Herzegovina</td><td>T9</td></tr><tr><td>Serbia</td><td>YU</td></tr><tr><td>Niger</td><td>5U</td></tr><tr><td>Laos</td><td>RDPL</td></tr><tr><td>Hungary</td><td>HA</td></tr><tr><td>Estonia</td><td>ES</td></tr><tr><td>Vietnam</td><td>VN</td></tr><tr><td>Western Sahara</td><td>EH</td></tr><tr><td>Sao Tome and Principe</td><td>S9</td></tr><tr><td>Seychelles</td><td>S7</td></tr><tr><td>Ecuador</td><td>HC</td></tr><tr><td>Spain</td><td>EC</td></tr><tr><td>Uganda</td><td>5X</td></tr><tr><td>Trinidad and Tobago</td><td>9Y</td></tr><tr><td>Lesotho</td><td>7P</td></tr><tr><td>Mozambique</td><td>C9</td></tr><tr><td>Singapore</td><td>9V</td></tr><tr><td>Papua New Guinea</td><td>P2</td></tr><tr><td>Belize</td><td>V3</td></tr><tr><td>Mauritius</td><td>3B</td></tr><tr><td>Myanmar</td><td>XY</td></tr><tr><td>Puerto Rico</td><td>Npr</td></tr><tr><td>South Korea</td><td>HL</td></tr><tr><td>South Sudan</td><td>STss</td></tr><tr><td>Pacific Ocean</td><td>pac</td></tr><tr><td>Jordan</td><td>JY</td></tr><tr><td>Macau</td><td>B-M</td></tr><tr><td>Mauritania</td><td>5T</td></tr><tr><td>Netherlands</td><td>PH</td></tr><tr><td>Solomon Islands</td><td>H4</td></tr><tr><td>Kosovo</td><td>Z6</td></tr><tr><td>Greece</td><td>SX</td></tr><tr><td>Burundi</td><td>9U</td></tr><tr><td>Samoa</td><td>5W</td></tr><tr><td>Armenia</td><td>EK</td></tr><tr><td>Antigua and Barbuda</td><td>V2</td></tr><tr><td>Dominica</td><td>J7</td></tr><tr><td>United Kingdom</td><td>G</td></tr><tr><td>Barbados</td><td>8P</td></tr><tr><td>Mali</td><td>TZ</td></tr><tr><td>Russia</td><td>RA</td></tr><tr><td>Moldova</td><td>ER</td></tr><tr><td>Uruguay</td><td>CX</td></tr><tr><td>New Caledonia</td><td>F-Onc</td></tr><tr><td>Northern Mariana Islands</td><td>Nnm</td></tr><tr><td>Cuba</td><td>CU</td></tr><tr><td>Bolivia</td><td>CP</td></tr><tr><td>Bahrain</td><td>A9C</td></tr><tr><td>Bangladesh</td><td>S2</td></tr><tr><td>Pakistan</td><td>AP</td></tr><tr><td>New Zealand</td><td>ZK</td></tr><tr><td>Venezuela</td><td>YV</td></tr><tr><td>Italy</td><td>I</td></tr><tr><td>Zambia</td><td>9J</td></tr><tr><td>Paraguay</td><td>ZP</td></tr><tr><td>Nigeria</td><td>5N</td></tr><tr><td>Tunisia</td><td>TS</td></tr><tr><td>Bahamas</td><td>C6</td></tr><tr><td>Kenya</td><td>5Y</td></tr><tr><td>Suriname</td><td>PZ</td></tr><tr><td>Haiti</td><td>HH</td></tr><tr><td>Rwanda</td><td>9XR</td></tr><tr><td>Saint Helena</td><td>Gsh</td></tr><tr><td>Tuvalu</td><td>T2</td></tr><tr><td>Syria</td><td>YK</td></tr><tr><td>Ireland</td><td>EI</td></tr><tr><td>Martinique</td><td>F-Oma</td></tr><tr><td>Uzbekistan</td><td>UK</td></tr><tr><td>British Virgin Islands</td><td>VP-L</td></tr><tr><td>Central African Republic</td><td>TL</td></tr><tr><td>San Marino</td><td>T7</td></tr><tr><td>Slovakia</td><td>OM</td></tr><tr><td>Guatemala</td><td>TG</td></tr><tr><td>India</td><td>VT</td></tr><tr><td>Cameroon</td><td>TJ</td></tr><tr><td>United Arab Emirates</td><td>A6</td></tr><tr><td>Turkmenistan</td><td>EZ</td></tr><tr><td>Maldives</td><td>8Q</td></tr><tr><td>Cyprus</td><td>5B</td></tr><tr><td>Montenegro</td><td>YUm</td></tr><tr><td>Saudi Arabia</td><td>HZ</td></tr><tr><td>Czech Republic</td><td>OK</td></tr><tr><td>Namibia</td><td>V5</td></tr><tr><td>North Pole</td><td>nop</td></tr><tr><td>Atlantic Ocean</td><td>atl</td></tr><tr><td>Cote d'Ivoire</td><td>TU</td></tr><tr><td>Benin</td><td>TY</td></tr><tr><td>Curaçao</td><td>PJ</td></tr><tr><td>Fiji</td><td>DQ</td></tr><tr><td>Grenada</td><td>J3</td></tr><tr><td>Lebanon</td><td>OD</td></tr><tr><td>Norway</td><td>LN</td></tr><tr><td>Kazakhstan</td><td>UN</td></tr><tr><td>Slovenia</td><td>S5</td></tr><tr><td>Dominican Republic</td><td>HI</td></tr><tr><td>U.S. Minor Outlying Islands</td><td>Nmo</td></tr><tr><td>Sint Maarten</td><td>PJsm</td></tr><tr><td>El Salvador</td><td>YS</td></tr><tr><td>Poland</td><td>SP</td></tr><tr><td>St. Kitts and Nevis</td><td>V4</td></tr><tr><td>Angola</td><td>D2</td></tr><tr><td>Mexico</td><td>XA</td></tr><tr><td>Yemen</td><td>7O</td></tr><tr><td>Comoros</td><td>D6</td></tr><tr><td>Iran</td><td>EP</td></tr><tr><td>Sri Lanka</td><td>4R</td></tr><tr><td>South Africa</td><td>ZS</td></tr><tr><td>Algeria</td><td>7T</td></tr><tr><td>Botswana</td><td>A2</td></tr><tr><td>Croatia</td><td>9A</td></tr><tr><td>Virgin Islands (U.S.)</td><td>Nvi</td></tr><tr><td>Honduras</td><td>HR</td></tr><tr><td>Morocco</td><td>CN</td></tr><tr><td>Gabon</td><td>TR</td></tr><tr><td>Oman</td><td>A4O</td></tr><tr><td>Bhutan</td><td>A5</td></tr><tr><td>Somalia</td><td>6O</td></tr><tr><td>Tajikistan</td><td>EY</td></tr><tr><td>Eswatini</td><td>3D</td></tr><tr><td>Jamaica</td><td>6Y</td></tr><tr><td>Togo</td><td>5V</td></tr><tr><td>Nepal</td><td>9N</td></tr><tr><td>Thailand</td><td>HS</td></tr><tr><td>Qatar</td><td>A7</td></tr><tr><td>Mediterranean Sea</td><td>med</td></tr><tr><td>Sierra Leone</td><td>9L</td></tr><tr><td>Turks and Caicos Islands</td><td>VQ-T</td></tr><tr><td>Azerbaijan</td><td>4K</td></tr><tr><td>Belgium</td><td>OO</td></tr><tr><td>Micronesia</td><td>V6</td></tr><tr><td>East Timor</td><td>CR-T</td></tr><tr><td>Libya</td><td>5A</td></tr><tr><td>Turkey</td><td>TC</td></tr><tr><td>Andorra</td><td>C3</td></tr><tr><td>Djibouti</td><td>J2</td></tr><tr><td>Burkina Faso</td><td>XT</td></tr><tr><td>Ethiopia</td><td>ET</td></tr><tr><td>Macedonia (FYROM)</td><td>Z3</td></tr><tr><td>Peru</td><td>OB</td></tr><tr><td>Montserrat</td><td>VP-M</td></tr><tr><td>Luxembourg</td><td>LX</td></tr><tr><td>Congo</td><td>TN</td></tr><tr><td>Japan</td><td>JA</td></tr><tr><td>Bermuda</td><td>VP-B</td></tr><tr><td>Cambodia</td><td>XU</td></tr><tr><td>Canada</td><td>C</td></tr><tr><td>Iceland</td><td>TF</td></tr><tr><td>Congo (former Zaire)</td><td>9Q</td></tr><tr><td>Equatorial Guinea</td><td>3C</td></tr><tr><td>Eritrea</td><td>E3</td></tr><tr><td>Gibraltar</td><td>VP-G</td></tr><tr><td>Saint Pierre and Miquelon</td><td>F-Osp</td></tr><tr><td>Zimbabwe</td><td>Z</td></tr><tr><td>Nauru</td><td>C2</td></tr><tr><td>Ghana</td><td>9G</td></tr><tr><td>Philippines</td><td>RP</td></tr><tr><td>Kiribati</td><td>T3</td></tr><tr><td>Guyana</td><td>8R</td></tr><tr><td>Costa Rica</td><td>TI</td></tr><tr><td>Malaysia</td><td>9M</td></tr><tr><td>American Samoa</td><td>Nas</td></tr><tr><td>Malta</td><td>9H</td></tr><tr><td>Mongolia</td><td>MT</td></tr><tr><td>USA</td><td>N</td></tr><tr><td>Egypt</td><td>SU</td></tr><tr><td>St. Pierre and Miquelon</td><td>F-Osp</td></tr><tr><td>Indonesia</td><td>PK</td></tr><tr><td>Lithuania</td><td>LY</td></tr><tr><td>North Korea</td><td>P</td></tr><tr><td>Palau</td><td>T8A</td></tr><tr><td>Senegal</td><td>6V</td></tr><tr><td>France</td><td>F</td></tr><tr><td>Liberia</td><td>EL</td></tr><tr><td>Finland</td><td>OH</td></tr><tr><td>Marshall Islands</td><td>V7</td></tr><tr><td>Panama</td><td>HP</td></tr><tr><td>Taiwan</td><td>Bt</td></tr><tr><td>French Polynesia</td><td>F-Opo</td></tr><tr><td>Denmark</td><td>OY</td></tr><tr><td>Gambia</td><td>C5</td></tr><tr><td>Kuwait</td><td>9K</td></tr><tr><td>Timor (East)</td><td>CR-T</td></tr><tr><td>Vanuatu</td><td>YJ</td></tr><tr><td>Chad</td><td>TT</td></tr><tr><td>Germany</td><td>D</td></tr><tr><td>Romania</td><td>YR</td></tr><tr><td>Guinea</td><td>3X</td></tr><tr><td>Ukraine</td><td>UR</td></tr><tr><td>Australia</td><td>VH</td></tr><tr><td>Unknown country</td><td>unk</td></tr><tr><td>Guinea-Bissau</td><td>J5</td></tr><tr><td>Falkland Islands</td><td>VP-F</td></tr><tr><td>Latvia</td><td>YL</td></tr><tr><td>Monaco</td><td>3A</td></tr><tr><td>Austria</td><td>OE</td></tr><tr><td>Bulgaria</td><td>LZ</td></tr><tr><td>Madagascar</td><td>5R</td></tr><tr><td>Saint Vincent and the Grenadines</td><td>J8</td></tr><tr><td>Réunion</td><td>F-Ore</td></tr><tr><td>Nicaragua</td><td>YN</td></tr><tr><td>Switzerland</td><td>HB</td></tr><tr><td>Guadeloupe</td><td>F-Ogu</td></tr><tr><td>Argentina</td><td>LV</td></tr><tr><td>Brunei</td><td>V8</td></tr><tr><td>Tonga</td><td>A3</td></tr><tr><td>Israel</td><td>4X</td></tr><tr><td>Hong Kong</td><td>VR-H</td></tr><tr><td>Kyrgyzstan</td><td>EX</td></tr><tr><td>Malawi</td><td>7Q</td></tr><tr><td>Europe</td><td>EU</td></tr></tbody></table></div>"
      ]
     },
     "metadata": {
      "application/vnd.databricks.v1+output": {
       "addedWidgets": {},
       "aggData": [],
       "aggError": "",
       "aggOverflow": false,
       "aggSchema": [],
       "aggSeriesLimitReached": false,
       "aggType": "",
       "arguments": {},
       "columnCustomDisplayInfos": {},
       "data": [
        [
         "Sudan",
         "ST"
        ],
        [
         "Sweden",
         "SE"
        ],
        [
         "Afghanistan",
         "YA"
        ],
        [
         "Albania",
         "ZA"
        ],
        [
         "China",
         "B"
        ],
        [
         "Georgia",
         "4L"
        ],
        [
         "Iraq",
         "YI"
        ],
        [
         "Caribbean Netherlands",
         "PJbes"
        ],
        [
         "Cape Verde",
         "D4"
        ],
        [
         "Greenland",
         "OYg"
        ],
        [
         "Guam",
         "Ngu"
        ],
        [
         "Aruba",
         "P4"
        ],
        [
         "Cayman Islands",
         "VP-C"
        ],
        [
         "Antarctica",
         "ant"
        ],
        [
         "French Guiana",
         "F-Ofg"
        ],
        [
         "Brazil",
         "PP"
        ],
        [
         "Chile",
         "CC"
        ],
        [
         "Portugal",
         "CS"
        ],
        [
         "Tanzania",
         "5H"
        ],
        [
         "Belarus",
         "EW"
        ],
        [
         "Indian Ocean",
         "ind"
        ],
        [
         "Anguilla",
         "VP-A"
        ],
        [
         "Saint Lucia",
         "J6"
        ],
        [
         "Colombia",
         "HK"
        ],
        [
         "Bosnia and Herzegovina",
         "T9"
        ],
        [
         "Serbia",
         "YU"
        ],
        [
         "Niger",
         "5U"
        ],
        [
         "Laos",
         "RDPL"
        ],
        [
         "Hungary",
         "HA"
        ],
        [
         "Estonia",
         "ES"
        ],
        [
         "Vietnam",
         "VN"
        ],
        [
         "Western Sahara",
         "EH"
        ],
        [
         "Sao Tome and Principe",
         "S9"
        ],
        [
         "Seychelles",
         "S7"
        ],
        [
         "Ecuador",
         "HC"
        ],
        [
         "Spain",
         "EC"
        ],
        [
         "Uganda",
         "5X"
        ],
        [
         "Trinidad and Tobago",
         "9Y"
        ],
        [
         "Lesotho",
         "7P"
        ],
        [
         "Mozambique",
         "C9"
        ],
        [
         "Singapore",
         "9V"
        ],
        [
         "Papua New Guinea",
         "P2"
        ],
        [
         "Belize",
         "V3"
        ],
        [
         "Mauritius",
         "3B"
        ],
        [
         "Myanmar",
         "XY"
        ],
        [
         "Puerto Rico",
         "Npr"
        ],
        [
         "South Korea",
         "HL"
        ],
        [
         "South Sudan",
         "STss"
        ],
        [
         "Pacific Ocean",
         "pac"
        ],
        [
         "Jordan",
         "JY"
        ],
        [
         "Macau",
         "B-M"
        ],
        [
         "Mauritania",
         "5T"
        ],
        [
         "Netherlands",
         "PH"
        ],
        [
         "Solomon Islands",
         "H4"
        ],
        [
         "Kosovo",
         "Z6"
        ],
        [
         "Greece",
         "SX"
        ],
        [
         "Burundi",
         "9U"
        ],
        [
         "Samoa",
         "5W"
        ],
        [
         "Armenia",
         "EK"
        ],
        [
         "Antigua and Barbuda",
         "V2"
        ],
        [
         "Dominica",
         "J7"
        ],
        [
         "United Kingdom",
         "G"
        ],
        [
         "Barbados",
         "8P"
        ],
        [
         "Mali",
         "TZ"
        ],
        [
         "Russia",
         "RA"
        ],
        [
         "Moldova",
         "ER"
        ],
        [
         "Uruguay",
         "CX"
        ],
        [
         "New Caledonia",
         "F-Onc"
        ],
        [
         "Northern Mariana Islands",
         "Nnm"
        ],
        [
         "Cuba",
         "CU"
        ],
        [
         "Bolivia",
         "CP"
        ],
        [
         "Bahrain",
         "A9C"
        ],
        [
         "Bangladesh",
         "S2"
        ],
        [
         "Pakistan",
         "AP"
        ],
        [
         "New Zealand",
         "ZK"
        ],
        [
         "Venezuela",
         "YV"
        ],
        [
         "Italy",
         "I"
        ],
        [
         "Zambia",
         "9J"
        ],
        [
         "Paraguay",
         "ZP"
        ],
        [
         "Nigeria",
         "5N"
        ],
        [
         "Tunisia",
         "TS"
        ],
        [
         "Bahamas",
         "C6"
        ],
        [
         "Kenya",
         "5Y"
        ],
        [
         "Suriname",
         "PZ"
        ],
        [
         "Haiti",
         "HH"
        ],
        [
         "Rwanda",
         "9XR"
        ],
        [
         "Saint Helena",
         "Gsh"
        ],
        [
         "Tuvalu",
         "T2"
        ],
        [
         "Syria",
         "YK"
        ],
        [
         "Ireland",
         "EI"
        ],
        [
         "Martinique",
         "F-Oma"
        ],
        [
         "Uzbekistan",
         "UK"
        ],
        [
         "British Virgin Islands",
         "VP-L"
        ],
        [
         "Central African Republic",
         "TL"
        ],
        [
         "San Marino",
         "T7"
        ],
        [
         "Slovakia",
         "OM"
        ],
        [
         "Guatemala",
         "TG"
        ],
        [
         "India",
         "VT"
        ],
        [
         "Cameroon",
         "TJ"
        ],
        [
         "United Arab Emirates",
         "A6"
        ],
        [
         "Turkmenistan",
         "EZ"
        ],
        [
         "Maldives",
         "8Q"
        ],
        [
         "Cyprus",
         "5B"
        ],
        [
         "Montenegro",
         "YUm"
        ],
        [
         "Saudi Arabia",
         "HZ"
        ],
        [
         "Czech Republic",
         "OK"
        ],
        [
         "Namibia",
         "V5"
        ],
        [
         "North Pole",
         "nop"
        ],
        [
         "Atlantic Ocean",
         "atl"
        ],
        [
         "Cote d'Ivoire",
         "TU"
        ],
        [
         "Benin",
         "TY"
        ],
        [
         "Curaçao",
         "PJ"
        ],
        [
         "Fiji",
         "DQ"
        ],
        [
         "Grenada",
         "J3"
        ],
        [
         "Lebanon",
         "OD"
        ],
        [
         "Norway",
         "LN"
        ],
        [
         "Kazakhstan",
         "UN"
        ],
        [
         "Slovenia",
         "S5"
        ],
        [
         "Dominican Republic",
         "HI"
        ],
        [
         "U.S. Minor Outlying Islands",
         "Nmo"
        ],
        [
         "Sint Maarten",
         "PJsm"
        ],
        [
         "El Salvador",
         "YS"
        ],
        [
         "Poland",
         "SP"
        ],
        [
         "St. Kitts and Nevis",
         "V4"
        ],
        [
         "Angola",
         "D2"
        ],
        [
         "Mexico",
         "XA"
        ],
        [
         "Yemen",
         "7O"
        ],
        [
         "Comoros",
         "D6"
        ],
        [
         "Iran",
         "EP"
        ],
        [
         "Sri Lanka",
         "4R"
        ],
        [
         "South Africa",
         "ZS"
        ],
        [
         "Algeria",
         "7T"
        ],
        [
         "Botswana",
         "A2"
        ],
        [
         "Croatia",
         "9A"
        ],
        [
         "Virgin Islands (U.S.)",
         "Nvi"
        ],
        [
         "Honduras",
         "HR"
        ],
        [
         "Morocco",
         "CN"
        ],
        [
         "Gabon",
         "TR"
        ],
        [
         "Oman",
         "A4O"
        ],
        [
         "Bhutan",
         "A5"
        ],
        [
         "Somalia",
         "6O"
        ],
        [
         "Tajikistan",
         "EY"
        ],
        [
         "Eswatini",
         "3D"
        ],
        [
         "Jamaica",
         "6Y"
        ],
        [
         "Togo",
         "5V"
        ],
        [
         "Nepal",
         "9N"
        ],
        [
         "Thailand",
         "HS"
        ],
        [
         "Qatar",
         "A7"
        ],
        [
         "Mediterranean Sea",
         "med"
        ],
        [
         "Sierra Leone",
         "9L"
        ],
        [
         "Turks and Caicos Islands",
         "VQ-T"
        ],
        [
         "Azerbaijan",
         "4K"
        ],
        [
         "Belgium",
         "OO"
        ],
        [
         "Micronesia",
         "V6"
        ],
        [
         "East Timor",
         "CR-T"
        ],
        [
         "Libya",
         "5A"
        ],
        [
         "Turkey",
         "TC"
        ],
        [
         "Andorra",
         "C3"
        ],
        [
         "Djibouti",
         "J2"
        ],
        [
         "Burkina Faso",
         "XT"
        ],
        [
         "Ethiopia",
         "ET"
        ],
        [
         "Macedonia (FYROM)",
         "Z3"
        ],
        [
         "Peru",
         "OB"
        ],
        [
         "Montserrat",
         "VP-M"
        ],
        [
         "Luxembourg",
         "LX"
        ],
        [
         "Congo",
         "TN"
        ],
        [
         "Japan",
         "JA"
        ],
        [
         "Bermuda",
         "VP-B"
        ],
        [
         "Cambodia",
         "XU"
        ],
        [
         "Canada",
         "C"
        ],
        [
         "Iceland",
         "TF"
        ],
        [
         "Congo (former Zaire)",
         "9Q"
        ],
        [
         "Equatorial Guinea",
         "3C"
        ],
        [
         "Eritrea",
         "E3"
        ],
        [
         "Gibraltar",
         "VP-G"
        ],
        [
         "Saint Pierre and Miquelon",
         "F-Osp"
        ],
        [
         "Zimbabwe",
         "Z"
        ],
        [
         "Nauru",
         "C2"
        ],
        [
         "Ghana",
         "9G"
        ],
        [
         "Philippines",
         "RP"
        ],
        [
         "Kiribati",
         "T3"
        ],
        [
         "Guyana",
         "8R"
        ],
        [
         "Costa Rica",
         "TI"
        ],
        [
         "Malaysia",
         "9M"
        ],
        [
         "American Samoa",
         "Nas"
        ],
        [
         "Malta",
         "9H"
        ],
        [
         "Mongolia",
         "MT"
        ],
        [
         "USA",
         "N"
        ],
        [
         "Egypt",
         "SU"
        ],
        [
         "St. Pierre and Miquelon",
         "F-Osp"
        ],
        [
         "Indonesia",
         "PK"
        ],
        [
         "Lithuania",
         "LY"
        ],
        [
         "North Korea",
         "P"
        ],
        [
         "Palau",
         "T8A"
        ],
        [
         "Senegal",
         "6V"
        ],
        [
         "France",
         "F"
        ],
        [
         "Liberia",
         "EL"
        ],
        [
         "Finland",
         "OH"
        ],
        [
         "Marshall Islands",
         "V7"
        ],
        [
         "Panama",
         "HP"
        ],
        [
         "Taiwan",
         "Bt"
        ],
        [
         "French Polynesia",
         "F-Opo"
        ],
        [
         "Denmark",
         "OY"
        ],
        [
         "Gambia",
         "C5"
        ],
        [
         "Kuwait",
         "9K"
        ],
        [
         "Timor (East)",
         "CR-T"
        ],
        [
         "Vanuatu",
         "YJ"
        ],
        [
         "Chad",
         "TT"
        ],
        [
         "Germany",
         "D"
        ],
        [
         "Romania",
         "YR"
        ],
        [
         "Guinea",
         "3X"
        ],
        [
         "Ukraine",
         "UR"
        ],
        [
         "Australia",
         "VH"
        ],
        [
         "Unknown country",
         "unk"
        ],
        [
         "Guinea-Bissau",
         "J5"
        ],
        [
         "Falkland Islands",
         "VP-F"
        ],
        [
         "Latvia",
         "YL"
        ],
        [
         "Monaco",
         "3A"
        ],
        [
         "Austria",
         "OE"
        ],
        [
         "Bulgaria",
         "LZ"
        ],
        [
         "Madagascar",
         "5R"
        ],
        [
         "Saint Vincent and the Grenadines",
         "J8"
        ],
        [
         "Réunion",
         "F-Ore"
        ],
        [
         "Nicaragua",
         "YN"
        ],
        [
         "Switzerland",
         "HB"
        ],
        [
         "Guadeloupe",
         "F-Ogu"
        ],
        [
         "Argentina",
         "LV"
        ],
        [
         "Brunei",
         "V8"
        ],
        [
         "Tonga",
         "A3"
        ],
        [
         "Israel",
         "4X"
        ],
        [
         "Hong Kong",
         "VR-H"
        ],
        [
         "Kyrgyzstan",
         "EX"
        ],
        [
         "Malawi",
         "7Q"
        ],
        [
         "Europe",
         "EU"
        ]
       ],
       "datasetInfos": [],
       "dbfsResultPath": null,
       "isJsonSchema": true,
       "metadata": {
        "dataframeName": "_sqldf",
        "executionCount": 7
       },
       "overflow": false,
       "plotOptions": {
        "customPlotOptions": {},
        "displayType": "table",
        "pivotAggregation": null,
        "pivotColumns": null,
        "xColumns": null,
        "yColumns": null
       },
       "removedWidgets": [],
       "schema": [
        {
         "metadata": "{}",
         "name": "country_name",
         "type": "\"string\""
        },
        {
         "metadata": "{}",
         "name": "country_code",
         "type": "\"string\""
        }
       ],
       "type": "table"
      }
     },
     "output_type": "display_data"
    }
   ],
   "source": [
    "%sql\n",
    "SELECT * from silver_database.silver_countries"
   ]
  },
  {
   "cell_type": "code",
   "execution_count": 0,
   "metadata": {
    "application/vnd.databricks.v1+cell": {
     "cellMetadata": {
      "byteLimit": 2048000,
      "rowLimit": 10000
     },
     "inputWidgets": {},
     "nuid": "3bc7ee7b-74de-4a87-8e55-4b21d1954cdf",
     "showTitle": false,
     "title": ""
    }
   },
   "outputs": [
    {
     "output_type": "execute_result",
     "data": {
      "text/plain": [
       "'\\nFinalizando clean_bronze_data_countries\\n'"
      ]
     },
     "execution_count": 8,
     "metadata": {},
     "output_type": "execute_result"
    }
   ],
   "source": [
    "'''\n",
    "Finalizando clean_bronze_data_countries\n",
    "'''"
   ]
  }
 ],
 "metadata": {
  "application/vnd.databricks.v1+notebook": {
   "dashboards": [],
   "environmentMetadata": null,
   "language": "python",
   "notebookMetadata": {
    "mostRecentlyExecutedCommandWithImplicitDF": {
     "commandId": 3247385692024630,
     "dataframes": [
      "_sqldf"
     ]
    },
    "pythonIndentUnit": 4
   },
   "notebookName": "clean_bronze_data_countries",
   "widgets": {}
  }
 },
 "nbformat": 4,
 "nbformat_minor": 0
}
