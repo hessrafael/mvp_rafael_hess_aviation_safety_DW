{
 "cells": [
  {
   "cell_type": "code",
   "execution_count": 0,
   "metadata": {
    "application/vnd.databricks.v1+cell": {
     "cellMetadata": {
      "byteLimit": 2048000,
      "rowLimit": 10000
     },
     "inputWidgets": {},
     "nuid": "30a4f3dd-2980-4bc5-ab34-4b5c57543754",
     "showTitle": false,
     "title": ""
    }
   },
   "outputs": [
    {
     "output_type": "execute_result",
     "data": {
      "text/plain": [
       "'\\nQuais as top 5 regiões com maior quantidade de acidentes em 2023?\\n'"
      ]
     },
     "execution_count": 25,
     "metadata": {},
     "output_type": "execute_result"
    }
   ],
   "source": [
    "'''\n",
    "Quais as top 5 regiões com maior quantidade de acidentes em 2023?\n",
    "'''"
   ]
  },
  {
   "cell_type": "code",
   "execution_count": 0,
   "metadata": {
    "application/vnd.databricks.v1+cell": {
     "cellMetadata": {
      "byteLimit": 2048000,
      "implicitDf": true,
      "rowLimit": 10000
     },
     "inputWidgets": {},
     "nuid": "05d45366-4b92-4558-8680-31ccaca5d5ea",
     "showTitle": false,
     "title": ""
    }
   },
   "outputs": [
    {
     "output_type": "display_data",
     "data": {
      "text/html": [
       "<style scoped>\n",
       "  .table-result-container {\n",
       "    max-height: 300px;\n",
       "    overflow: auto;\n",
       "  }\n",
       "  table, th, td {\n",
       "    border: 1px solid black;\n",
       "    border-collapse: collapse;\n",
       "  }\n",
       "  th, td {\n",
       "    padding: 5px;\n",
       "  }\n",
       "  th {\n",
       "    text-align: left;\n",
       "  }\n",
       "</style><div class='table-result-container'><table class='table-result'><thead style='background-color: white'><tr><th>region</th><th>nb_accidents</th></tr></thead><tbody><tr><td>USA</td><td>62</td></tr><tr><td>Sudan</td><td>22</td></tr><tr><td>Canada</td><td>13</td></tr><tr><td>Brazil</td><td>6</td></tr><tr><td>Russia</td><td>6</td></tr></tbody></table></div>"
      ]
     },
     "metadata": {
      "application/vnd.databricks.v1+output": {
       "addedWidgets": {},
       "aggData": [],
       "aggError": "",
       "aggOverflow": false,
       "aggSchema": [],
       "aggSeriesLimitReached": false,
       "aggType": "",
       "arguments": {},
       "columnCustomDisplayInfos": {},
       "data": [
        [
         "USA",
         62
        ],
        [
         "Sudan",
         22
        ],
        [
         "Canada",
         13
        ],
        [
         "Brazil",
         6
        ],
        [
         "Russia",
         6
        ]
       ],
       "datasetInfos": [],
       "dbfsResultPath": null,
       "isJsonSchema": true,
       "metadata": {
        "dataframeName": "_sqldf",
        "executionCount": 26
       },
       "overflow": false,
       "plotOptions": {
        "customPlotOptions": {},
        "displayType": "table",
        "pivotAggregation": null,
        "pivotColumns": null,
        "xColumns": null,
        "yColumns": null
       },
       "removedWidgets": [],
       "schema": [
        {
         "metadata": "{}",
         "name": "region",
         "type": "\"string\""
        },
        {
         "metadata": "{}",
         "name": "nb_accidents",
         "type": "\"long\""
        }
       ],
       "type": "table"
      }
     },
     "output_type": "display_data"
    }
   ],
   "source": [
    "\n",
    "%sql\n",
    "\n",
    "SELECT c.country_name as region, count(acc.index) as nb_accidents from gold_database.gold_accidents_fact as acc\n",
    "join gold_database.gold_countries_dim as c on c.country_code = acc.country_code\n",
    "join gold_database.gold_data_dim as d on d.date_id = acc.date_id\n",
    "where d.year = 2023\n",
    "GROUP BY c.country_name\n",
    "order by nb_accidents desc\n",
    "limit 5\n"
   ]
  },
  {
   "cell_type": "code",
   "execution_count": 0,
   "metadata": {
    "application/vnd.databricks.v1+cell": {
     "cellMetadata": {
      "byteLimit": 2048000,
      "rowLimit": 10000
     },
     "inputWidgets": {},
     "nuid": "136d58a9-575f-4acf-ad22-d70803026a58",
     "showTitle": false,
     "title": ""
    }
   },
   "outputs": [
    {
     "output_type": "execute_result",
     "data": {
      "text/plain": [
       "'\\nQual a idade média das aeronaves que se acidentaram em 2024?\\n'"
      ]
     },
     "execution_count": 27,
     "metadata": {},
     "output_type": "execute_result"
    }
   ],
   "source": [
    "'''\n",
    "Qual a idade média das aeronaves que se acidentaram em 2024?\n",
    "'''"
   ]
  },
  {
   "cell_type": "code",
   "execution_count": 0,
   "metadata": {
    "application/vnd.databricks.v1+cell": {
     "cellMetadata": {
      "byteLimit": 2048000,
      "implicitDf": true,
      "rowLimit": 10000
     },
     "inputWidgets": {},
     "nuid": "420ea2d9-804d-4309-b10a-573f5c1c3ee8",
     "showTitle": false,
     "title": ""
    }
   },
   "outputs": [
    {
     "output_type": "display_data",
     "data": {
      "text/html": [
       "<style scoped>\n",
       "  .table-result-container {\n",
       "    max-height: 300px;\n",
       "    overflow: auto;\n",
       "  }\n",
       "  table, th, td {\n",
       "    border: 1px solid black;\n",
       "    border-collapse: collapse;\n",
       "  }\n",
       "  th, td {\n",
       "    padding: 5px;\n",
       "  }\n",
       "  th {\n",
       "    text-align: left;\n",
       "  }\n",
       "</style><div class='table-result-container'><table class='table-result'><thead style='background-color: white'><tr><th>avg_age_in_years_of_aircrafts</th></tr></thead><tbody><tr><td>23.693877551020478</td></tr></tbody></table></div>"
      ]
     },
     "metadata": {
      "application/vnd.databricks.v1+output": {
       "addedWidgets": {},
       "aggData": [],
       "aggError": "",
       "aggOverflow": false,
       "aggSchema": [],
       "aggSeriesLimitReached": false,
       "aggType": "",
       "arguments": {},
       "columnCustomDisplayInfos": {},
       "data": [
        [
         23.693877551020478
        ]
       ],
       "datasetInfos": [],
       "dbfsResultPath": null,
       "isJsonSchema": true,
       "metadata": {
        "dataframeName": "_sqldf",
        "executionCount": 28
       },
       "overflow": false,
       "plotOptions": {
        "customPlotOptions": {},
        "displayType": "table",
        "pivotAggregation": null,
        "pivotColumns": null,
        "xColumns": null,
        "yColumns": null
       },
       "removedWidgets": [],
       "schema": [
        {
         "metadata": "{}",
         "name": "avg_age_in_years_of_aircrafts",
         "type": "\"double\""
        }
       ],
       "type": "table"
      }
     },
     "output_type": "display_data"
    }
   ],
   "source": [
    "%sql\n",
    "\n",
    "SELECT year(now())-avg(air.year_of_manufacture) as avg_age_in_years_of_aircrafts FROM gold_database.gold_accidents_fact as acc\n",
    "join gold_database.gold_data_dim as d on d.date_id = acc.date_id\n",
    "left join gold_database.gold_aircraft_type_dim as air on air.aircraft_id = acc.aircraft_id\n",
    "where d.year = 2024"
   ]
  },
  {
   "cell_type": "code",
   "execution_count": 0,
   "metadata": {
    "application/vnd.databricks.v1+cell": {
     "cellMetadata": {
      "byteLimit": 2048000,
      "rowLimit": 10000
     },
     "inputWidgets": {},
     "nuid": "a3ffd378-2169-448f-bd77-48f13c807fe6",
     "showTitle": false,
     "title": ""
    }
   },
   "outputs": [
    {
     "output_type": "execute_result",
     "data": {
      "text/plain": [
       "'\\nEm quais países são fabricadas as aeronaves que mais se acidentaram em 2023 e 2024?\\n'"
      ]
     },
     "execution_count": 29,
     "metadata": {},
     "output_type": "execute_result"
    }
   ],
   "source": [
    "'''\n",
    "Em quais países são fabricadas as aeronaves que mais se acidentaram em 2023 e 2024?\n",
    "'''"
   ]
  },
  {
   "cell_type": "code",
   "execution_count": 0,
   "metadata": {
    "application/vnd.databricks.v1+cell": {
     "cellMetadata": {
      "byteLimit": 2048000,
      "implicitDf": true,
      "rowLimit": 10000
     },
     "inputWidgets": {},
     "nuid": "c3c128d8-d317-4eda-9d8e-1a6068cf75e0",
     "showTitle": false,
     "title": ""
    }
   },
   "outputs": [
    {
     "output_type": "display_data",
     "data": {
      "text/html": [
       "<style scoped>\n",
       "  .table-result-container {\n",
       "    max-height: 300px;\n",
       "    overflow: auto;\n",
       "  }\n",
       "  table, th, td {\n",
       "    border: 1px solid black;\n",
       "    border-collapse: collapse;\n",
       "  }\n",
       "  th, td {\n",
       "    padding: 5px;\n",
       "  }\n",
       "  th {\n",
       "    text-align: left;\n",
       "  }\n",
       "</style><div class='table-result-container'><table class='table-result'><thead style='background-color: white'><tr><th>manufacturer_country_name</th><th>acc_per_country</th></tr></thead><tbody><tr><td>USA</td><td>24</td></tr><tr><td>Ukraine</td><td>6</td></tr><tr><td>Russia</td><td>5</td></tr></tbody></table></div>"
      ]
     },
     "metadata": {
      "application/vnd.databricks.v1+output": {
       "addedWidgets": {},
       "aggData": [],
       "aggError": "",
       "aggOverflow": false,
       "aggSchema": [],
       "aggSeriesLimitReached": false,
       "aggType": "",
       "arguments": {},
       "columnCustomDisplayInfos": {},
       "data": [
        [
         "USA",
         24
        ],
        [
         "Ukraine",
         6
        ],
        [
         "Russia",
         5
        ]
       ],
       "datasetInfos": [],
       "dbfsResultPath": null,
       "isJsonSchema": true,
       "metadata": {
        "dataframeName": "_sqldf",
        "executionCount": 30
       },
       "overflow": false,
       "plotOptions": {
        "customPlotOptions": {},
        "displayType": "table",
        "pivotAggregation": null,
        "pivotColumns": null,
        "xColumns": null,
        "yColumns": null
       },
       "removedWidgets": [],
       "schema": [
        {
         "metadata": "{}",
         "name": "manufacturer_country_name",
         "type": "\"string\""
        },
        {
         "metadata": "{}",
         "name": "acc_per_country",
         "type": "\"long\""
        }
       ],
       "type": "table"
      }
     },
     "output_type": "display_data"
    }
   ],
   "source": [
    "%sql\n",
    "WITH top_5_acc as (SELECT air.aircraft_type, air.manufacturer_country_name, count(acc.index) as total_acc FROM gold_database.gold_accidents_fact as acc\n",
    "join gold_database.gold_data_dim as d on d.date_id = acc.date_id\n",
    "left join gold_database.gold_aircraft_type_dim as air on air.aircraft_id = acc.aircraft_id\n",
    "where d.year >= 2023\n",
    "GROUP BY air.aircraft_type, air.manufacturer_country_name\n",
    "order by total_acc desc\n",
    "limit 5)\n",
    "\n",
    "select manufacturer_country_name, sum(total_acc) as acc_per_country from top_5_acc\n",
    "group by manufacturer_country_name\n",
    "order by acc_per_country desc"
   ]
  },
  {
   "cell_type": "code",
   "execution_count": 0,
   "metadata": {
    "application/vnd.databricks.v1+cell": {
     "cellMetadata": {
      "byteLimit": 2048000,
      "rowLimit": 10000
     },
     "inputWidgets": {},
     "nuid": "d2045581-aa5c-4807-ac54-6bbd168e44b9",
     "showTitle": false,
     "title": ""
    }
   },
   "outputs": [
    {
     "output_type": "execute_result",
     "data": {
      "text/plain": [
       "'\\nQuais são as aeronaves que mais se acidentaram em 2023 e 2024?\\n'"
      ]
     },
     "execution_count": 31,
     "metadata": {},
     "output_type": "execute_result"
    }
   ],
   "source": [
    "'''\n",
    "Quais são as aeronaves que mais se acidentaram em 2023 e 2024?\n",
    "'''"
   ]
  },
  {
   "cell_type": "code",
   "execution_count": 0,
   "metadata": {
    "application/vnd.databricks.v1+cell": {
     "cellMetadata": {
      "byteLimit": 2048000,
      "implicitDf": true,
      "rowLimit": 10000
     },
     "inputWidgets": {},
     "nuid": "97fd0e83-9c47-48ce-9c8c-ff676f93c526",
     "showTitle": false,
     "title": ""
    }
   },
   "outputs": [
    {
     "output_type": "display_data",
     "data": {
      "text/html": [
       "<style scoped>\n",
       "  .table-result-container {\n",
       "    max-height: 300px;\n",
       "    overflow: auto;\n",
       "  }\n",
       "  table, th, td {\n",
       "    border: 1px solid black;\n",
       "    border-collapse: collapse;\n",
       "  }\n",
       "  th, td {\n",
       "    padding: 5px;\n",
       "  }\n",
       "  th {\n",
       "    text-align: left;\n",
       "  }\n",
       "</style><div class='table-result-container'><table class='table-result'><thead style='background-color: white'><tr><th>aircraft_type</th><th>manufacturer_country_name</th><th>total_acc</th></tr></thead><tbody><tr><td>\n",
       "Cessna 208B Grand Caravan</td><td>USA</td><td>15</td></tr><tr><td>\n",
       "Antonov An-2R</td><td>Ukraine</td><td>6</td></tr><tr><td>\n",
       "Ilyushin Il-76TD</td><td>Russia</td><td>5</td></tr><tr><td>\n",
       "Boeing 787-9 Dreamliner</td><td>USA</td><td>5</td></tr><tr><td>\n",
       "Cessna 550 Citation II</td><td>USA</td><td>4</td></tr></tbody></table></div>"
      ]
     },
     "metadata": {
      "application/vnd.databricks.v1+output": {
       "addedWidgets": {},
       "aggData": [],
       "aggError": "",
       "aggOverflow": false,
       "aggSchema": [],
       "aggSeriesLimitReached": false,
       "aggType": "",
       "arguments": {},
       "columnCustomDisplayInfos": {},
       "data": [
        [
         "\nCessna 208B Grand Caravan",
         "USA",
         15
        ],
        [
         "\nAntonov An-2R",
         "Ukraine",
         6
        ],
        [
         "\nIlyushin Il-76TD",
         "Russia",
         5
        ],
        [
         "\nBoeing 787-9 Dreamliner",
         "USA",
         5
        ],
        [
         "\nCessna 550 Citation II",
         "USA",
         4
        ]
       ],
       "datasetInfos": [],
       "dbfsResultPath": null,
       "isJsonSchema": true,
       "metadata": {
        "dataframeName": "_sqldf",
        "executionCount": 32
       },
       "overflow": false,
       "plotOptions": {
        "customPlotOptions": {},
        "displayType": "table",
        "pivotAggregation": null,
        "pivotColumns": null,
        "xColumns": null,
        "yColumns": null
       },
       "removedWidgets": [],
       "schema": [
        {
         "metadata": "{}",
         "name": "aircraft_type",
         "type": "\"string\""
        },
        {
         "metadata": "{}",
         "name": "manufacturer_country_name",
         "type": "\"string\""
        },
        {
         "metadata": "{}",
         "name": "total_acc",
         "type": "\"long\""
        }
       ],
       "type": "table"
      }
     },
     "output_type": "display_data"
    }
   ],
   "source": [
    "%sql\n",
    "SELECT air.aircraft_type, air.manufacturer_country_name, count(acc.index) as total_acc FROM gold_database.gold_accidents_fact as acc\n",
    "join gold_database.gold_data_dim as d on d.date_id = acc.date_id\n",
    "left join gold_database.gold_aircraft_type_dim as air on air.aircraft_id = acc.aircraft_id\n",
    "where d.year >= 2023\n",
    "GROUP BY air.aircraft_type, air.manufacturer_country_name\n",
    "order by total_acc desc\n",
    "limit 5"
   ]
  },
  {
   "cell_type": "code",
   "execution_count": 0,
   "metadata": {
    "application/vnd.databricks.v1+cell": {
     "cellMetadata": {
      "byteLimit": 2048000,
      "rowLimit": 10000
     },
     "inputWidgets": {},
     "nuid": "61f92db1-a206-42d6-a5f3-35bd98e2c19f",
     "showTitle": false,
     "title": ""
    }
   },
   "outputs": [
    {
     "output_type": "execute_result",
     "data": {
      "text/plain": [
       "'\\nQual a fase de voo com mais acidentes por regiao?\\n'"
      ]
     },
     "execution_count": 33,
     "metadata": {},
     "output_type": "execute_result"
    }
   ],
   "source": [
    "'''\n",
    "Qual a fase de voo com mais acidentes por regiao?\n",
    "'''"
   ]
  },
  {
   "cell_type": "code",
   "execution_count": 0,
   "metadata": {
    "application/vnd.databricks.v1+cell": {
     "cellMetadata": {
      "byteLimit": 2048000,
      "implicitDf": true,
      "rowLimit": 10000
     },
     "inputWidgets": {},
     "nuid": "b860b88c-cbb2-402e-9c9a-d293185ca7ba",
     "showTitle": false,
     "title": ""
    }
   },
   "outputs": [
    {
     "output_type": "display_data",
     "data": {
      "text/html": [
       "<style scoped>\n",
       "  .table-result-container {\n",
       "    max-height: 300px;\n",
       "    overflow: auto;\n",
       "  }\n",
       "  table, th, td {\n",
       "    border: 1px solid black;\n",
       "    border-collapse: collapse;\n",
       "  }\n",
       "  th, td {\n",
       "    padding: 5px;\n",
       "  }\n",
       "  th {\n",
       "    text-align: left;\n",
       "  }\n",
       "</style><div class='table-result-container'><table class='table-result'><thead style='background-color: white'><tr><th>country_name</th><th>phase</th><th>accident_count</th></tr></thead><tbody><tr><td>Afghanistan</td><td>En route</td><td>1</td></tr><tr><td>Antarctica</td><td>Take off</td><td>1</td></tr><tr><td>Argentina</td><td>Landing</td><td>3</td></tr><tr><td>Atlantic Ocean</td><td>En route</td><td>5</td></tr><tr><td>Australia</td><td>Take off</td><td>3</td></tr><tr><td>Bahamas</td><td>Landing</td><td>2</td></tr><tr><td>Belgium</td><td>Approach</td><td>1</td></tr><tr><td>Belize</td><td>Take off</td><td>1</td></tr><tr><td>Brazil</td><td>Landing</td><td>6</td></tr><tr><td>Canada</td><td>En route</td><td>5</td></tr><tr><td>Caribbean Netherlands</td><td>Landing</td><td>1</td></tr><tr><td>Chad</td><td>Standing</td><td>1</td></tr><tr><td>China</td><td>Approach</td><td>1</td></tr><tr><td>China</td><td>Unknown</td><td>1</td></tr><tr><td>Colombia</td><td>Pushback / towing</td><td>1</td></tr><tr><td>Comoros</td><td>Take off</td><td>1</td></tr><tr><td>Congo</td><td>Landing</td><td>4</td></tr><tr><td>Ecuador</td><td>Initial climb</td><td>1</td></tr><tr><td>Ethiopia</td><td>Landing</td><td>1</td></tr><tr><td>France</td><td>Approach</td><td>2</td></tr><tr><td>France</td><td>Taxi</td><td>2</td></tr><tr><td>Germany</td><td>Standing</td><td>2</td></tr><tr><td>Greece</td><td>Manoeuvring (airshow, firefighting, ag.ops.)</td><td>1</td></tr><tr><td>Guam</td><td>Standing</td><td>1</td></tr><tr><td>Guatemala</td><td>Landing</td><td>1</td></tr><tr><td>Hong Kong</td><td>Take off</td><td>1</td></tr><tr><td>Hong Kong</td><td>En route</td><td>1</td></tr><tr><td>India</td><td>Landing</td><td>1</td></tr><tr><td>Indian Ocean</td><td>En route</td><td>3</td></tr><tr><td>Indonesia</td><td>Landing</td><td>4</td></tr><tr><td>Italy</td><td>En route</td><td>1</td></tr><tr><td>Japan</td><td>En route</td><td>4</td></tr><tr><td>Jordan</td><td>Landing</td><td>1</td></tr><tr><td>Kazakhstan</td><td>Take off</td><td>1</td></tr><tr><td>Kenya</td><td>Initial climb</td><td>2</td></tr><tr><td>Lebanon</td><td>Landing</td><td>1</td></tr><tr><td>Libya</td><td>Standing</td><td>1</td></tr><tr><td>Lithuania</td><td>Taxi</td><td>1</td></tr><tr><td>Luxembourg</td><td>Landing</td><td>1</td></tr><tr><td>Malaysia</td><td>Approach</td><td>1</td></tr><tr><td>Maldives</td><td>Landing</td><td>1</td></tr><tr><td>Mali</td><td>Landing</td><td>1</td></tr><tr><td>Mexico</td><td>Landing</td><td>3</td></tr><tr><td>Morocco</td><td>Standing</td><td>1</td></tr><tr><td>Myanmar</td><td>En route</td><td>1</td></tr><tr><td>Namibia</td><td>En route</td><td>1</td></tr><tr><td>Nepal</td><td>Approach</td><td>1</td></tr><tr><td>Netherlands</td><td>Pushback / towing</td><td>1</td></tr><tr><td>Netherlands</td><td>Standing</td><td>1</td></tr><tr><td>Pacific Ocean</td><td>En route</td><td>2</td></tr><tr><td>Panama</td><td>Landing</td><td>1</td></tr><tr><td>Papua New Guinea</td><td>Landing</td><td>2</td></tr><tr><td>Paraguay</td><td>En route</td><td>1</td></tr><tr><td>Poland</td><td>Take off</td><td>1</td></tr><tr><td>Russia</td><td>En route</td><td>5</td></tr><tr><td>Senegal</td><td>Take off</td><td>1</td></tr><tr><td>Serbia</td><td>Take off</td><td>1</td></tr><tr><td>Somalia</td><td>Landing</td><td>3</td></tr><tr><td>South Africa</td><td>Landing</td><td>1</td></tr><tr><td>South Korea</td><td>Initial climb</td><td>1</td></tr><tr><td>South Korea</td><td>En route</td><td>1</td></tr><tr><td>South Sudan</td><td>Landing</td><td>5</td></tr><tr><td>Spain</td><td>Taxi</td><td>2</td></tr><tr><td>Sudan</td><td>Standing</td><td>21</td></tr><tr><td>Sweden</td><td>Take off</td><td>1</td></tr><tr><td>Taiwan</td><td>Landing</td><td>1</td></tr><tr><td>Tajikistan</td><td>Take off</td><td>1</td></tr><tr><td>Tanzania</td><td>Take off</td><td>1</td></tr><tr><td>Tanzania</td><td>Landing</td><td>1</td></tr><tr><td>Tonga</td><td>Taxi</td><td>1</td></tr><tr><td>Turkey</td><td>Landing</td><td>1</td></tr><tr><td>Turkey</td><td>En route</td><td>1</td></tr><tr><td>USA</td><td>Landing</td><td>27</td></tr><tr><td>Uganda</td><td>Landing</td><td>2</td></tr><tr><td>United Kingdom</td><td>En route</td><td>1</td></tr><tr><td>United Kingdom</td><td>Taxi</td><td>1</td></tr><tr><td>United Kingdom</td><td>Initial climb</td><td>1</td></tr><tr><td>United Kingdom</td><td>Landing</td><td>1</td></tr><tr><td>Venezuela</td><td>Landing</td><td>1</td></tr></tbody></table></div>"
      ]
     },
     "metadata": {
      "application/vnd.databricks.v1+output": {
       "addedWidgets": {},
       "aggData": [],
       "aggError": "",
       "aggOverflow": false,
       "aggSchema": [],
       "aggSeriesLimitReached": false,
       "aggType": "",
       "arguments": {},
       "columnCustomDisplayInfos": {},
       "data": [
        [
         "Afghanistan",
         "En route",
         1
        ],
        [
         "Antarctica",
         "Take off",
         1
        ],
        [
         "Argentina",
         "Landing",
         3
        ],
        [
         "Atlantic Ocean",
         "En route",
         5
        ],
        [
         "Australia",
         "Take off",
         3
        ],
        [
         "Bahamas",
         "Landing",
         2
        ],
        [
         "Belgium",
         "Approach",
         1
        ],
        [
         "Belize",
         "Take off",
         1
        ],
        [
         "Brazil",
         "Landing",
         6
        ],
        [
         "Canada",
         "En route",
         5
        ],
        [
         "Caribbean Netherlands",
         "Landing",
         1
        ],
        [
         "Chad",
         "Standing",
         1
        ],
        [
         "China",
         "Approach",
         1
        ],
        [
         "China",
         "Unknown",
         1
        ],
        [
         "Colombia",
         "Pushback / towing",
         1
        ],
        [
         "Comoros",
         "Take off",
         1
        ],
        [
         "Congo",
         "Landing",
         4
        ],
        [
         "Ecuador",
         "Initial climb",
         1
        ],
        [
         "Ethiopia",
         "Landing",
         1
        ],
        [
         "France",
         "Approach",
         2
        ],
        [
         "France",
         "Taxi",
         2
        ],
        [
         "Germany",
         "Standing",
         2
        ],
        [
         "Greece",
         "Manoeuvring (airshow, firefighting, ag.ops.)",
         1
        ],
        [
         "Guam",
         "Standing",
         1
        ],
        [
         "Guatemala",
         "Landing",
         1
        ],
        [
         "Hong Kong",
         "Take off",
         1
        ],
        [
         "Hong Kong",
         "En route",
         1
        ],
        [
         "India",
         "Landing",
         1
        ],
        [
         "Indian Ocean",
         "En route",
         3
        ],
        [
         "Indonesia",
         "Landing",
         4
        ],
        [
         "Italy",
         "En route",
         1
        ],
        [
         "Japan",
         "En route",
         4
        ],
        [
         "Jordan",
         "Landing",
         1
        ],
        [
         "Kazakhstan",
         "Take off",
         1
        ],
        [
         "Kenya",
         "Initial climb",
         2
        ],
        [
         "Lebanon",
         "Landing",
         1
        ],
        [
         "Libya",
         "Standing",
         1
        ],
        [
         "Lithuania",
         "Taxi",
         1
        ],
        [
         "Luxembourg",
         "Landing",
         1
        ],
        [
         "Malaysia",
         "Approach",
         1
        ],
        [
         "Maldives",
         "Landing",
         1
        ],
        [
         "Mali",
         "Landing",
         1
        ],
        [
         "Mexico",
         "Landing",
         3
        ],
        [
         "Morocco",
         "Standing",
         1
        ],
        [
         "Myanmar",
         "En route",
         1
        ],
        [
         "Namibia",
         "En route",
         1
        ],
        [
         "Nepal",
         "Approach",
         1
        ],
        [
         "Netherlands",
         "Pushback / towing",
         1
        ],
        [
         "Netherlands",
         "Standing",
         1
        ],
        [
         "Pacific Ocean",
         "En route",
         2
        ],
        [
         "Panama",
         "Landing",
         1
        ],
        [
         "Papua New Guinea",
         "Landing",
         2
        ],
        [
         "Paraguay",
         "En route",
         1
        ],
        [
         "Poland",
         "Take off",
         1
        ],
        [
         "Russia",
         "En route",
         5
        ],
        [
         "Senegal",
         "Take off",
         1
        ],
        [
         "Serbia",
         "Take off",
         1
        ],
        [
         "Somalia",
         "Landing",
         3
        ],
        [
         "South Africa",
         "Landing",
         1
        ],
        [
         "South Korea",
         "Initial climb",
         1
        ],
        [
         "South Korea",
         "En route",
         1
        ],
        [
         "South Sudan",
         "Landing",
         5
        ],
        [
         "Spain",
         "Taxi",
         2
        ],
        [
         "Sudan",
         "Standing",
         21
        ],
        [
         "Sweden",
         "Take off",
         1
        ],
        [
         "Taiwan",
         "Landing",
         1
        ],
        [
         "Tajikistan",
         "Take off",
         1
        ],
        [
         "Tanzania",
         "Take off",
         1
        ],
        [
         "Tanzania",
         "Landing",
         1
        ],
        [
         "Tonga",
         "Taxi",
         1
        ],
        [
         "Turkey",
         "Landing",
         1
        ],
        [
         "Turkey",
         "En route",
         1
        ],
        [
         "USA",
         "Landing",
         27
        ],
        [
         "Uganda",
         "Landing",
         2
        ],
        [
         "United Kingdom",
         "En route",
         1
        ],
        [
         "United Kingdom",
         "Taxi",
         1
        ],
        [
         "United Kingdom",
         "Initial climb",
         1
        ],
        [
         "United Kingdom",
         "Landing",
         1
        ],
        [
         "Venezuela",
         "Landing",
         1
        ]
       ],
       "datasetInfos": [],
       "dbfsResultPath": null,
       "isJsonSchema": true,
       "metadata": {
        "dataframeName": "_sqldf",
        "executionCount": 34
       },
       "overflow": false,
       "plotOptions": {
        "customPlotOptions": {},
        "displayType": "table",
        "pivotAggregation": null,
        "pivotColumns": null,
        "xColumns": null,
        "yColumns": null
       },
       "removedWidgets": [],
       "schema": [
        {
         "metadata": "{}",
         "name": "country_name",
         "type": "\"string\""
        },
        {
         "metadata": "{}",
         "name": "phase",
         "type": "\"string\""
        },
        {
         "metadata": "{}",
         "name": "accident_count",
         "type": "\"long\""
        }
       ],
       "type": "table"
      }
     },
     "output_type": "display_data"
    }
   ],
   "source": [
    "%sql \n",
    "\n",
    "WITH accidents_by_phase AS (\n",
    "    SELECT c.country_name, acc.phase, COUNT(acc.index) AS accident_count FROM gold_database.gold_accidents_fact AS acc\n",
    "    JOIN gold_database.gold_countries_dim AS c ON acc.country_code = c.country_code\n",
    "    GROUP BY c.country_name, acc.phase),\n",
    "max_accidents_by_country AS (\n",
    "    SELECT country_name, MAX(accident_count) AS max_accident_count FROM accidents_by_phase\n",
    "    GROUP BY country_name)\n",
    "\n",
    "SELECT a.country_name, a.phase, a.accident_count FROM accidents_by_phase AS a\n",
    "JOIN max_accidents_by_country AS m ON a.country_name = m.country_name AND a.accident_count = m.max_accident_count\n",
    "ORDER BY a.country_name;\n",
    "\n",
    "\n"
   ]
  },
  {
   "cell_type": "code",
   "execution_count": 0,
   "metadata": {
    "application/vnd.databricks.v1+cell": {
     "cellMetadata": {
      "byteLimit": 2048000,
      "rowLimit": 10000
     },
     "inputWidgets": {},
     "nuid": "ab7f2f7a-31d6-4517-8bca-55ab2392b531",
     "showTitle": false,
     "title": ""
    }
   },
   "outputs": [
    {
     "output_type": "execute_result",
     "data": {
      "text/plain": [
       "'\\nQuantas vítimas fatais tivemos por ano?\\n'"
      ]
     },
     "execution_count": 35,
     "metadata": {},
     "output_type": "execute_result"
    }
   ],
   "source": [
    "'''\n",
    "Quantas vítimas fatais tivemos por ano?\n",
    "'''"
   ]
  },
  {
   "cell_type": "code",
   "execution_count": 0,
   "metadata": {
    "application/vnd.databricks.v1+cell": {
     "cellMetadata": {
      "byteLimit": 2048000,
      "implicitDf": true,
      "rowLimit": 10000
     },
     "inputWidgets": {},
     "nuid": "a3c8df56-3fb1-482d-ad72-d7c3580c0bfc",
     "showTitle": false,
     "title": ""
    }
   },
   "outputs": [
    {
     "output_type": "display_data",
     "data": {
      "text/html": [
       "<style scoped>\n",
       "  .table-result-container {\n",
       "    max-height: 300px;\n",
       "    overflow: auto;\n",
       "  }\n",
       "  table, th, td {\n",
       "    border: 1px solid black;\n",
       "    border-collapse: collapse;\n",
       "  }\n",
       "  th, td {\n",
       "    padding: 5px;\n",
       "  }\n",
       "  th {\n",
       "    text-align: left;\n",
       "  }\n",
       "</style><div class='table-result-container'><table class='table-result'><thead style='background-color: white'><tr><th>year</th><th>total_fatal_victims</th></tr></thead><tbody><tr><td>2023</td><td>188</td></tr><tr><td>2024</td><td>53</td></tr></tbody></table></div>"
      ]
     },
     "metadata": {
      "application/vnd.databricks.v1+output": {
       "addedWidgets": {},
       "aggData": [],
       "aggError": "",
       "aggOverflow": false,
       "aggSchema": [],
       "aggSeriesLimitReached": false,
       "aggType": "",
       "arguments": {},
       "columnCustomDisplayInfos": {},
       "data": [
        [
         2023,
         188
        ],
        [
         2024,
         53
        ]
       ],
       "datasetInfos": [],
       "dbfsResultPath": null,
       "isJsonSchema": true,
       "metadata": {
        "dataframeName": "_sqldf",
        "executionCount": 36
       },
       "overflow": false,
       "plotOptions": {
        "customPlotOptions": {},
        "displayType": "table",
        "pivotAggregation": null,
        "pivotColumns": null,
        "xColumns": null,
        "yColumns": null
       },
       "removedWidgets": [],
       "schema": [
        {
         "metadata": "{}",
         "name": "year",
         "type": "\"integer\""
        },
        {
         "metadata": "{}",
         "name": "total_fatal_victims",
         "type": "\"long\""
        }
       ],
       "type": "table"
      }
     },
     "output_type": "display_data"
    }
   ],
   "source": [
    "%sql\n",
    "\n",
    "select d.year, sum(acc.other_fatalities + acc.nb_fatalities) as total_fatal_victims from gold_database.gold_accidents_fact as acc\n",
    "join gold_database.gold_data_dim as d on d.date_id = acc.date_id\n",
    "group by d.year\n"
   ]
  }
 ],
 "metadata": {
  "application/vnd.databricks.v1+notebook": {
   "dashboards": [],
   "environmentMetadata": null,
   "language": "python",
   "notebookMetadata": {
    "mostRecentlyExecutedCommandWithImplicitDF": {
     "commandId": 1328482666433034,
     "dataframes": [
      "_sqldf"
     ]
    },
    "pythonIndentUnit": 4
   },
   "notebookName": "queries_for_BI",
   "widgets": {}
  }
 },
 "nbformat": 4,
 "nbformat_minor": 0
}
