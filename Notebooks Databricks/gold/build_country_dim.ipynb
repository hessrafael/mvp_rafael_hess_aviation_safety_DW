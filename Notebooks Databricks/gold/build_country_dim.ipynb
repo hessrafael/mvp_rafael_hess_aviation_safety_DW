{
 "cells": [
  {
   "cell_type": "code",
   "execution_count": 0,
   "metadata": {
    "application/vnd.databricks.v1+cell": {
     "cellMetadata": {
      "byteLimit": 2048000,
      "rowLimit": 10000
     },
     "inputWidgets": {},
     "nuid": "59f7d0a1-98ec-43ce-86ba-9d0b25da8f03",
     "showTitle": false,
     "title": ""
    }
   },
   "outputs": [
    {
     "output_type": "execute_result",
     "data": {
      "text/plain": [
       "'\\nIniciando build_country_dim\\n'"
      ]
     },
     "execution_count": 1,
     "metadata": {},
     "output_type": "execute_result"
    }
   ],
   "source": [
    "'''\n",
    "Iniciando build_country_dim\n",
    "'''"
   ]
  },
  {
   "cell_type": "markdown",
   "metadata": {
    "application/vnd.databricks.v1+cell": {
     "cellMetadata": {
      "byteLimit": 2048000,
      "rowLimit": 10000
     },
     "inputWidgets": {},
     "nuid": "534214cf-0bd7-423c-b226-8ca86a8e2b9d",
     "showTitle": false,
     "title": ""
    }
   },
   "source": [
    "Importando funções comuns para uso no notebook\n"
   ]
  },
  {
   "cell_type": "code",
   "execution_count": 0,
   "metadata": {
    "application/vnd.databricks.v1+cell": {
     "cellMetadata": {
      "byteLimit": 2048000,
      "rowLimit": 10000
     },
     "inputWidgets": {},
     "nuid": "a892489d-50bb-4169-9448-0cfd9894e65b",
     "showTitle": false,
     "title": ""
    }
   },
   "outputs": [],
   "source": [
    "%run\n",
    "./shared_gold_functions"
   ]
  },
  {
   "cell_type": "markdown",
   "metadata": {
    "application/vnd.databricks.v1+cell": {
     "cellMetadata": {
      "byteLimit": 2048000,
      "rowLimit": 10000
     },
     "inputWidgets": {},
     "nuid": "0496f237-eaa7-41f4-9f0a-b53ef9ce6da9",
     "showTitle": false,
     "title": ""
    }
   },
   "source": [
    "Inicializando sessão spark, definindo o schema da tabela final e importando dados da tabela silver"
   ]
  },
  {
   "cell_type": "code",
   "execution_count": 0,
   "metadata": {
    "application/vnd.databricks.v1+cell": {
     "cellMetadata": {
      "byteLimit": 2048000,
      "rowLimit": 10000
     },
     "inputWidgets": {},
     "nuid": "8dc4d825-b719-4b8d-8d2f-3e5ddac4b901",
     "showTitle": false,
     "title": ""
    }
   },
   "outputs": [
    {
     "output_type": "display_data",
     "data": {
      "text/html": [
       "<style scoped>\n",
       "  .table-result-container {\n",
       "    max-height: 300px;\n",
       "    overflow: auto;\n",
       "  }\n",
       "  table, th, td {\n",
       "    border: 1px solid black;\n",
       "    border-collapse: collapse;\n",
       "  }\n",
       "  th, td {\n",
       "    padding: 5px;\n",
       "  }\n",
       "  th {\n",
       "    text-align: left;\n",
       "  }\n",
       "</style><div class='table-result-container'><table class='table-result'><thead style='background-color: white'><tr><th>country_name</th><th>country_code</th></tr></thead><tbody><tr><td>Sudan</td><td>ST</td></tr><tr><td>Sweden</td><td>SE</td></tr><tr><td>Afghanistan</td><td>YA</td></tr><tr><td>Albania</td><td>ZA</td></tr><tr><td>China</td><td>B</td></tr><tr><td>Georgia</td><td>4L</td></tr><tr><td>Iraq</td><td>YI</td></tr><tr><td>Caribbean Netherlands</td><td>PJbes</td></tr><tr><td>Cape Verde</td><td>D4</td></tr><tr><td>Greenland</td><td>OYg</td></tr><tr><td>Guam</td><td>Ngu</td></tr><tr><td>Aruba</td><td>P4</td></tr><tr><td>Cayman Islands</td><td>VP-C</td></tr><tr><td>Antarctica</td><td>ant</td></tr><tr><td>French Guiana</td><td>F-Ofg</td></tr><tr><td>Brazil</td><td>PP</td></tr><tr><td>Chile</td><td>CC</td></tr><tr><td>Portugal</td><td>CS</td></tr><tr><td>Tanzania</td><td>5H</td></tr><tr><td>Belarus</td><td>EW</td></tr><tr><td>Indian Ocean</td><td>ind</td></tr><tr><td>Anguilla</td><td>VP-A</td></tr><tr><td>Saint Lucia</td><td>J6</td></tr><tr><td>Colombia</td><td>HK</td></tr><tr><td>Bosnia and Herzegovina</td><td>T9</td></tr><tr><td>Serbia</td><td>YU</td></tr><tr><td>Niger</td><td>5U</td></tr><tr><td>Laos</td><td>RDPL</td></tr><tr><td>Hungary</td><td>HA</td></tr><tr><td>Estonia</td><td>ES</td></tr><tr><td>Vietnam</td><td>VN</td></tr><tr><td>Western Sahara</td><td>EH</td></tr><tr><td>Sao Tome and Principe</td><td>S9</td></tr><tr><td>Seychelles</td><td>S7</td></tr><tr><td>Ecuador</td><td>HC</td></tr><tr><td>Spain</td><td>EC</td></tr><tr><td>Uganda</td><td>5X</td></tr><tr><td>Trinidad and Tobago</td><td>9Y</td></tr><tr><td>Lesotho</td><td>7P</td></tr><tr><td>Mozambique</td><td>C9</td></tr><tr><td>Singapore</td><td>9V</td></tr><tr><td>Papua New Guinea</td><td>P2</td></tr><tr><td>Belize</td><td>V3</td></tr><tr><td>Mauritius</td><td>3B</td></tr><tr><td>Myanmar</td><td>XY</td></tr><tr><td>Puerto Rico</td><td>Npr</td></tr><tr><td>South Korea</td><td>HL</td></tr><tr><td>South Sudan</td><td>STss</td></tr><tr><td>Pacific Ocean</td><td>pac</td></tr><tr><td>Jordan</td><td>JY</td></tr><tr><td>Macau</td><td>B-M</td></tr><tr><td>Mauritania</td><td>5T</td></tr><tr><td>Netherlands</td><td>PH</td></tr><tr><td>Solomon Islands</td><td>H4</td></tr><tr><td>Kosovo</td><td>Z6</td></tr><tr><td>Greece</td><td>SX</td></tr><tr><td>Burundi</td><td>9U</td></tr><tr><td>Samoa</td><td>5W</td></tr><tr><td>Armenia</td><td>EK</td></tr><tr><td>Antigua and Barbuda</td><td>V2</td></tr><tr><td>Dominica</td><td>J7</td></tr><tr><td>United Kingdom</td><td>G</td></tr><tr><td>Barbados</td><td>8P</td></tr><tr><td>Mali</td><td>TZ</td></tr><tr><td>Russia</td><td>RA</td></tr><tr><td>Moldova</td><td>ER</td></tr><tr><td>Uruguay</td><td>CX</td></tr><tr><td>New Caledonia</td><td>F-Onc</td></tr><tr><td>Northern Mariana Islands</td><td>Nnm</td></tr><tr><td>Cuba</td><td>CU</td></tr><tr><td>Bolivia</td><td>CP</td></tr><tr><td>Bahrain</td><td>A9C</td></tr><tr><td>Bangladesh</td><td>S2</td></tr><tr><td>Pakistan</td><td>AP</td></tr><tr><td>New Zealand</td><td>ZK</td></tr><tr><td>Venezuela</td><td>YV</td></tr><tr><td>Italy</td><td>I</td></tr><tr><td>Zambia</td><td>9J</td></tr><tr><td>Paraguay</td><td>ZP</td></tr><tr><td>Nigeria</td><td>5N</td></tr><tr><td>Tunisia</td><td>TS</td></tr><tr><td>Bahamas</td><td>C6</td></tr><tr><td>Kenya</td><td>5Y</td></tr><tr><td>Suriname</td><td>PZ</td></tr><tr><td>Haiti</td><td>HH</td></tr><tr><td>Rwanda</td><td>9XR</td></tr><tr><td>Saint Helena</td><td>Gsh</td></tr><tr><td>Tuvalu</td><td>T2</td></tr><tr><td>Syria</td><td>YK</td></tr><tr><td>Ireland</td><td>EI</td></tr><tr><td>Martinique</td><td>F-Oma</td></tr><tr><td>Uzbekistan</td><td>UK</td></tr><tr><td>British Virgin Islands</td><td>VP-L</td></tr><tr><td>Central African Republic</td><td>TL</td></tr><tr><td>San Marino</td><td>T7</td></tr><tr><td>Slovakia</td><td>OM</td></tr><tr><td>Guatemala</td><td>TG</td></tr><tr><td>India</td><td>VT</td></tr><tr><td>Cameroon</td><td>TJ</td></tr><tr><td>United Arab Emirates</td><td>A6</td></tr><tr><td>Turkmenistan</td><td>EZ</td></tr><tr><td>Maldives</td><td>8Q</td></tr><tr><td>Cyprus</td><td>5B</td></tr><tr><td>Montenegro</td><td>YUm</td></tr><tr><td>Saudi Arabia</td><td>HZ</td></tr><tr><td>Czech Republic</td><td>OK</td></tr><tr><td>Namibia</td><td>V5</td></tr><tr><td>North Pole</td><td>nop</td></tr><tr><td>Atlantic Ocean</td><td>atl</td></tr><tr><td>Cote d'Ivoire</td><td>TU</td></tr><tr><td>Benin</td><td>TY</td></tr><tr><td>Curaçao</td><td>PJ</td></tr><tr><td>Fiji</td><td>DQ</td></tr><tr><td>Grenada</td><td>J3</td></tr><tr><td>Lebanon</td><td>OD</td></tr><tr><td>Norway</td><td>LN</td></tr><tr><td>Kazakhstan</td><td>UN</td></tr><tr><td>Slovenia</td><td>S5</td></tr><tr><td>Dominican Republic</td><td>HI</td></tr><tr><td>U.S. Minor Outlying Islands</td><td>Nmo</td></tr><tr><td>Sint Maarten</td><td>PJsm</td></tr><tr><td>El Salvador</td><td>YS</td></tr><tr><td>Poland</td><td>SP</td></tr><tr><td>St. Kitts and Nevis</td><td>V4</td></tr><tr><td>Angola</td><td>D2</td></tr><tr><td>Mexico</td><td>XA</td></tr><tr><td>Yemen</td><td>7O</td></tr><tr><td>Comoros</td><td>D6</td></tr><tr><td>Iran</td><td>EP</td></tr><tr><td>Sri Lanka</td><td>4R</td></tr><tr><td>South Africa</td><td>ZS</td></tr><tr><td>Algeria</td><td>7T</td></tr><tr><td>Botswana</td><td>A2</td></tr><tr><td>Croatia</td><td>9A</td></tr><tr><td>Virgin Islands (U.S.)</td><td>Nvi</td></tr><tr><td>Honduras</td><td>HR</td></tr><tr><td>Morocco</td><td>CN</td></tr><tr><td>Gabon</td><td>TR</td></tr><tr><td>Oman</td><td>A4O</td></tr><tr><td>Bhutan</td><td>A5</td></tr><tr><td>Somalia</td><td>6O</td></tr><tr><td>Tajikistan</td><td>EY</td></tr><tr><td>Eswatini</td><td>3D</td></tr><tr><td>Jamaica</td><td>6Y</td></tr><tr><td>Togo</td><td>5V</td></tr><tr><td>Nepal</td><td>9N</td></tr><tr><td>Thailand</td><td>HS</td></tr><tr><td>Qatar</td><td>A7</td></tr><tr><td>Mediterranean Sea</td><td>med</td></tr><tr><td>Sierra Leone</td><td>9L</td></tr><tr><td>Turks and Caicos Islands</td><td>VQ-T</td></tr><tr><td>Azerbaijan</td><td>4K</td></tr><tr><td>Belgium</td><td>OO</td></tr><tr><td>Micronesia</td><td>V6</td></tr><tr><td>East Timor</td><td>CR-T</td></tr><tr><td>Libya</td><td>5A</td></tr><tr><td>Turkey</td><td>TC</td></tr><tr><td>Andorra</td><td>C3</td></tr><tr><td>Djibouti</td><td>J2</td></tr><tr><td>Burkina Faso</td><td>XT</td></tr><tr><td>Ethiopia</td><td>ET</td></tr><tr><td>Macedonia (FYROM)</td><td>Z3</td></tr><tr><td>Peru</td><td>OB</td></tr><tr><td>Montserrat</td><td>VP-M</td></tr><tr><td>Luxembourg</td><td>LX</td></tr><tr><td>Congo</td><td>TN</td></tr><tr><td>Japan</td><td>JA</td></tr><tr><td>Bermuda</td><td>VP-B</td></tr><tr><td>Cambodia</td><td>XU</td></tr><tr><td>Canada</td><td>C</td></tr><tr><td>Iceland</td><td>TF</td></tr><tr><td>Congo (former Zaire)</td><td>9Q</td></tr><tr><td>Equatorial Guinea</td><td>3C</td></tr><tr><td>Eritrea</td><td>E3</td></tr><tr><td>Gibraltar</td><td>VP-G</td></tr><tr><td>Saint Pierre and Miquelon</td><td>F-Osp</td></tr><tr><td>Zimbabwe</td><td>Z</td></tr><tr><td>Nauru</td><td>C2</td></tr><tr><td>Ghana</td><td>9G</td></tr><tr><td>Philippines</td><td>RP</td></tr><tr><td>Kiribati</td><td>T3</td></tr><tr><td>Guyana</td><td>8R</td></tr><tr><td>Costa Rica</td><td>TI</td></tr><tr><td>Malaysia</td><td>9M</td></tr><tr><td>American Samoa</td><td>Nas</td></tr><tr><td>Malta</td><td>9H</td></tr><tr><td>Mongolia</td><td>MT</td></tr><tr><td>USA</td><td>N</td></tr><tr><td>Egypt</td><td>SU</td></tr><tr><td>St. Pierre and Miquelon</td><td>F-Osp</td></tr><tr><td>Indonesia</td><td>PK</td></tr><tr><td>Lithuania</td><td>LY</td></tr><tr><td>North Korea</td><td>P</td></tr><tr><td>Palau</td><td>T8A</td></tr><tr><td>Senegal</td><td>6V</td></tr><tr><td>France</td><td>F</td></tr><tr><td>Liberia</td><td>EL</td></tr><tr><td>Finland</td><td>OH</td></tr><tr><td>Marshall Islands</td><td>V7</td></tr><tr><td>Panama</td><td>HP</td></tr><tr><td>Taiwan</td><td>Bt</td></tr><tr><td>French Polynesia</td><td>F-Opo</td></tr><tr><td>Denmark</td><td>OY</td></tr><tr><td>Gambia</td><td>C5</td></tr><tr><td>Kuwait</td><td>9K</td></tr><tr><td>Timor (East)</td><td>CR-T</td></tr><tr><td>Vanuatu</td><td>YJ</td></tr><tr><td>Chad</td><td>TT</td></tr><tr><td>Germany</td><td>D</td></tr><tr><td>Romania</td><td>YR</td></tr><tr><td>Guinea</td><td>3X</td></tr><tr><td>Ukraine</td><td>UR</td></tr><tr><td>Australia</td><td>VH</td></tr><tr><td>Unknown country</td><td>unk</td></tr><tr><td>Guinea-Bissau</td><td>J5</td></tr><tr><td>Falkland Islands</td><td>VP-F</td></tr><tr><td>Latvia</td><td>YL</td></tr><tr><td>Monaco</td><td>3A</td></tr><tr><td>Austria</td><td>OE</td></tr><tr><td>Bulgaria</td><td>LZ</td></tr><tr><td>Madagascar</td><td>5R</td></tr><tr><td>Saint Vincent and the Grenadines</td><td>J8</td></tr><tr><td>Réunion</td><td>F-Ore</td></tr><tr><td>Nicaragua</td><td>YN</td></tr><tr><td>Switzerland</td><td>HB</td></tr><tr><td>Guadeloupe</td><td>F-Ogu</td></tr><tr><td>Argentina</td><td>LV</td></tr><tr><td>Brunei</td><td>V8</td></tr><tr><td>Tonga</td><td>A3</td></tr><tr><td>Israel</td><td>4X</td></tr><tr><td>Hong Kong</td><td>VR-H</td></tr><tr><td>Kyrgyzstan</td><td>EX</td></tr><tr><td>Malawi</td><td>7Q</td></tr><tr><td>Europe</td><td>EU</td></tr></tbody></table></div>"
      ]
     },
     "metadata": {
      "application/vnd.databricks.v1+output": {
       "addedWidgets": {},
       "aggData": [],
       "aggError": "",
       "aggOverflow": false,
       "aggSchema": [],
       "aggSeriesLimitReached": false,
       "aggType": "",
       "arguments": {},
       "columnCustomDisplayInfos": {},
       "data": [
        [
         "Sudan",
         "ST"
        ],
        [
         "Sweden",
         "SE"
        ],
        [
         "Afghanistan",
         "YA"
        ],
        [
         "Albania",
         "ZA"
        ],
        [
         "China",
         "B"
        ],
        [
         "Georgia",
         "4L"
        ],
        [
         "Iraq",
         "YI"
        ],
        [
         "Caribbean Netherlands",
         "PJbes"
        ],
        [
         "Cape Verde",
         "D4"
        ],
        [
         "Greenland",
         "OYg"
        ],
        [
         "Guam",
         "Ngu"
        ],
        [
         "Aruba",
         "P4"
        ],
        [
         "Cayman Islands",
         "VP-C"
        ],
        [
         "Antarctica",
         "ant"
        ],
        [
         "French Guiana",
         "F-Ofg"
        ],
        [
         "Brazil",
         "PP"
        ],
        [
         "Chile",
         "CC"
        ],
        [
         "Portugal",
         "CS"
        ],
        [
         "Tanzania",
         "5H"
        ],
        [
         "Belarus",
         "EW"
        ],
        [
         "Indian Ocean",
         "ind"
        ],
        [
         "Anguilla",
         "VP-A"
        ],
        [
         "Saint Lucia",
         "J6"
        ],
        [
         "Colombia",
         "HK"
        ],
        [
         "Bosnia and Herzegovina",
         "T9"
        ],
        [
         "Serbia",
         "YU"
        ],
        [
         "Niger",
         "5U"
        ],
        [
         "Laos",
         "RDPL"
        ],
        [
         "Hungary",
         "HA"
        ],
        [
         "Estonia",
         "ES"
        ],
        [
         "Vietnam",
         "VN"
        ],
        [
         "Western Sahara",
         "EH"
        ],
        [
         "Sao Tome and Principe",
         "S9"
        ],
        [
         "Seychelles",
         "S7"
        ],
        [
         "Ecuador",
         "HC"
        ],
        [
         "Spain",
         "EC"
        ],
        [
         "Uganda",
         "5X"
        ],
        [
         "Trinidad and Tobago",
         "9Y"
        ],
        [
         "Lesotho",
         "7P"
        ],
        [
         "Mozambique",
         "C9"
        ],
        [
         "Singapore",
         "9V"
        ],
        [
         "Papua New Guinea",
         "P2"
        ],
        [
         "Belize",
         "V3"
        ],
        [
         "Mauritius",
         "3B"
        ],
        [
         "Myanmar",
         "XY"
        ],
        [
         "Puerto Rico",
         "Npr"
        ],
        [
         "South Korea",
         "HL"
        ],
        [
         "South Sudan",
         "STss"
        ],
        [
         "Pacific Ocean",
         "pac"
        ],
        [
         "Jordan",
         "JY"
        ],
        [
         "Macau",
         "B-M"
        ],
        [
         "Mauritania",
         "5T"
        ],
        [
         "Netherlands",
         "PH"
        ],
        [
         "Solomon Islands",
         "H4"
        ],
        [
         "Kosovo",
         "Z6"
        ],
        [
         "Greece",
         "SX"
        ],
        [
         "Burundi",
         "9U"
        ],
        [
         "Samoa",
         "5W"
        ],
        [
         "Armenia",
         "EK"
        ],
        [
         "Antigua and Barbuda",
         "V2"
        ],
        [
         "Dominica",
         "J7"
        ],
        [
         "United Kingdom",
         "G"
        ],
        [
         "Barbados",
         "8P"
        ],
        [
         "Mali",
         "TZ"
        ],
        [
         "Russia",
         "RA"
        ],
        [
         "Moldova",
         "ER"
        ],
        [
         "Uruguay",
         "CX"
        ],
        [
         "New Caledonia",
         "F-Onc"
        ],
        [
         "Northern Mariana Islands",
         "Nnm"
        ],
        [
         "Cuba",
         "CU"
        ],
        [
         "Bolivia",
         "CP"
        ],
        [
         "Bahrain",
         "A9C"
        ],
        [
         "Bangladesh",
         "S2"
        ],
        [
         "Pakistan",
         "AP"
        ],
        [
         "New Zealand",
         "ZK"
        ],
        [
         "Venezuela",
         "YV"
        ],
        [
         "Italy",
         "I"
        ],
        [
         "Zambia",
         "9J"
        ],
        [
         "Paraguay",
         "ZP"
        ],
        [
         "Nigeria",
         "5N"
        ],
        [
         "Tunisia",
         "TS"
        ],
        [
         "Bahamas",
         "C6"
        ],
        [
         "Kenya",
         "5Y"
        ],
        [
         "Suriname",
         "PZ"
        ],
        [
         "Haiti",
         "HH"
        ],
        [
         "Rwanda",
         "9XR"
        ],
        [
         "Saint Helena",
         "Gsh"
        ],
        [
         "Tuvalu",
         "T2"
        ],
        [
         "Syria",
         "YK"
        ],
        [
         "Ireland",
         "EI"
        ],
        [
         "Martinique",
         "F-Oma"
        ],
        [
         "Uzbekistan",
         "UK"
        ],
        [
         "British Virgin Islands",
         "VP-L"
        ],
        [
         "Central African Republic",
         "TL"
        ],
        [
         "San Marino",
         "T7"
        ],
        [
         "Slovakia",
         "OM"
        ],
        [
         "Guatemala",
         "TG"
        ],
        [
         "India",
         "VT"
        ],
        [
         "Cameroon",
         "TJ"
        ],
        [
         "United Arab Emirates",
         "A6"
        ],
        [
         "Turkmenistan",
         "EZ"
        ],
        [
         "Maldives",
         "8Q"
        ],
        [
         "Cyprus",
         "5B"
        ],
        [
         "Montenegro",
         "YUm"
        ],
        [
         "Saudi Arabia",
         "HZ"
        ],
        [
         "Czech Republic",
         "OK"
        ],
        [
         "Namibia",
         "V5"
        ],
        [
         "North Pole",
         "nop"
        ],
        [
         "Atlantic Ocean",
         "atl"
        ],
        [
         "Cote d'Ivoire",
         "TU"
        ],
        [
         "Benin",
         "TY"
        ],
        [
         "Curaçao",
         "PJ"
        ],
        [
         "Fiji",
         "DQ"
        ],
        [
         "Grenada",
         "J3"
        ],
        [
         "Lebanon",
         "OD"
        ],
        [
         "Norway",
         "LN"
        ],
        [
         "Kazakhstan",
         "UN"
        ],
        [
         "Slovenia",
         "S5"
        ],
        [
         "Dominican Republic",
         "HI"
        ],
        [
         "U.S. Minor Outlying Islands",
         "Nmo"
        ],
        [
         "Sint Maarten",
         "PJsm"
        ],
        [
         "El Salvador",
         "YS"
        ],
        [
         "Poland",
         "SP"
        ],
        [
         "St. Kitts and Nevis",
         "V4"
        ],
        [
         "Angola",
         "D2"
        ],
        [
         "Mexico",
         "XA"
        ],
        [
         "Yemen",
         "7O"
        ],
        [
         "Comoros",
         "D6"
        ],
        [
         "Iran",
         "EP"
        ],
        [
         "Sri Lanka",
         "4R"
        ],
        [
         "South Africa",
         "ZS"
        ],
        [
         "Algeria",
         "7T"
        ],
        [
         "Botswana",
         "A2"
        ],
        [
         "Croatia",
         "9A"
        ],
        [
         "Virgin Islands (U.S.)",
         "Nvi"
        ],
        [
         "Honduras",
         "HR"
        ],
        [
         "Morocco",
         "CN"
        ],
        [
         "Gabon",
         "TR"
        ],
        [
         "Oman",
         "A4O"
        ],
        [
         "Bhutan",
         "A5"
        ],
        [
         "Somalia",
         "6O"
        ],
        [
         "Tajikistan",
         "EY"
        ],
        [
         "Eswatini",
         "3D"
        ],
        [
         "Jamaica",
         "6Y"
        ],
        [
         "Togo",
         "5V"
        ],
        [
         "Nepal",
         "9N"
        ],
        [
         "Thailand",
         "HS"
        ],
        [
         "Qatar",
         "A7"
        ],
        [
         "Mediterranean Sea",
         "med"
        ],
        [
         "Sierra Leone",
         "9L"
        ],
        [
         "Turks and Caicos Islands",
         "VQ-T"
        ],
        [
         "Azerbaijan",
         "4K"
        ],
        [
         "Belgium",
         "OO"
        ],
        [
         "Micronesia",
         "V6"
        ],
        [
         "East Timor",
         "CR-T"
        ],
        [
         "Libya",
         "5A"
        ],
        [
         "Turkey",
         "TC"
        ],
        [
         "Andorra",
         "C3"
        ],
        [
         "Djibouti",
         "J2"
        ],
        [
         "Burkina Faso",
         "XT"
        ],
        [
         "Ethiopia",
         "ET"
        ],
        [
         "Macedonia (FYROM)",
         "Z3"
        ],
        [
         "Peru",
         "OB"
        ],
        [
         "Montserrat",
         "VP-M"
        ],
        [
         "Luxembourg",
         "LX"
        ],
        [
         "Congo",
         "TN"
        ],
        [
         "Japan",
         "JA"
        ],
        [
         "Bermuda",
         "VP-B"
        ],
        [
         "Cambodia",
         "XU"
        ],
        [
         "Canada",
         "C"
        ],
        [
         "Iceland",
         "TF"
        ],
        [
         "Congo (former Zaire)",
         "9Q"
        ],
        [
         "Equatorial Guinea",
         "3C"
        ],
        [
         "Eritrea",
         "E3"
        ],
        [
         "Gibraltar",
         "VP-G"
        ],
        [
         "Saint Pierre and Miquelon",
         "F-Osp"
        ],
        [
         "Zimbabwe",
         "Z"
        ],
        [
         "Nauru",
         "C2"
        ],
        [
         "Ghana",
         "9G"
        ],
        [
         "Philippines",
         "RP"
        ],
        [
         "Kiribati",
         "T3"
        ],
        [
         "Guyana",
         "8R"
        ],
        [
         "Costa Rica",
         "TI"
        ],
        [
         "Malaysia",
         "9M"
        ],
        [
         "American Samoa",
         "Nas"
        ],
        [
         "Malta",
         "9H"
        ],
        [
         "Mongolia",
         "MT"
        ],
        [
         "USA",
         "N"
        ],
        [
         "Egypt",
         "SU"
        ],
        [
         "St. Pierre and Miquelon",
         "F-Osp"
        ],
        [
         "Indonesia",
         "PK"
        ],
        [
         "Lithuania",
         "LY"
        ],
        [
         "North Korea",
         "P"
        ],
        [
         "Palau",
         "T8A"
        ],
        [
         "Senegal",
         "6V"
        ],
        [
         "France",
         "F"
        ],
        [
         "Liberia",
         "EL"
        ],
        [
         "Finland",
         "OH"
        ],
        [
         "Marshall Islands",
         "V7"
        ],
        [
         "Panama",
         "HP"
        ],
        [
         "Taiwan",
         "Bt"
        ],
        [
         "French Polynesia",
         "F-Opo"
        ],
        [
         "Denmark",
         "OY"
        ],
        [
         "Gambia",
         "C5"
        ],
        [
         "Kuwait",
         "9K"
        ],
        [
         "Timor (East)",
         "CR-T"
        ],
        [
         "Vanuatu",
         "YJ"
        ],
        [
         "Chad",
         "TT"
        ],
        [
         "Germany",
         "D"
        ],
        [
         "Romania",
         "YR"
        ],
        [
         "Guinea",
         "3X"
        ],
        [
         "Ukraine",
         "UR"
        ],
        [
         "Australia",
         "VH"
        ],
        [
         "Unknown country",
         "unk"
        ],
        [
         "Guinea-Bissau",
         "J5"
        ],
        [
         "Falkland Islands",
         "VP-F"
        ],
        [
         "Latvia",
         "YL"
        ],
        [
         "Monaco",
         "3A"
        ],
        [
         "Austria",
         "OE"
        ],
        [
         "Bulgaria",
         "LZ"
        ],
        [
         "Madagascar",
         "5R"
        ],
        [
         "Saint Vincent and the Grenadines",
         "J8"
        ],
        [
         "Réunion",
         "F-Ore"
        ],
        [
         "Nicaragua",
         "YN"
        ],
        [
         "Switzerland",
         "HB"
        ],
        [
         "Guadeloupe",
         "F-Ogu"
        ],
        [
         "Argentina",
         "LV"
        ],
        [
         "Brunei",
         "V8"
        ],
        [
         "Tonga",
         "A3"
        ],
        [
         "Israel",
         "4X"
        ],
        [
         "Hong Kong",
         "VR-H"
        ],
        [
         "Kyrgyzstan",
         "EX"
        ],
        [
         "Malawi",
         "7Q"
        ],
        [
         "Europe",
         "EU"
        ]
       ],
       "datasetInfos": [],
       "dbfsResultPath": null,
       "isJsonSchema": true,
       "metadata": {},
       "overflow": false,
       "plotOptions": {
        "customPlotOptions": {},
        "displayType": "table",
        "pivotAggregation": null,
        "pivotColumns": null,
        "xColumns": null,
        "yColumns": null
       },
       "removedWidgets": [],
       "schema": [
        {
         "metadata": "{}",
         "name": "country_name",
         "type": "\"string\""
        },
        {
         "metadata": "{}",
         "name": "country_code",
         "type": "\"string\""
        }
       ],
       "type": "table"
      }
     },
     "output_type": "display_data"
    }
   ],
   "source": [
    "from pyspark.sql import SparkSession\n",
    "from pyspark import SparkFiles\n",
    "from pyspark.sql.types import *\n",
    "from pyspark.sql import functions as F\n",
    "import urllib\n",
    "\n",
    "# Inicializa a sessão Spark\n",
    "spark = SparkSession.builder.appName(\"accidents_analysis\").getOrCreate()\n",
    "\n",
    "schema = StructType([\n",
    "   StructField(\"country_code\", StringType(), False,metadata={'comment':\"Unique ID, PK\"}),\n",
    "   StructField(\"country_name\", StringType(), False)])\n",
    "\n",
    "countries_silver_df = spark.read.format(\"delta\").load('dbfs:/user/hive/warehouse/silver_database.db/silver_countries')\n",
    "\n",
    "countries_silver_df.display()\n"
   ]
  },
  {
   "cell_type": "markdown",
   "metadata": {
    "application/vnd.databricks.v1+cell": {
     "cellMetadata": {
      "byteLimit": 2048000,
      "rowLimit": 10000
     },
     "inputWidgets": {},
     "nuid": "48d017c1-82e5-4ba2-b792-c4773af22be1",
     "showTitle": false,
     "title": ""
    }
   },
   "source": [
    "## Processamento\n",
    "\n",
    "Na etapa de processamento, vamos dropar eventuais duplicatas e criar novo df com o schema"
   ]
  },
  {
   "cell_type": "code",
   "execution_count": 0,
   "metadata": {
    "application/vnd.databricks.v1+cell": {
     "cellMetadata": {
      "byteLimit": 2048000,
      "rowLimit": 10000
     },
     "inputWidgets": {},
     "nuid": "f6e4b71c-5153-470d-9b4d-f9eaf4701469",
     "showTitle": false,
     "title": ""
    }
   },
   "outputs": [
    {
     "output_type": "display_data",
     "data": {
      "text/html": [
       "<style scoped>\n",
       "  .table-result-container {\n",
       "    max-height: 300px;\n",
       "    overflow: auto;\n",
       "  }\n",
       "  table, th, td {\n",
       "    border: 1px solid black;\n",
       "    border-collapse: collapse;\n",
       "  }\n",
       "  th, td {\n",
       "    padding: 5px;\n",
       "  }\n",
       "  th {\n",
       "    text-align: left;\n",
       "  }\n",
       "</style><div class='table-result-container'><table class='table-result'><thead style='background-color: white'><tr><th>country_code</th><th>country_name</th></tr></thead><tbody><tr><td>ST</td><td>Sudan</td></tr><tr><td>SE</td><td>Sweden</td></tr><tr><td>YA</td><td>Afghanistan</td></tr><tr><td>ZA</td><td>Albania</td></tr><tr><td>B</td><td>China</td></tr><tr><td>4L</td><td>Georgia</td></tr><tr><td>YI</td><td>Iraq</td></tr><tr><td>PJbes</td><td>Caribbean Netherlands</td></tr><tr><td>D4</td><td>Cape Verde</td></tr><tr><td>OYg</td><td>Greenland</td></tr><tr><td>Ngu</td><td>Guam</td></tr><tr><td>P4</td><td>Aruba</td></tr><tr><td>VP-C</td><td>Cayman Islands</td></tr><tr><td>ant</td><td>Antarctica</td></tr><tr><td>F-Ofg</td><td>French Guiana</td></tr><tr><td>PP</td><td>Brazil</td></tr><tr><td>CC</td><td>Chile</td></tr><tr><td>CS</td><td>Portugal</td></tr><tr><td>5H</td><td>Tanzania</td></tr><tr><td>EW</td><td>Belarus</td></tr><tr><td>ind</td><td>Indian Ocean</td></tr><tr><td>VP-A</td><td>Anguilla</td></tr><tr><td>J6</td><td>Saint Lucia</td></tr><tr><td>HK</td><td>Colombia</td></tr><tr><td>T9</td><td>Bosnia and Herzegovina</td></tr><tr><td>YU</td><td>Serbia</td></tr><tr><td>5U</td><td>Niger</td></tr><tr><td>RDPL</td><td>Laos</td></tr><tr><td>HA</td><td>Hungary</td></tr><tr><td>ES</td><td>Estonia</td></tr><tr><td>VN</td><td>Vietnam</td></tr><tr><td>EH</td><td>Western Sahara</td></tr><tr><td>S9</td><td>Sao Tome and Principe</td></tr><tr><td>S7</td><td>Seychelles</td></tr><tr><td>HC</td><td>Ecuador</td></tr><tr><td>EC</td><td>Spain</td></tr><tr><td>5X</td><td>Uganda</td></tr><tr><td>9Y</td><td>Trinidad and Tobago</td></tr><tr><td>7P</td><td>Lesotho</td></tr><tr><td>C9</td><td>Mozambique</td></tr><tr><td>9V</td><td>Singapore</td></tr><tr><td>P2</td><td>Papua New Guinea</td></tr><tr><td>V3</td><td>Belize</td></tr><tr><td>3B</td><td>Mauritius</td></tr><tr><td>XY</td><td>Myanmar</td></tr><tr><td>Npr</td><td>Puerto Rico</td></tr><tr><td>HL</td><td>South Korea</td></tr><tr><td>STss</td><td>South Sudan</td></tr><tr><td>pac</td><td>Pacific Ocean</td></tr><tr><td>JY</td><td>Jordan</td></tr><tr><td>B-M</td><td>Macau</td></tr><tr><td>5T</td><td>Mauritania</td></tr><tr><td>PH</td><td>Netherlands</td></tr><tr><td>H4</td><td>Solomon Islands</td></tr><tr><td>Z6</td><td>Kosovo</td></tr><tr><td>SX</td><td>Greece</td></tr><tr><td>9U</td><td>Burundi</td></tr><tr><td>5W</td><td>Samoa</td></tr><tr><td>EK</td><td>Armenia</td></tr><tr><td>V2</td><td>Antigua and Barbuda</td></tr><tr><td>J7</td><td>Dominica</td></tr><tr><td>G</td><td>United Kingdom</td></tr><tr><td>8P</td><td>Barbados</td></tr><tr><td>TZ</td><td>Mali</td></tr><tr><td>RA</td><td>Russia</td></tr><tr><td>ER</td><td>Moldova</td></tr><tr><td>CX</td><td>Uruguay</td></tr><tr><td>F-Onc</td><td>New Caledonia</td></tr><tr><td>Nnm</td><td>Northern Mariana Islands</td></tr><tr><td>CU</td><td>Cuba</td></tr><tr><td>CP</td><td>Bolivia</td></tr><tr><td>A9C</td><td>Bahrain</td></tr><tr><td>S2</td><td>Bangladesh</td></tr><tr><td>AP</td><td>Pakistan</td></tr><tr><td>ZK</td><td>New Zealand</td></tr><tr><td>YV</td><td>Venezuela</td></tr><tr><td>I</td><td>Italy</td></tr><tr><td>9J</td><td>Zambia</td></tr><tr><td>ZP</td><td>Paraguay</td></tr><tr><td>5N</td><td>Nigeria</td></tr><tr><td>TS</td><td>Tunisia</td></tr><tr><td>C6</td><td>Bahamas</td></tr><tr><td>5Y</td><td>Kenya</td></tr><tr><td>PZ</td><td>Suriname</td></tr><tr><td>HH</td><td>Haiti</td></tr><tr><td>9XR</td><td>Rwanda</td></tr><tr><td>Gsh</td><td>Saint Helena</td></tr><tr><td>T2</td><td>Tuvalu</td></tr><tr><td>YK</td><td>Syria</td></tr><tr><td>EI</td><td>Ireland</td></tr><tr><td>F-Oma</td><td>Martinique</td></tr><tr><td>UK</td><td>Uzbekistan</td></tr><tr><td>VP-L</td><td>British Virgin Islands</td></tr><tr><td>TL</td><td>Central African Republic</td></tr><tr><td>T7</td><td>San Marino</td></tr><tr><td>OM</td><td>Slovakia</td></tr><tr><td>TG</td><td>Guatemala</td></tr><tr><td>VT</td><td>India</td></tr><tr><td>TJ</td><td>Cameroon</td></tr><tr><td>A6</td><td>United Arab Emirates</td></tr><tr><td>EZ</td><td>Turkmenistan</td></tr><tr><td>8Q</td><td>Maldives</td></tr><tr><td>5B</td><td>Cyprus</td></tr><tr><td>YUm</td><td>Montenegro</td></tr><tr><td>HZ</td><td>Saudi Arabia</td></tr><tr><td>OK</td><td>Czech Republic</td></tr><tr><td>V5</td><td>Namibia</td></tr><tr><td>nop</td><td>North Pole</td></tr><tr><td>atl</td><td>Atlantic Ocean</td></tr><tr><td>TU</td><td>Cote d'Ivoire</td></tr><tr><td>TY</td><td>Benin</td></tr><tr><td>PJ</td><td>Curaçao</td></tr><tr><td>DQ</td><td>Fiji</td></tr><tr><td>J3</td><td>Grenada</td></tr><tr><td>OD</td><td>Lebanon</td></tr><tr><td>LN</td><td>Norway</td></tr><tr><td>UN</td><td>Kazakhstan</td></tr><tr><td>S5</td><td>Slovenia</td></tr><tr><td>HI</td><td>Dominican Republic</td></tr><tr><td>Nmo</td><td>U.S. Minor Outlying Islands</td></tr><tr><td>PJsm</td><td>Sint Maarten</td></tr><tr><td>YS</td><td>El Salvador</td></tr><tr><td>SP</td><td>Poland</td></tr><tr><td>V4</td><td>St. Kitts and Nevis</td></tr><tr><td>D2</td><td>Angola</td></tr><tr><td>XA</td><td>Mexico</td></tr><tr><td>7O</td><td>Yemen</td></tr><tr><td>D6</td><td>Comoros</td></tr><tr><td>EP</td><td>Iran</td></tr><tr><td>4R</td><td>Sri Lanka</td></tr><tr><td>ZS</td><td>South Africa</td></tr><tr><td>7T</td><td>Algeria</td></tr><tr><td>A2</td><td>Botswana</td></tr><tr><td>9A</td><td>Croatia</td></tr><tr><td>Nvi</td><td>Virgin Islands (U.S.)</td></tr><tr><td>HR</td><td>Honduras</td></tr><tr><td>CN</td><td>Morocco</td></tr><tr><td>TR</td><td>Gabon</td></tr><tr><td>A4O</td><td>Oman</td></tr><tr><td>A5</td><td>Bhutan</td></tr><tr><td>6O</td><td>Somalia</td></tr><tr><td>EY</td><td>Tajikistan</td></tr><tr><td>3D</td><td>Eswatini</td></tr><tr><td>6Y</td><td>Jamaica</td></tr><tr><td>5V</td><td>Togo</td></tr><tr><td>9N</td><td>Nepal</td></tr><tr><td>HS</td><td>Thailand</td></tr><tr><td>A7</td><td>Qatar</td></tr><tr><td>med</td><td>Mediterranean Sea</td></tr><tr><td>9L</td><td>Sierra Leone</td></tr><tr><td>VQ-T</td><td>Turks and Caicos Islands</td></tr><tr><td>4K</td><td>Azerbaijan</td></tr><tr><td>OO</td><td>Belgium</td></tr><tr><td>V6</td><td>Micronesia</td></tr><tr><td>CR-T</td><td>East Timor</td></tr><tr><td>5A</td><td>Libya</td></tr><tr><td>TC</td><td>Turkey</td></tr><tr><td>C3</td><td>Andorra</td></tr><tr><td>J2</td><td>Djibouti</td></tr><tr><td>XT</td><td>Burkina Faso</td></tr><tr><td>ET</td><td>Ethiopia</td></tr><tr><td>Z3</td><td>Macedonia (FYROM)</td></tr><tr><td>OB</td><td>Peru</td></tr><tr><td>VP-M</td><td>Montserrat</td></tr><tr><td>LX</td><td>Luxembourg</td></tr><tr><td>TN</td><td>Congo</td></tr><tr><td>JA</td><td>Japan</td></tr><tr><td>VP-B</td><td>Bermuda</td></tr><tr><td>XU</td><td>Cambodia</td></tr><tr><td>C</td><td>Canada</td></tr><tr><td>TF</td><td>Iceland</td></tr><tr><td>9Q</td><td>Congo (former Zaire)</td></tr><tr><td>3C</td><td>Equatorial Guinea</td></tr><tr><td>E3</td><td>Eritrea</td></tr><tr><td>VP-G</td><td>Gibraltar</td></tr><tr><td>F-Osp</td><td>Saint Pierre and Miquelon</td></tr><tr><td>Z</td><td>Zimbabwe</td></tr><tr><td>C2</td><td>Nauru</td></tr><tr><td>9G</td><td>Ghana</td></tr><tr><td>RP</td><td>Philippines</td></tr><tr><td>T3</td><td>Kiribati</td></tr><tr><td>8R</td><td>Guyana</td></tr><tr><td>TI</td><td>Costa Rica</td></tr><tr><td>9M</td><td>Malaysia</td></tr><tr><td>Nas</td><td>American Samoa</td></tr><tr><td>9H</td><td>Malta</td></tr><tr><td>MT</td><td>Mongolia</td></tr><tr><td>N</td><td>USA</td></tr><tr><td>SU</td><td>Egypt</td></tr><tr><td>F-Osp</td><td>St. Pierre and Miquelon</td></tr><tr><td>PK</td><td>Indonesia</td></tr><tr><td>LY</td><td>Lithuania</td></tr><tr><td>P</td><td>North Korea</td></tr><tr><td>T8A</td><td>Palau</td></tr><tr><td>6V</td><td>Senegal</td></tr><tr><td>F</td><td>France</td></tr><tr><td>EL</td><td>Liberia</td></tr><tr><td>OH</td><td>Finland</td></tr><tr><td>V7</td><td>Marshall Islands</td></tr><tr><td>HP</td><td>Panama</td></tr><tr><td>Bt</td><td>Taiwan</td></tr><tr><td>F-Opo</td><td>French Polynesia</td></tr><tr><td>OY</td><td>Denmark</td></tr><tr><td>C5</td><td>Gambia</td></tr><tr><td>9K</td><td>Kuwait</td></tr><tr><td>CR-T</td><td>Timor (East)</td></tr><tr><td>YJ</td><td>Vanuatu</td></tr><tr><td>TT</td><td>Chad</td></tr><tr><td>D</td><td>Germany</td></tr><tr><td>YR</td><td>Romania</td></tr><tr><td>3X</td><td>Guinea</td></tr><tr><td>UR</td><td>Ukraine</td></tr><tr><td>VH</td><td>Australia</td></tr><tr><td>unk</td><td>Unknown country</td></tr><tr><td>J5</td><td>Guinea-Bissau</td></tr><tr><td>VP-F</td><td>Falkland Islands</td></tr><tr><td>YL</td><td>Latvia</td></tr><tr><td>3A</td><td>Monaco</td></tr><tr><td>OE</td><td>Austria</td></tr><tr><td>LZ</td><td>Bulgaria</td></tr><tr><td>5R</td><td>Madagascar</td></tr><tr><td>J8</td><td>Saint Vincent and the Grenadines</td></tr><tr><td>F-Ore</td><td>Réunion</td></tr><tr><td>YN</td><td>Nicaragua</td></tr><tr><td>HB</td><td>Switzerland</td></tr><tr><td>F-Ogu</td><td>Guadeloupe</td></tr><tr><td>LV</td><td>Argentina</td></tr><tr><td>V8</td><td>Brunei</td></tr><tr><td>A3</td><td>Tonga</td></tr><tr><td>4X</td><td>Israel</td></tr><tr><td>VR-H</td><td>Hong Kong</td></tr><tr><td>EX</td><td>Kyrgyzstan</td></tr><tr><td>7Q</td><td>Malawi</td></tr><tr><td>EU</td><td>Europe</td></tr></tbody></table></div>"
      ]
     },
     "metadata": {
      "application/vnd.databricks.v1+output": {
       "addedWidgets": {},
       "aggData": [],
       "aggError": "",
       "aggOverflow": false,
       "aggSchema": [],
       "aggSeriesLimitReached": false,
       "aggType": "",
       "arguments": {},
       "columnCustomDisplayInfos": {},
       "data": [
        [
         "ST",
         "Sudan"
        ],
        [
         "SE",
         "Sweden"
        ],
        [
         "YA",
         "Afghanistan"
        ],
        [
         "ZA",
         "Albania"
        ],
        [
         "B",
         "China"
        ],
        [
         "4L",
         "Georgia"
        ],
        [
         "YI",
         "Iraq"
        ],
        [
         "PJbes",
         "Caribbean Netherlands"
        ],
        [
         "D4",
         "Cape Verde"
        ],
        [
         "OYg",
         "Greenland"
        ],
        [
         "Ngu",
         "Guam"
        ],
        [
         "P4",
         "Aruba"
        ],
        [
         "VP-C",
         "Cayman Islands"
        ],
        [
         "ant",
         "Antarctica"
        ],
        [
         "F-Ofg",
         "French Guiana"
        ],
        [
         "PP",
         "Brazil"
        ],
        [
         "CC",
         "Chile"
        ],
        [
         "CS",
         "Portugal"
        ],
        [
         "5H",
         "Tanzania"
        ],
        [
         "EW",
         "Belarus"
        ],
        [
         "ind",
         "Indian Ocean"
        ],
        [
         "VP-A",
         "Anguilla"
        ],
        [
         "J6",
         "Saint Lucia"
        ],
        [
         "HK",
         "Colombia"
        ],
        [
         "T9",
         "Bosnia and Herzegovina"
        ],
        [
         "YU",
         "Serbia"
        ],
        [
         "5U",
         "Niger"
        ],
        [
         "RDPL",
         "Laos"
        ],
        [
         "HA",
         "Hungary"
        ],
        [
         "ES",
         "Estonia"
        ],
        [
         "VN",
         "Vietnam"
        ],
        [
         "EH",
         "Western Sahara"
        ],
        [
         "S9",
         "Sao Tome and Principe"
        ],
        [
         "S7",
         "Seychelles"
        ],
        [
         "HC",
         "Ecuador"
        ],
        [
         "EC",
         "Spain"
        ],
        [
         "5X",
         "Uganda"
        ],
        [
         "9Y",
         "Trinidad and Tobago"
        ],
        [
         "7P",
         "Lesotho"
        ],
        [
         "C9",
         "Mozambique"
        ],
        [
         "9V",
         "Singapore"
        ],
        [
         "P2",
         "Papua New Guinea"
        ],
        [
         "V3",
         "Belize"
        ],
        [
         "3B",
         "Mauritius"
        ],
        [
         "XY",
         "Myanmar"
        ],
        [
         "Npr",
         "Puerto Rico"
        ],
        [
         "HL",
         "South Korea"
        ],
        [
         "STss",
         "South Sudan"
        ],
        [
         "pac",
         "Pacific Ocean"
        ],
        [
         "JY",
         "Jordan"
        ],
        [
         "B-M",
         "Macau"
        ],
        [
         "5T",
         "Mauritania"
        ],
        [
         "PH",
         "Netherlands"
        ],
        [
         "H4",
         "Solomon Islands"
        ],
        [
         "Z6",
         "Kosovo"
        ],
        [
         "SX",
         "Greece"
        ],
        [
         "9U",
         "Burundi"
        ],
        [
         "5W",
         "Samoa"
        ],
        [
         "EK",
         "Armenia"
        ],
        [
         "V2",
         "Antigua and Barbuda"
        ],
        [
         "J7",
         "Dominica"
        ],
        [
         "G",
         "United Kingdom"
        ],
        [
         "8P",
         "Barbados"
        ],
        [
         "TZ",
         "Mali"
        ],
        [
         "RA",
         "Russia"
        ],
        [
         "ER",
         "Moldova"
        ],
        [
         "CX",
         "Uruguay"
        ],
        [
         "F-Onc",
         "New Caledonia"
        ],
        [
         "Nnm",
         "Northern Mariana Islands"
        ],
        [
         "CU",
         "Cuba"
        ],
        [
         "CP",
         "Bolivia"
        ],
        [
         "A9C",
         "Bahrain"
        ],
        [
         "S2",
         "Bangladesh"
        ],
        [
         "AP",
         "Pakistan"
        ],
        [
         "ZK",
         "New Zealand"
        ],
        [
         "YV",
         "Venezuela"
        ],
        [
         "I",
         "Italy"
        ],
        [
         "9J",
         "Zambia"
        ],
        [
         "ZP",
         "Paraguay"
        ],
        [
         "5N",
         "Nigeria"
        ],
        [
         "TS",
         "Tunisia"
        ],
        [
         "C6",
         "Bahamas"
        ],
        [
         "5Y",
         "Kenya"
        ],
        [
         "PZ",
         "Suriname"
        ],
        [
         "HH",
         "Haiti"
        ],
        [
         "9XR",
         "Rwanda"
        ],
        [
         "Gsh",
         "Saint Helena"
        ],
        [
         "T2",
         "Tuvalu"
        ],
        [
         "YK",
         "Syria"
        ],
        [
         "EI",
         "Ireland"
        ],
        [
         "F-Oma",
         "Martinique"
        ],
        [
         "UK",
         "Uzbekistan"
        ],
        [
         "VP-L",
         "British Virgin Islands"
        ],
        [
         "TL",
         "Central African Republic"
        ],
        [
         "T7",
         "San Marino"
        ],
        [
         "OM",
         "Slovakia"
        ],
        [
         "TG",
         "Guatemala"
        ],
        [
         "VT",
         "India"
        ],
        [
         "TJ",
         "Cameroon"
        ],
        [
         "A6",
         "United Arab Emirates"
        ],
        [
         "EZ",
         "Turkmenistan"
        ],
        [
         "8Q",
         "Maldives"
        ],
        [
         "5B",
         "Cyprus"
        ],
        [
         "YUm",
         "Montenegro"
        ],
        [
         "HZ",
         "Saudi Arabia"
        ],
        [
         "OK",
         "Czech Republic"
        ],
        [
         "V5",
         "Namibia"
        ],
        [
         "nop",
         "North Pole"
        ],
        [
         "atl",
         "Atlantic Ocean"
        ],
        [
         "TU",
         "Cote d'Ivoire"
        ],
        [
         "TY",
         "Benin"
        ],
        [
         "PJ",
         "Curaçao"
        ],
        [
         "DQ",
         "Fiji"
        ],
        [
         "J3",
         "Grenada"
        ],
        [
         "OD",
         "Lebanon"
        ],
        [
         "LN",
         "Norway"
        ],
        [
         "UN",
         "Kazakhstan"
        ],
        [
         "S5",
         "Slovenia"
        ],
        [
         "HI",
         "Dominican Republic"
        ],
        [
         "Nmo",
         "U.S. Minor Outlying Islands"
        ],
        [
         "PJsm",
         "Sint Maarten"
        ],
        [
         "YS",
         "El Salvador"
        ],
        [
         "SP",
         "Poland"
        ],
        [
         "V4",
         "St. Kitts and Nevis"
        ],
        [
         "D2",
         "Angola"
        ],
        [
         "XA",
         "Mexico"
        ],
        [
         "7O",
         "Yemen"
        ],
        [
         "D6",
         "Comoros"
        ],
        [
         "EP",
         "Iran"
        ],
        [
         "4R",
         "Sri Lanka"
        ],
        [
         "ZS",
         "South Africa"
        ],
        [
         "7T",
         "Algeria"
        ],
        [
         "A2",
         "Botswana"
        ],
        [
         "9A",
         "Croatia"
        ],
        [
         "Nvi",
         "Virgin Islands (U.S.)"
        ],
        [
         "HR",
         "Honduras"
        ],
        [
         "CN",
         "Morocco"
        ],
        [
         "TR",
         "Gabon"
        ],
        [
         "A4O",
         "Oman"
        ],
        [
         "A5",
         "Bhutan"
        ],
        [
         "6O",
         "Somalia"
        ],
        [
         "EY",
         "Tajikistan"
        ],
        [
         "3D",
         "Eswatini"
        ],
        [
         "6Y",
         "Jamaica"
        ],
        [
         "5V",
         "Togo"
        ],
        [
         "9N",
         "Nepal"
        ],
        [
         "HS",
         "Thailand"
        ],
        [
         "A7",
         "Qatar"
        ],
        [
         "med",
         "Mediterranean Sea"
        ],
        [
         "9L",
         "Sierra Leone"
        ],
        [
         "VQ-T",
         "Turks and Caicos Islands"
        ],
        [
         "4K",
         "Azerbaijan"
        ],
        [
         "OO",
         "Belgium"
        ],
        [
         "V6",
         "Micronesia"
        ],
        [
         "CR-T",
         "East Timor"
        ],
        [
         "5A",
         "Libya"
        ],
        [
         "TC",
         "Turkey"
        ],
        [
         "C3",
         "Andorra"
        ],
        [
         "J2",
         "Djibouti"
        ],
        [
         "XT",
         "Burkina Faso"
        ],
        [
         "ET",
         "Ethiopia"
        ],
        [
         "Z3",
         "Macedonia (FYROM)"
        ],
        [
         "OB",
         "Peru"
        ],
        [
         "VP-M",
         "Montserrat"
        ],
        [
         "LX",
         "Luxembourg"
        ],
        [
         "TN",
         "Congo"
        ],
        [
         "JA",
         "Japan"
        ],
        [
         "VP-B",
         "Bermuda"
        ],
        [
         "XU",
         "Cambodia"
        ],
        [
         "C",
         "Canada"
        ],
        [
         "TF",
         "Iceland"
        ],
        [
         "9Q",
         "Congo (former Zaire)"
        ],
        [
         "3C",
         "Equatorial Guinea"
        ],
        [
         "E3",
         "Eritrea"
        ],
        [
         "VP-G",
         "Gibraltar"
        ],
        [
         "F-Osp",
         "Saint Pierre and Miquelon"
        ],
        [
         "Z",
         "Zimbabwe"
        ],
        [
         "C2",
         "Nauru"
        ],
        [
         "9G",
         "Ghana"
        ],
        [
         "RP",
         "Philippines"
        ],
        [
         "T3",
         "Kiribati"
        ],
        [
         "8R",
         "Guyana"
        ],
        [
         "TI",
         "Costa Rica"
        ],
        [
         "9M",
         "Malaysia"
        ],
        [
         "Nas",
         "American Samoa"
        ],
        [
         "9H",
         "Malta"
        ],
        [
         "MT",
         "Mongolia"
        ],
        [
         "N",
         "USA"
        ],
        [
         "SU",
         "Egypt"
        ],
        [
         "F-Osp",
         "St. Pierre and Miquelon"
        ],
        [
         "PK",
         "Indonesia"
        ],
        [
         "LY",
         "Lithuania"
        ],
        [
         "P",
         "North Korea"
        ],
        [
         "T8A",
         "Palau"
        ],
        [
         "6V",
         "Senegal"
        ],
        [
         "F",
         "France"
        ],
        [
         "EL",
         "Liberia"
        ],
        [
         "OH",
         "Finland"
        ],
        [
         "V7",
         "Marshall Islands"
        ],
        [
         "HP",
         "Panama"
        ],
        [
         "Bt",
         "Taiwan"
        ],
        [
         "F-Opo",
         "French Polynesia"
        ],
        [
         "OY",
         "Denmark"
        ],
        [
         "C5",
         "Gambia"
        ],
        [
         "9K",
         "Kuwait"
        ],
        [
         "CR-T",
         "Timor (East)"
        ],
        [
         "YJ",
         "Vanuatu"
        ],
        [
         "TT",
         "Chad"
        ],
        [
         "D",
         "Germany"
        ],
        [
         "YR",
         "Romania"
        ],
        [
         "3X",
         "Guinea"
        ],
        [
         "UR",
         "Ukraine"
        ],
        [
         "VH",
         "Australia"
        ],
        [
         "unk",
         "Unknown country"
        ],
        [
         "J5",
         "Guinea-Bissau"
        ],
        [
         "VP-F",
         "Falkland Islands"
        ],
        [
         "YL",
         "Latvia"
        ],
        [
         "3A",
         "Monaco"
        ],
        [
         "OE",
         "Austria"
        ],
        [
         "LZ",
         "Bulgaria"
        ],
        [
         "5R",
         "Madagascar"
        ],
        [
         "J8",
         "Saint Vincent and the Grenadines"
        ],
        [
         "F-Ore",
         "Réunion"
        ],
        [
         "YN",
         "Nicaragua"
        ],
        [
         "HB",
         "Switzerland"
        ],
        [
         "F-Ogu",
         "Guadeloupe"
        ],
        [
         "LV",
         "Argentina"
        ],
        [
         "V8",
         "Brunei"
        ],
        [
         "A3",
         "Tonga"
        ],
        [
         "4X",
         "Israel"
        ],
        [
         "VR-H",
         "Hong Kong"
        ],
        [
         "EX",
         "Kyrgyzstan"
        ],
        [
         "7Q",
         "Malawi"
        ],
        [
         "EU",
         "Europe"
        ]
       ],
       "datasetInfos": [],
       "dbfsResultPath": null,
       "isJsonSchema": true,
       "metadata": {},
       "overflow": false,
       "plotOptions": {
        "customPlotOptions": {},
        "displayType": "table",
        "pivotAggregation": null,
        "pivotColumns": null,
        "xColumns": null,
        "yColumns": null
       },
       "removedWidgets": [],
       "schema": [
        {
         "metadata": "{\"comment\":\"Unique ID, PK\"}",
         "name": "country_code",
         "type": "\"string\""
        },
        {
         "metadata": "{}",
         "name": "country_name",
         "type": "\"string\""
        }
       ],
       "type": "table"
      }
     },
     "output_type": "display_data"
    }
   ],
   "source": [
    "countries_silver_df = countries_silver_df.dropDuplicates()\n",
    "\n",
    "data = countries_silver_df.select(\"country_code\", \"country_name\").collect()\n",
    "\n",
    "countries_dim_df = spark.createDataFrame(data,schema)\n",
    "\n",
    "countries_dim_df.display()"
   ]
  },
  {
   "cell_type": "markdown",
   "metadata": {
    "application/vnd.databricks.v1+cell": {
     "cellMetadata": {
      "byteLimit": 2048000,
      "rowLimit": 10000
     },
     "inputWidgets": {},
     "nuid": "2af7a92a-f54d-4bf2-8efc-68f393fb8a8e",
     "showTitle": false,
     "title": ""
    }
   },
   "source": [
    "##Avaliando a qualidade dos dados\n",
    "- Testar se não há nulos em country_code\n",
    "- Testar se não há nulos em country_name"
   ]
  },
  {
   "cell_type": "code",
   "execution_count": 0,
   "metadata": {
    "application/vnd.databricks.v1+cell": {
     "cellMetadata": {
      "byteLimit": 2048000,
      "rowLimit": 10000
     },
     "inputWidgets": {},
     "nuid": "1c0cfcc2-2df2-4309-8bda-8985fa34ead2",
     "showTitle": false,
     "title": ""
    }
   },
   "outputs": [
    {
     "output_type": "stream",
     "name": "stdout",
     "output_type": "stream",
     "text": [
      "Avaliando a condição country_code não contem nulos\nAvaliando a condição country_name não contem nulos\n"
     ]
    }
   ],
   "source": [
    "# Testando a qualidade dos dados\n",
    "test_col_not_null(countries_dim_df,'country_code')\n",
    "test_col_not_null(countries_dim_df,'country_name')"
   ]
  },
  {
   "cell_type": "markdown",
   "metadata": {
    "application/vnd.databricks.v1+cell": {
     "cellMetadata": {
      "byteLimit": 2048000,
      "rowLimit": 10000
     },
     "inputWidgets": {},
     "nuid": "f68dc114-8de0-45b2-9c7d-27c468ed46e8",
     "showTitle": false,
     "title": ""
    }
   },
   "source": [
    "## Registrando dados no banco\n",
    "Após aprovação, salvamos o dado sanitizado no banco e verificamos se tivemos sucesso"
   ]
  },
  {
   "cell_type": "code",
   "execution_count": 0,
   "metadata": {
    "application/vnd.databricks.v1+cell": {
     "cellMetadata": {
      "byteLimit": 2048000,
      "rowLimit": 10000
     },
     "inputWidgets": {},
     "nuid": "8e4b7a2c-edcb-4b21-a091-c7be51acf156",
     "showTitle": false,
     "title": ""
    }
   },
   "outputs": [],
   "source": [
    "# Cria o banco de dados se ele não existir\n",
    "database_name = 'gold_database'\n",
    "table_name = 'gold_countries_dim'\n",
    "\n",
    "\n",
    "spark.sql(f\"CREATE DATABASE IF NOT EXISTS {database_name}\")\n",
    "\n",
    "# Salva o DataFrame como tabela Delta\n",
    "countries_dim_df.write.mode(\"overwrite\").format(\"delta\").option(\"mergeSchema\", \"true\").saveAsTable(\n",
    "    f\"{database_name}.{table_name}\"\n",
    ")"
   ]
  },
  {
   "cell_type": "code",
   "execution_count": 0,
   "metadata": {
    "application/vnd.databricks.v1+cell": {
     "cellMetadata": {
      "byteLimit": 2048000,
      "implicitDf": true,
      "rowLimit": 10000
     },
     "inputWidgets": {},
     "nuid": "c2cfc335-f7e0-401b-8391-6b971fc94297",
     "showTitle": false,
     "title": ""
    }
   },
   "outputs": [
    {
     "output_type": "display_data",
     "data": {
      "text/html": [
       "<style scoped>\n",
       "  .table-result-container {\n",
       "    max-height: 300px;\n",
       "    overflow: auto;\n",
       "  }\n",
       "  table, th, td {\n",
       "    border: 1px solid black;\n",
       "    border-collapse: collapse;\n",
       "  }\n",
       "  th, td {\n",
       "    padding: 5px;\n",
       "  }\n",
       "  th {\n",
       "    text-align: left;\n",
       "  }\n",
       "</style><div class='table-result-container'><table class='table-result'><thead style='background-color: white'><tr><th>country_code</th><th>country_name</th></tr></thead><tbody><tr><td>T2</td><td>Tuvalu</td></tr><tr><td>YK</td><td>Syria</td></tr><tr><td>EI</td><td>Ireland</td></tr><tr><td>F-Oma</td><td>Martinique</td></tr><tr><td>UK</td><td>Uzbekistan</td></tr><tr><td>VP-L</td><td>British Virgin Islands</td></tr><tr><td>TL</td><td>Central African Republic</td></tr><tr><td>T7</td><td>San Marino</td></tr><tr><td>OM</td><td>Slovakia</td></tr><tr><td>TG</td><td>Guatemala</td></tr><tr><td>VT</td><td>India</td></tr><tr><td>TJ</td><td>Cameroon</td></tr><tr><td>A6</td><td>United Arab Emirates</td></tr><tr><td>EZ</td><td>Turkmenistan</td></tr><tr><td>8Q</td><td>Maldives</td></tr><tr><td>5B</td><td>Cyprus</td></tr><tr><td>YUm</td><td>Montenegro</td></tr><tr><td>HZ</td><td>Saudi Arabia</td></tr><tr><td>OK</td><td>Czech Republic</td></tr><tr><td>V5</td><td>Namibia</td></tr><tr><td>nop</td><td>North Pole</td></tr><tr><td>atl</td><td>Atlantic Ocean</td></tr><tr><td>TU</td><td>Cote d'Ivoire</td></tr><tr><td>TY</td><td>Benin</td></tr><tr><td>PJ</td><td>Curaçao</td></tr><tr><td>DQ</td><td>Fiji</td></tr><tr><td>J3</td><td>Grenada</td></tr><tr><td>OD</td><td>Lebanon</td></tr><tr><td>LN</td><td>Norway</td></tr><tr><td>C5</td><td>Gambia</td></tr><tr><td>9K</td><td>Kuwait</td></tr><tr><td>CR-T</td><td>Timor (East)</td></tr><tr><td>YJ</td><td>Vanuatu</td></tr><tr><td>TT</td><td>Chad</td></tr><tr><td>D</td><td>Germany</td></tr><tr><td>YR</td><td>Romania</td></tr><tr><td>3X</td><td>Guinea</td></tr><tr><td>UR</td><td>Ukraine</td></tr><tr><td>VH</td><td>Australia</td></tr><tr><td>unk</td><td>Unknown country</td></tr><tr><td>J5</td><td>Guinea-Bissau</td></tr><tr><td>VP-F</td><td>Falkland Islands</td></tr><tr><td>YL</td><td>Latvia</td></tr><tr><td>3A</td><td>Monaco</td></tr><tr><td>OE</td><td>Austria</td></tr><tr><td>LZ</td><td>Bulgaria</td></tr><tr><td>5R</td><td>Madagascar</td></tr><tr><td>J8</td><td>Saint Vincent and the Grenadines</td></tr><tr><td>F-Ore</td><td>Réunion</td></tr><tr><td>YN</td><td>Nicaragua</td></tr><tr><td>HB</td><td>Switzerland</td></tr><tr><td>F-Ogu</td><td>Guadeloupe</td></tr><tr><td>LV</td><td>Argentina</td></tr><tr><td>V8</td><td>Brunei</td></tr><tr><td>A3</td><td>Tonga</td></tr><tr><td>4X</td><td>Israel</td></tr><tr><td>VR-H</td><td>Hong Kong</td></tr><tr><td>EX</td><td>Kyrgyzstan</td></tr><tr><td>7Q</td><td>Malawi</td></tr><tr><td>EU</td><td>Europe</td></tr><tr><td>9N</td><td>Nepal</td></tr><tr><td>HS</td><td>Thailand</td></tr><tr><td>A7</td><td>Qatar</td></tr><tr><td>med</td><td>Mediterranean Sea</td></tr><tr><td>9L</td><td>Sierra Leone</td></tr><tr><td>VQ-T</td><td>Turks and Caicos Islands</td></tr><tr><td>4K</td><td>Azerbaijan</td></tr><tr><td>OO</td><td>Belgium</td></tr><tr><td>V6</td><td>Micronesia</td></tr><tr><td>CR-T</td><td>East Timor</td></tr><tr><td>5A</td><td>Libya</td></tr><tr><td>TC</td><td>Turkey</td></tr><tr><td>C3</td><td>Andorra</td></tr><tr><td>J2</td><td>Djibouti</td></tr><tr><td>XT</td><td>Burkina Faso</td></tr><tr><td>ET</td><td>Ethiopia</td></tr><tr><td>Z3</td><td>Macedonia (FYROM)</td></tr><tr><td>OB</td><td>Peru</td></tr><tr><td>VP-M</td><td>Montserrat</td></tr><tr><td>LX</td><td>Luxembourg</td></tr><tr><td>TN</td><td>Congo</td></tr><tr><td>JA</td><td>Japan</td></tr><tr><td>VP-B</td><td>Bermuda</td></tr><tr><td>XU</td><td>Cambodia</td></tr><tr><td>C</td><td>Canada</td></tr><tr><td>TF</td><td>Iceland</td></tr><tr><td>9Q</td><td>Congo (former Zaire)</td></tr><tr><td>3C</td><td>Equatorial Guinea</td></tr><tr><td>E3</td><td>Eritrea</td></tr><tr><td>ES</td><td>Estonia</td></tr><tr><td>VN</td><td>Vietnam</td></tr><tr><td>EH</td><td>Western Sahara</td></tr><tr><td>S9</td><td>Sao Tome and Principe</td></tr><tr><td>S7</td><td>Seychelles</td></tr><tr><td>HC</td><td>Ecuador</td></tr><tr><td>EC</td><td>Spain</td></tr><tr><td>5X</td><td>Uganda</td></tr><tr><td>9Y</td><td>Trinidad and Tobago</td></tr><tr><td>7P</td><td>Lesotho</td></tr><tr><td>C9</td><td>Mozambique</td></tr><tr><td>9V</td><td>Singapore</td></tr><tr><td>P2</td><td>Papua New Guinea</td></tr><tr><td>V3</td><td>Belize</td></tr><tr><td>3B</td><td>Mauritius</td></tr><tr><td>XY</td><td>Myanmar</td></tr><tr><td>Npr</td><td>Puerto Rico</td></tr><tr><td>HL</td><td>South Korea</td></tr><tr><td>STss</td><td>South Sudan</td></tr><tr><td>pac</td><td>Pacific Ocean</td></tr><tr><td>JY</td><td>Jordan</td></tr><tr><td>B-M</td><td>Macau</td></tr><tr><td>5T</td><td>Mauritania</td></tr><tr><td>PH</td><td>Netherlands</td></tr><tr><td>H4</td><td>Solomon Islands</td></tr><tr><td>Z6</td><td>Kosovo</td></tr><tr><td>SX</td><td>Greece</td></tr><tr><td>9U</td><td>Burundi</td></tr><tr><td>5W</td><td>Samoa</td></tr><tr><td>VP-G</td><td>Gibraltar</td></tr><tr><td>F-Osp</td><td>Saint Pierre and Miquelon</td></tr><tr><td>Z</td><td>Zimbabwe</td></tr><tr><td>C2</td><td>Nauru</td></tr><tr><td>9G</td><td>Ghana</td></tr><tr><td>RP</td><td>Philippines</td></tr><tr><td>T3</td><td>Kiribati</td></tr><tr><td>8R</td><td>Guyana</td></tr><tr><td>TI</td><td>Costa Rica</td></tr><tr><td>9M</td><td>Malaysia</td></tr><tr><td>Nas</td><td>American Samoa</td></tr><tr><td>9H</td><td>Malta</td></tr><tr><td>MT</td><td>Mongolia</td></tr><tr><td>N</td><td>USA</td></tr><tr><td>SU</td><td>Egypt</td></tr><tr><td>F-Osp</td><td>St. Pierre and Miquelon</td></tr><tr><td>PK</td><td>Indonesia</td></tr><tr><td>LY</td><td>Lithuania</td></tr><tr><td>P</td><td>North Korea</td></tr><tr><td>T8A</td><td>Palau</td></tr><tr><td>6V</td><td>Senegal</td></tr><tr><td>F</td><td>France</td></tr><tr><td>EL</td><td>Liberia</td></tr><tr><td>OH</td><td>Finland</td></tr><tr><td>V7</td><td>Marshall Islands</td></tr><tr><td>HP</td><td>Panama</td></tr><tr><td>Bt</td><td>Taiwan</td></tr><tr><td>F-Opo</td><td>French Polynesia</td></tr><tr><td>OY</td><td>Denmark</td></tr><tr><td>EK</td><td>Armenia</td></tr><tr><td>V2</td><td>Antigua and Barbuda</td></tr><tr><td>J7</td><td>Dominica</td></tr><tr><td>G</td><td>United Kingdom</td></tr><tr><td>8P</td><td>Barbados</td></tr><tr><td>TZ</td><td>Mali</td></tr><tr><td>RA</td><td>Russia</td></tr><tr><td>ER</td><td>Moldova</td></tr><tr><td>CX</td><td>Uruguay</td></tr><tr><td>F-Onc</td><td>New Caledonia</td></tr><tr><td>Nnm</td><td>Northern Mariana Islands</td></tr><tr><td>CU</td><td>Cuba</td></tr><tr><td>CP</td><td>Bolivia</td></tr><tr><td>A9C</td><td>Bahrain</td></tr><tr><td>S2</td><td>Bangladesh</td></tr><tr><td>AP</td><td>Pakistan</td></tr><tr><td>ZK</td><td>New Zealand</td></tr><tr><td>YV</td><td>Venezuela</td></tr><tr><td>I</td><td>Italy</td></tr><tr><td>9J</td><td>Zambia</td></tr><tr><td>ZP</td><td>Paraguay</td></tr><tr><td>5N</td><td>Nigeria</td></tr><tr><td>TS</td><td>Tunisia</td></tr><tr><td>C6</td><td>Bahamas</td></tr><tr><td>5Y</td><td>Kenya</td></tr><tr><td>PZ</td><td>Suriname</td></tr><tr><td>HH</td><td>Haiti</td></tr><tr><td>9XR</td><td>Rwanda</td></tr><tr><td>Gsh</td><td>Saint Helena</td></tr><tr><td>ST</td><td>Sudan</td></tr><tr><td>SE</td><td>Sweden</td></tr><tr><td>YA</td><td>Afghanistan</td></tr><tr><td>ZA</td><td>Albania</td></tr><tr><td>B</td><td>China</td></tr><tr><td>4L</td><td>Georgia</td></tr><tr><td>YI</td><td>Iraq</td></tr><tr><td>PJbes</td><td>Caribbean Netherlands</td></tr><tr><td>D4</td><td>Cape Verde</td></tr><tr><td>OYg</td><td>Greenland</td></tr><tr><td>Ngu</td><td>Guam</td></tr><tr><td>P4</td><td>Aruba</td></tr><tr><td>VP-C</td><td>Cayman Islands</td></tr><tr><td>ant</td><td>Antarctica</td></tr><tr><td>F-Ofg</td><td>French Guiana</td></tr><tr><td>PP</td><td>Brazil</td></tr><tr><td>CC</td><td>Chile</td></tr><tr><td>CS</td><td>Portugal</td></tr><tr><td>5H</td><td>Tanzania</td></tr><tr><td>EW</td><td>Belarus</td></tr><tr><td>ind</td><td>Indian Ocean</td></tr><tr><td>VP-A</td><td>Anguilla</td></tr><tr><td>J6</td><td>Saint Lucia</td></tr><tr><td>HK</td><td>Colombia</td></tr><tr><td>T9</td><td>Bosnia and Herzegovina</td></tr><tr><td>YU</td><td>Serbia</td></tr><tr><td>5U</td><td>Niger</td></tr><tr><td>RDPL</td><td>Laos</td></tr><tr><td>HA</td><td>Hungary</td></tr><tr><td>UN</td><td>Kazakhstan</td></tr><tr><td>S5</td><td>Slovenia</td></tr><tr><td>HI</td><td>Dominican Republic</td></tr><tr><td>Nmo</td><td>U.S. Minor Outlying Islands</td></tr><tr><td>PJsm</td><td>Sint Maarten</td></tr><tr><td>YS</td><td>El Salvador</td></tr><tr><td>SP</td><td>Poland</td></tr><tr><td>V4</td><td>St. Kitts and Nevis</td></tr><tr><td>D2</td><td>Angola</td></tr><tr><td>XA</td><td>Mexico</td></tr><tr><td>7O</td><td>Yemen</td></tr><tr><td>D6</td><td>Comoros</td></tr><tr><td>EP</td><td>Iran</td></tr><tr><td>4R</td><td>Sri Lanka</td></tr><tr><td>ZS</td><td>South Africa</td></tr><tr><td>7T</td><td>Algeria</td></tr><tr><td>A2</td><td>Botswana</td></tr><tr><td>9A</td><td>Croatia</td></tr><tr><td>Nvi</td><td>Virgin Islands (U.S.)</td></tr><tr><td>HR</td><td>Honduras</td></tr><tr><td>CN</td><td>Morocco</td></tr><tr><td>TR</td><td>Gabon</td></tr><tr><td>A4O</td><td>Oman</td></tr><tr><td>A5</td><td>Bhutan</td></tr><tr><td>6O</td><td>Somalia</td></tr><tr><td>EY</td><td>Tajikistan</td></tr><tr><td>3D</td><td>Eswatini</td></tr><tr><td>6Y</td><td>Jamaica</td></tr><tr><td>5V</td><td>Togo</td></tr></tbody></table></div>"
      ]
     },
     "metadata": {
      "application/vnd.databricks.v1+output": {
       "addedWidgets": {},
       "aggData": [],
       "aggError": "",
       "aggOverflow": false,
       "aggSchema": [],
       "aggSeriesLimitReached": false,
       "aggType": "",
       "arguments": {},
       "columnCustomDisplayInfos": {},
       "data": [
        [
         "T2",
         "Tuvalu"
        ],
        [
         "YK",
         "Syria"
        ],
        [
         "EI",
         "Ireland"
        ],
        [
         "F-Oma",
         "Martinique"
        ],
        [
         "UK",
         "Uzbekistan"
        ],
        [
         "VP-L",
         "British Virgin Islands"
        ],
        [
         "TL",
         "Central African Republic"
        ],
        [
         "T7",
         "San Marino"
        ],
        [
         "OM",
         "Slovakia"
        ],
        [
         "TG",
         "Guatemala"
        ],
        [
         "VT",
         "India"
        ],
        [
         "TJ",
         "Cameroon"
        ],
        [
         "A6",
         "United Arab Emirates"
        ],
        [
         "EZ",
         "Turkmenistan"
        ],
        [
         "8Q",
         "Maldives"
        ],
        [
         "5B",
         "Cyprus"
        ],
        [
         "YUm",
         "Montenegro"
        ],
        [
         "HZ",
         "Saudi Arabia"
        ],
        [
         "OK",
         "Czech Republic"
        ],
        [
         "V5",
         "Namibia"
        ],
        [
         "nop",
         "North Pole"
        ],
        [
         "atl",
         "Atlantic Ocean"
        ],
        [
         "TU",
         "Cote d'Ivoire"
        ],
        [
         "TY",
         "Benin"
        ],
        [
         "PJ",
         "Curaçao"
        ],
        [
         "DQ",
         "Fiji"
        ],
        [
         "J3",
         "Grenada"
        ],
        [
         "OD",
         "Lebanon"
        ],
        [
         "LN",
         "Norway"
        ],
        [
         "C5",
         "Gambia"
        ],
        [
         "9K",
         "Kuwait"
        ],
        [
         "CR-T",
         "Timor (East)"
        ],
        [
         "YJ",
         "Vanuatu"
        ],
        [
         "TT",
         "Chad"
        ],
        [
         "D",
         "Germany"
        ],
        [
         "YR",
         "Romania"
        ],
        [
         "3X",
         "Guinea"
        ],
        [
         "UR",
         "Ukraine"
        ],
        [
         "VH",
         "Australia"
        ],
        [
         "unk",
         "Unknown country"
        ],
        [
         "J5",
         "Guinea-Bissau"
        ],
        [
         "VP-F",
         "Falkland Islands"
        ],
        [
         "YL",
         "Latvia"
        ],
        [
         "3A",
         "Monaco"
        ],
        [
         "OE",
         "Austria"
        ],
        [
         "LZ",
         "Bulgaria"
        ],
        [
         "5R",
         "Madagascar"
        ],
        [
         "J8",
         "Saint Vincent and the Grenadines"
        ],
        [
         "F-Ore",
         "Réunion"
        ],
        [
         "YN",
         "Nicaragua"
        ],
        [
         "HB",
         "Switzerland"
        ],
        [
         "F-Ogu",
         "Guadeloupe"
        ],
        [
         "LV",
         "Argentina"
        ],
        [
         "V8",
         "Brunei"
        ],
        [
         "A3",
         "Tonga"
        ],
        [
         "4X",
         "Israel"
        ],
        [
         "VR-H",
         "Hong Kong"
        ],
        [
         "EX",
         "Kyrgyzstan"
        ],
        [
         "7Q",
         "Malawi"
        ],
        [
         "EU",
         "Europe"
        ],
        [
         "9N",
         "Nepal"
        ],
        [
         "HS",
         "Thailand"
        ],
        [
         "A7",
         "Qatar"
        ],
        [
         "med",
         "Mediterranean Sea"
        ],
        [
         "9L",
         "Sierra Leone"
        ],
        [
         "VQ-T",
         "Turks and Caicos Islands"
        ],
        [
         "4K",
         "Azerbaijan"
        ],
        [
         "OO",
         "Belgium"
        ],
        [
         "V6",
         "Micronesia"
        ],
        [
         "CR-T",
         "East Timor"
        ],
        [
         "5A",
         "Libya"
        ],
        [
         "TC",
         "Turkey"
        ],
        [
         "C3",
         "Andorra"
        ],
        [
         "J2",
         "Djibouti"
        ],
        [
         "XT",
         "Burkina Faso"
        ],
        [
         "ET",
         "Ethiopia"
        ],
        [
         "Z3",
         "Macedonia (FYROM)"
        ],
        [
         "OB",
         "Peru"
        ],
        [
         "VP-M",
         "Montserrat"
        ],
        [
         "LX",
         "Luxembourg"
        ],
        [
         "TN",
         "Congo"
        ],
        [
         "JA",
         "Japan"
        ],
        [
         "VP-B",
         "Bermuda"
        ],
        [
         "XU",
         "Cambodia"
        ],
        [
         "C",
         "Canada"
        ],
        [
         "TF",
         "Iceland"
        ],
        [
         "9Q",
         "Congo (former Zaire)"
        ],
        [
         "3C",
         "Equatorial Guinea"
        ],
        [
         "E3",
         "Eritrea"
        ],
        [
         "ES",
         "Estonia"
        ],
        [
         "VN",
         "Vietnam"
        ],
        [
         "EH",
         "Western Sahara"
        ],
        [
         "S9",
         "Sao Tome and Principe"
        ],
        [
         "S7",
         "Seychelles"
        ],
        [
         "HC",
         "Ecuador"
        ],
        [
         "EC",
         "Spain"
        ],
        [
         "5X",
         "Uganda"
        ],
        [
         "9Y",
         "Trinidad and Tobago"
        ],
        [
         "7P",
         "Lesotho"
        ],
        [
         "C9",
         "Mozambique"
        ],
        [
         "9V",
         "Singapore"
        ],
        [
         "P2",
         "Papua New Guinea"
        ],
        [
         "V3",
         "Belize"
        ],
        [
         "3B",
         "Mauritius"
        ],
        [
         "XY",
         "Myanmar"
        ],
        [
         "Npr",
         "Puerto Rico"
        ],
        [
         "HL",
         "South Korea"
        ],
        [
         "STss",
         "South Sudan"
        ],
        [
         "pac",
         "Pacific Ocean"
        ],
        [
         "JY",
         "Jordan"
        ],
        [
         "B-M",
         "Macau"
        ],
        [
         "5T",
         "Mauritania"
        ],
        [
         "PH",
         "Netherlands"
        ],
        [
         "H4",
         "Solomon Islands"
        ],
        [
         "Z6",
         "Kosovo"
        ],
        [
         "SX",
         "Greece"
        ],
        [
         "9U",
         "Burundi"
        ],
        [
         "5W",
         "Samoa"
        ],
        [
         "VP-G",
         "Gibraltar"
        ],
        [
         "F-Osp",
         "Saint Pierre and Miquelon"
        ],
        [
         "Z",
         "Zimbabwe"
        ],
        [
         "C2",
         "Nauru"
        ],
        [
         "9G",
         "Ghana"
        ],
        [
         "RP",
         "Philippines"
        ],
        [
         "T3",
         "Kiribati"
        ],
        [
         "8R",
         "Guyana"
        ],
        [
         "TI",
         "Costa Rica"
        ],
        [
         "9M",
         "Malaysia"
        ],
        [
         "Nas",
         "American Samoa"
        ],
        [
         "9H",
         "Malta"
        ],
        [
         "MT",
         "Mongolia"
        ],
        [
         "N",
         "USA"
        ],
        [
         "SU",
         "Egypt"
        ],
        [
         "F-Osp",
         "St. Pierre and Miquelon"
        ],
        [
         "PK",
         "Indonesia"
        ],
        [
         "LY",
         "Lithuania"
        ],
        [
         "P",
         "North Korea"
        ],
        [
         "T8A",
         "Palau"
        ],
        [
         "6V",
         "Senegal"
        ],
        [
         "F",
         "France"
        ],
        [
         "EL",
         "Liberia"
        ],
        [
         "OH",
         "Finland"
        ],
        [
         "V7",
         "Marshall Islands"
        ],
        [
         "HP",
         "Panama"
        ],
        [
         "Bt",
         "Taiwan"
        ],
        [
         "F-Opo",
         "French Polynesia"
        ],
        [
         "OY",
         "Denmark"
        ],
        [
         "EK",
         "Armenia"
        ],
        [
         "V2",
         "Antigua and Barbuda"
        ],
        [
         "J7",
         "Dominica"
        ],
        [
         "G",
         "United Kingdom"
        ],
        [
         "8P",
         "Barbados"
        ],
        [
         "TZ",
         "Mali"
        ],
        [
         "RA",
         "Russia"
        ],
        [
         "ER",
         "Moldova"
        ],
        [
         "CX",
         "Uruguay"
        ],
        [
         "F-Onc",
         "New Caledonia"
        ],
        [
         "Nnm",
         "Northern Mariana Islands"
        ],
        [
         "CU",
         "Cuba"
        ],
        [
         "CP",
         "Bolivia"
        ],
        [
         "A9C",
         "Bahrain"
        ],
        [
         "S2",
         "Bangladesh"
        ],
        [
         "AP",
         "Pakistan"
        ],
        [
         "ZK",
         "New Zealand"
        ],
        [
         "YV",
         "Venezuela"
        ],
        [
         "I",
         "Italy"
        ],
        [
         "9J",
         "Zambia"
        ],
        [
         "ZP",
         "Paraguay"
        ],
        [
         "5N",
         "Nigeria"
        ],
        [
         "TS",
         "Tunisia"
        ],
        [
         "C6",
         "Bahamas"
        ],
        [
         "5Y",
         "Kenya"
        ],
        [
         "PZ",
         "Suriname"
        ],
        [
         "HH",
         "Haiti"
        ],
        [
         "9XR",
         "Rwanda"
        ],
        [
         "Gsh",
         "Saint Helena"
        ],
        [
         "ST",
         "Sudan"
        ],
        [
         "SE",
         "Sweden"
        ],
        [
         "YA",
         "Afghanistan"
        ],
        [
         "ZA",
         "Albania"
        ],
        [
         "B",
         "China"
        ],
        [
         "4L",
         "Georgia"
        ],
        [
         "YI",
         "Iraq"
        ],
        [
         "PJbes",
         "Caribbean Netherlands"
        ],
        [
         "D4",
         "Cape Verde"
        ],
        [
         "OYg",
         "Greenland"
        ],
        [
         "Ngu",
         "Guam"
        ],
        [
         "P4",
         "Aruba"
        ],
        [
         "VP-C",
         "Cayman Islands"
        ],
        [
         "ant",
         "Antarctica"
        ],
        [
         "F-Ofg",
         "French Guiana"
        ],
        [
         "PP",
         "Brazil"
        ],
        [
         "CC",
         "Chile"
        ],
        [
         "CS",
         "Portugal"
        ],
        [
         "5H",
         "Tanzania"
        ],
        [
         "EW",
         "Belarus"
        ],
        [
         "ind",
         "Indian Ocean"
        ],
        [
         "VP-A",
         "Anguilla"
        ],
        [
         "J6",
         "Saint Lucia"
        ],
        [
         "HK",
         "Colombia"
        ],
        [
         "T9",
         "Bosnia and Herzegovina"
        ],
        [
         "YU",
         "Serbia"
        ],
        [
         "5U",
         "Niger"
        ],
        [
         "RDPL",
         "Laos"
        ],
        [
         "HA",
         "Hungary"
        ],
        [
         "UN",
         "Kazakhstan"
        ],
        [
         "S5",
         "Slovenia"
        ],
        [
         "HI",
         "Dominican Republic"
        ],
        [
         "Nmo",
         "U.S. Minor Outlying Islands"
        ],
        [
         "PJsm",
         "Sint Maarten"
        ],
        [
         "YS",
         "El Salvador"
        ],
        [
         "SP",
         "Poland"
        ],
        [
         "V4",
         "St. Kitts and Nevis"
        ],
        [
         "D2",
         "Angola"
        ],
        [
         "XA",
         "Mexico"
        ],
        [
         "7O",
         "Yemen"
        ],
        [
         "D6",
         "Comoros"
        ],
        [
         "EP",
         "Iran"
        ],
        [
         "4R",
         "Sri Lanka"
        ],
        [
         "ZS",
         "South Africa"
        ],
        [
         "7T",
         "Algeria"
        ],
        [
         "A2",
         "Botswana"
        ],
        [
         "9A",
         "Croatia"
        ],
        [
         "Nvi",
         "Virgin Islands (U.S.)"
        ],
        [
         "HR",
         "Honduras"
        ],
        [
         "CN",
         "Morocco"
        ],
        [
         "TR",
         "Gabon"
        ],
        [
         "A4O",
         "Oman"
        ],
        [
         "A5",
         "Bhutan"
        ],
        [
         "6O",
         "Somalia"
        ],
        [
         "EY",
         "Tajikistan"
        ],
        [
         "3D",
         "Eswatini"
        ],
        [
         "6Y",
         "Jamaica"
        ],
        [
         "5V",
         "Togo"
        ]
       ],
       "datasetInfos": [],
       "dbfsResultPath": null,
       "isJsonSchema": true,
       "metadata": {
        "dataframeName": "_sqldf",
        "executionCount": 7
       },
       "overflow": false,
       "plotOptions": {
        "customPlotOptions": {},
        "displayType": "table",
        "pivotAggregation": null,
        "pivotColumns": null,
        "xColumns": null,
        "yColumns": null
       },
       "removedWidgets": [],
       "schema": [
        {
         "metadata": "{}",
         "name": "country_code",
         "type": "\"string\""
        },
        {
         "metadata": "{}",
         "name": "country_name",
         "type": "\"string\""
        }
       ],
       "type": "table"
      }
     },
     "output_type": "display_data"
    }
   ],
   "source": [
    "%sql\n",
    "SELECT * from gold_database.gold_countries_dim"
   ]
  },
  {
   "cell_type": "code",
   "execution_count": 0,
   "metadata": {
    "application/vnd.databricks.v1+cell": {
     "cellMetadata": {
      "byteLimit": 2048000,
      "rowLimit": 10000
     },
     "inputWidgets": {},
     "nuid": "2fd8d29d-e793-47a6-8539-923026e10153",
     "showTitle": false,
     "title": ""
    }
   },
   "outputs": [
    {
     "output_type": "execute_result",
     "data": {
      "text/plain": [
       "'\\nFinalizando build_country_dim\\n'"
      ]
     },
     "execution_count": 8,
     "metadata": {},
     "output_type": "execute_result"
    }
   ],
   "source": [
    "'''\n",
    "Finalizando build_country_dim\n",
    "'''"
   ]
  }
 ],
 "metadata": {
  "application/vnd.databricks.v1+notebook": {
   "dashboards": [],
   "environmentMetadata": null,
   "language": "python",
   "notebookMetadata": {
    "mostRecentlyExecutedCommandWithImplicitDF": {
     "commandId": 1922041929046042,
     "dataframes": [
      "_sqldf"
     ]
    },
    "pythonIndentUnit": 4
   },
   "notebookName": "build_country_dim",
   "widgets": {}
  }
 },
 "nbformat": 4,
 "nbformat_minor": 0
}
